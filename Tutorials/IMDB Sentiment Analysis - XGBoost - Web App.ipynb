{
 "cells": [
  {
   "cell_type": "markdown",
   "metadata": {},
   "source": [
    "# Sentiment Analysis Web App\n",
    "\n",
    "_Deep Learning Nanodegree Program | Deployment_\n",
    "\n",
    "---\n",
    "\n",
    "In this notebook we will use Amazon's SageMaker service to construct a random tree model to predict the sentiment of a movie review. In addition, we will deploy this model to an endpoint and construct a very simple web app which will interact with our model's deployed endpoint.\n",
    "\n",
    "## General Outline\n",
    "\n",
    "Typically, when using a notebook instance with SageMaker, you will proceed through the following steps. Of course, not every step will need to be done with each project. Also, there is quite a lot of room for variation in many of the steps, as you will see throughout these lessons.\n",
    "\n",
    "1. Download or otherwise retrieve the data.\n",
    "2. Process / Prepare the data.\n",
    "3. Upload the processed data to S3.\n",
    "4. Train a chosen model.\n",
    "5. Test the trained model (typically using a batch transform job).\n",
    "6. Deploy the trained model.\n",
    "7. Use the deployed model.\n",
    "\n",
    "In this notebook we will progress through each of the steps above. We will also see that the final step, using the deployed model, can be quite challenging."
   ]
  },
  {
   "cell_type": "markdown",
   "metadata": {},
   "source": [
    "## Step 1: Downloading the data\n",
    "\n",
    "The dataset we are going to use is very popular among researchers in Natural Language Processing, usually referred to as the [IMDb dataset](http://ai.stanford.edu/~amaas/data/sentiment/). It consists of movie reviews from the website [imdb.com](http://www.imdb.com/), each labeled as either '**pos**itive', if the reviewer enjoyed the film, or '**neg**ative' otherwise.\n",
    "\n",
    "> Maas, Andrew L., et al. [Learning Word Vectors for Sentiment Analysis](http://ai.stanford.edu/~amaas/data/sentiment/). In _Proceedings of the 49th Annual Meeting of the Association for Computational Linguistics: Human Language Technologies_. Association for Computational Linguistics, 2011.\n",
    "\n",
    "We begin by using some Jupyter Notebook magic to download and extract the dataset."
   ]
  },
  {
   "cell_type": "code",
   "execution_count": 1,
   "metadata": {},
   "outputs": [
    {
     "name": "stdout",
     "output_type": "stream",
     "text": [
      "mkdir: cannot create directory ‘../data’: File exists\n",
      "--2020-05-01 13:46:55--  http://ai.stanford.edu/~amaas/data/sentiment/aclImdb_v1.tar.gz\n",
      "Resolving ai.stanford.edu (ai.stanford.edu)... 171.64.68.10\n",
      "Connecting to ai.stanford.edu (ai.stanford.edu)|171.64.68.10|:80... connected.\n",
      "HTTP request sent, awaiting response... 200 OK\n",
      "Length: 84125825 (80M) [application/x-gzip]\n",
      "Saving to: ‘../data/aclImdb_v1.tar.gz’\n",
      "\n",
      "../data/aclImdb_v1. 100%[===================>]  80.23M  23.2MB/s    in 4.6s    \n",
      "\n",
      "2020-05-01 13:47:00 (17.3 MB/s) - ‘../data/aclImdb_v1.tar.gz’ saved [84125825/84125825]\n",
      "\n"
     ]
    }
   ],
   "source": [
    "%mkdir ../data\n",
    "!wget -O ../data/aclImdb_v1.tar.gz http://ai.stanford.edu/~amaas/data/sentiment/aclImdb_v1.tar.gz\n",
    "!tar -zxf ../data/aclImdb_v1.tar.gz -C ../data"
   ]
  },
  {
   "cell_type": "markdown",
   "metadata": {},
   "source": [
    "## Step 2: Preparing and Processing the data\n",
    "\n",
    "The data we have downloaded is split into various files, each of which contains a single review. It will be much easier going forward if we combine these individual files into two large files, one for training and one for testing."
   ]
  },
  {
   "cell_type": "code",
   "execution_count": 2,
   "metadata": {},
   "outputs": [],
   "source": [
    "import os\n",
    "import glob\n",
    "\n",
    "def read_imdb_data(data_dir='../data/aclImdb'):\n",
    "    data = {}\n",
    "    labels = {}\n",
    "    \n",
    "    for data_type in ['train', 'test']:\n",
    "        data[data_type] = {}\n",
    "        labels[data_type] = {}\n",
    "        \n",
    "        for sentiment in ['pos', 'neg']:\n",
    "            data[data_type][sentiment] = []\n",
    "            labels[data_type][sentiment] = []\n",
    "            \n",
    "            path = os.path.join(data_dir, data_type, sentiment, '*.txt')\n",
    "            files = glob.glob(path)\n",
    "            \n",
    "            for f in files:\n",
    "                with open(f) as review:\n",
    "                    data[data_type][sentiment].append(review.read())\n",
    "                    # Here we represent a positive review by '1' and a negative review by '0'\n",
    "                    labels[data_type][sentiment].append(1 if sentiment == 'pos' else 0)\n",
    "                    \n",
    "            assert len(data[data_type][sentiment]) == len(labels[data_type][sentiment]), \\\n",
    "                    \"{}/{} data size does not match labels size\".format(data_type, sentiment)\n",
    "                \n",
    "    return data, labels"
   ]
  },
  {
   "cell_type": "code",
   "execution_count": 3,
   "metadata": {},
   "outputs": [
    {
     "name": "stdout",
     "output_type": "stream",
     "text": [
      "IMDB reviews: train = 12500 pos / 12500 neg, test = 12500 pos / 12500 neg\n"
     ]
    }
   ],
   "source": [
    "data, labels = read_imdb_data()\n",
    "print(\"IMDB reviews: train = {} pos / {} neg, test = {} pos / {} neg\".format(\n",
    "            len(data['train']['pos']), len(data['train']['neg']),\n",
    "            len(data['test']['pos']), len(data['test']['neg'])))"
   ]
  },
  {
   "cell_type": "code",
   "execution_count": 4,
   "metadata": {},
   "outputs": [],
   "source": [
    "from sklearn.utils import shuffle\n",
    "\n",
    "def prepare_imdb_data(data, labels):\n",
    "    \"\"\"Prepare training and test sets from IMDb movie reviews.\"\"\"\n",
    "    \n",
    "    #Combine positive and negative reviews and labels\n",
    "    data_train = data['train']['pos'] + data['train']['neg']\n",
    "    data_test = data['test']['pos'] + data['test']['neg']\n",
    "    labels_train = labels['train']['pos'] + labels['train']['neg']\n",
    "    labels_test = labels['test']['pos'] + labels['test']['neg']\n",
    "    \n",
    "    #Shuffle reviews and corresponding labels within training and test sets\n",
    "    data_train, labels_train = shuffle(data_train, labels_train)\n",
    "    data_test, labels_test = shuffle(data_test, labels_test)\n",
    "    \n",
    "    # Return a unified training data, test data, training labels, test labets\n",
    "    return data_train, data_test, labels_train, labels_test"
   ]
  },
  {
   "cell_type": "code",
   "execution_count": 5,
   "metadata": {},
   "outputs": [
    {
     "name": "stdout",
     "output_type": "stream",
     "text": [
      "IMDb reviews (combined): train = 25000, test = 25000\n"
     ]
    }
   ],
   "source": [
    "train_X, test_X, train_y, test_y = prepare_imdb_data(data, labels)\n",
    "print(\"IMDb reviews (combined): train = {}, test = {}\".format(len(train_X), len(test_X)))"
   ]
  },
  {
   "cell_type": "code",
   "execution_count": 6,
   "metadata": {},
   "outputs": [
    {
     "data": {
      "text/plain": [
       "\"'Arms and the Man' is one of Shaw's funniest plays if handled correctly, and this production does a good enough job. Helena Bonham-Carter, pre-film stardom, is Raina, the daughter of a military family, who has a peacock of a fiancé (Patrick Ryecart), and who shelters a soldier from the enemy (Pip Torrens) during a raid on the town.<br /><br />Full of colour and energy, this production rips along at a good pace, and if Bonham-Carter and Patsy Kensit as the maid are outshone a bit by the rest of the cast, they still hold their ground. Kika Markham and Dinsdale Landen as the parents are delightful, and the whole play is generally a happy one.<br /><br />Highly recommended.\""
      ]
     },
     "execution_count": 6,
     "metadata": {},
     "output_type": "execute_result"
    }
   ],
   "source": [
    "train_X[100]"
   ]
  },
  {
   "cell_type": "markdown",
   "metadata": {},
   "source": [
    "## Processing the data\n",
    "\n",
    "Now that we have our training and testing datasets merged and ready to use, we need to start processing the raw data into something that will be useable by our machine learning algorithm. To begin with, we remove any html formatting and any non-alpha numeric characters that may appear in the reviews. We will do this in a very simplistic way using Python's regular expression module. We will discuss the reason for this rather simplistic pre-processing later on."
   ]
  },
  {
   "cell_type": "code",
   "execution_count": 7,
   "metadata": {},
   "outputs": [],
   "source": [
    "import re\n",
    "\n",
    "REPLACE_NO_SPACE = re.compile(\"(\\.)|(\\;)|(\\:)|(\\!)|(\\')|(\\?)|(\\,)|(\\\")|(\\()|(\\))|(\\[)|(\\])\")\n",
    "REPLACE_WITH_SPACE = re.compile(\"(<br\\s*/><br\\s*/>)|(\\-)|(\\/)\")\n",
    "\n",
    "def review_to_words(review):\n",
    "    words = REPLACE_NO_SPACE.sub(\"\", review.lower())\n",
    "    words = REPLACE_WITH_SPACE.sub(\" \", words)\n",
    "    return words"
   ]
  },
  {
   "cell_type": "code",
   "execution_count": 8,
   "metadata": {},
   "outputs": [
    {
     "data": {
      "text/plain": [
       "'arms and the man is one of shaws funniest plays if handled correctly and this production does a good enough job helena bonham carter pre film stardom is raina the daughter of a military family who has a peacock of a fiancé patrick ryecart and who shelters a soldier from the enemy pip torrens during a raid on the town full of colour and energy this production rips along at a good pace and if bonham carter and patsy kensit as the maid are outshone a bit by the rest of the cast they still hold their ground kika markham and dinsdale landen as the parents are delightful and the whole play is generally a happy one highly recommended'"
      ]
     },
     "execution_count": 8,
     "metadata": {},
     "output_type": "execute_result"
    }
   ],
   "source": [
    "review_to_words(train_X[100])"
   ]
  },
  {
   "cell_type": "code",
   "execution_count": 9,
   "metadata": {},
   "outputs": [],
   "source": [
    "import pickle\n",
    "\n",
    "cache_dir = os.path.join(\"../cache\", \"sentiment_web_app\")  # where to store cache files\n",
    "os.makedirs(cache_dir, exist_ok=True)  # ensure cache directory exists\n",
    "\n",
    "def preprocess_data(data_train, data_test, labels_train, labels_test,\n",
    "                    cache_dir=cache_dir, cache_file=\"preprocessed_data.pkl\"):\n",
    "    \"\"\"Convert each review to words; read from cache if available.\"\"\"\n",
    "\n",
    "    # If cache_file is not None, try to read from it first\n",
    "    cache_data = None\n",
    "    if cache_file is not None:\n",
    "        try:\n",
    "            with open(os.path.join(cache_dir, cache_file), \"rb\") as f:\n",
    "                cache_data = pickle.load(f)\n",
    "            print(\"Read preprocessed data from cache file:\", cache_file)\n",
    "        except:\n",
    "            pass  # unable to read from cache, but that's okay\n",
    "    \n",
    "    # If cache is missing, then do the heavy lifting\n",
    "    if cache_data is None:\n",
    "        # Preprocess training and test data to obtain words for each review\n",
    "        #words_train = list(map(review_to_words, data_train))\n",
    "        #words_test = list(map(review_to_words, data_test))\n",
    "        words_train = [review_to_words(review) for review in data_train]\n",
    "        words_test = [review_to_words(review) for review in data_test]\n",
    "        \n",
    "        # Write to cache file for future runs\n",
    "        if cache_file is not None:\n",
    "            cache_data = dict(words_train=words_train, words_test=words_test,\n",
    "                              labels_train=labels_train, labels_test=labels_test)\n",
    "            with open(os.path.join(cache_dir, cache_file), \"wb\") as f:\n",
    "                pickle.dump(cache_data, f)\n",
    "            print(\"Wrote preprocessed data to cache file:\", cache_file)\n",
    "    else:\n",
    "        # Unpack data loaded from cache file\n",
    "        words_train, words_test, labels_train, labels_test = (cache_data['words_train'],\n",
    "                cache_data['words_test'], cache_data['labels_train'], cache_data['labels_test'])\n",
    "    \n",
    "    return words_train, words_test, labels_train, labels_test"
   ]
  },
  {
   "cell_type": "code",
   "execution_count": 10,
   "metadata": {},
   "outputs": [
    {
     "name": "stdout",
     "output_type": "stream",
     "text": [
      "Wrote preprocessed data to cache file: preprocessed_data.pkl\n"
     ]
    }
   ],
   "source": [
    "# Preprocess data\n",
    "train_X, test_X, train_y, test_y = preprocess_data(train_X, test_X, train_y, test_y)"
   ]
  },
  {
   "cell_type": "markdown",
   "metadata": {},
   "source": [
    "### Extract Bag-of-Words features\n",
    "\n",
    "For the model we will be implementing, rather than using the reviews directly, we are going to transform each review into a Bag-of-Words feature representation. Keep in mind that 'in the wild' we will only have access to the training set so our transformer can only use the training set to construct a representation."
   ]
  },
  {
   "cell_type": "code",
   "execution_count": 11,
   "metadata": {},
   "outputs": [],
   "source": [
    "import numpy as np\n",
    "from sklearn.feature_extraction.text import CountVectorizer\n",
    "from sklearn.externals import joblib\n",
    "# joblib is an enhanced version of pickle that is more efficient for storing NumPy arrays\n",
    "\n",
    "def extract_BoW_features(words_train, words_test, vocabulary_size=5000,\n",
    "                         cache_dir=cache_dir, cache_file=\"bow_features.pkl\"):\n",
    "    \"\"\"Extract Bag-of-Words for a given set of documents, already preprocessed into words.\"\"\"\n",
    "    \n",
    "    # If cache_file is not None, try to read from it first\n",
    "    cache_data = None\n",
    "    if cache_file is not None:\n",
    "        try:\n",
    "            with open(os.path.join(cache_dir, cache_file), \"rb\") as f:\n",
    "                cache_data = joblib.load(f)\n",
    "            print(\"Read features from cache file:\", cache_file)\n",
    "        except:\n",
    "            pass  # unable to read from cache, but that's okay\n",
    "    \n",
    "    # If cache is missing, then do the heavy lifting\n",
    "    if cache_data is None:\n",
    "        # Fit a vectorizer to training documents and use it to transform them\n",
    "        # NOTE: Training documents have already been preprocessed and tokenized into words;\n",
    "        #       pass in dummy functions to skip those steps, e.g. preprocessor=lambda x: x\n",
    "        vectorizer = CountVectorizer(max_features=vocabulary_size)\n",
    "        features_train = vectorizer.fit_transform(words_train).toarray()\n",
    "\n",
    "        # Apply the same vectorizer to transform the test documents (ignore unknown words)\n",
    "        features_test = vectorizer.transform(words_test).toarray()\n",
    "        \n",
    "        # NOTE: Remember to convert the features using .toarray() for a compact representation\n",
    "        \n",
    "        # Write to cache file for future runs (store vocabulary as well)\n",
    "        if cache_file is not None:\n",
    "            vocabulary = vectorizer.vocabulary_\n",
    "            cache_data = dict(features_train=features_train, features_test=features_test,\n",
    "                             vocabulary=vocabulary)\n",
    "            with open(os.path.join(cache_dir, cache_file), \"wb\") as f:\n",
    "                joblib.dump(cache_data, f)\n",
    "            print(\"Wrote features to cache file:\", cache_file)\n",
    "    else:\n",
    "        # Unpack data loaded from cache file\n",
    "        features_train, features_test, vocabulary = (cache_data['features_train'],\n",
    "                cache_data['features_test'], cache_data['vocabulary'])\n",
    "    \n",
    "    # Return both the extracted features as well as the vocabulary\n",
    "    return features_train, features_test, vocabulary"
   ]
  },
  {
   "cell_type": "code",
   "execution_count": 12,
   "metadata": {},
   "outputs": [
    {
     "name": "stdout",
     "output_type": "stream",
     "text": [
      "Wrote features to cache file: bow_features.pkl\n"
     ]
    }
   ],
   "source": [
    "# Extract Bag of Words features for both training and test datasets\n",
    "train_X, test_X, vocabulary = extract_BoW_features(train_X, test_X)"
   ]
  },
  {
   "cell_type": "code",
   "execution_count": 13,
   "metadata": {},
   "outputs": [
    {
     "data": {
      "text/plain": [
       "5000"
      ]
     },
     "execution_count": 13,
     "metadata": {},
     "output_type": "execute_result"
    }
   ],
   "source": [
    "len(train_X[100])"
   ]
  },
  {
   "cell_type": "markdown",
   "metadata": {},
   "source": [
    "## Step 3: Upload data to S3\n",
    "\n",
    "Now that we have created the feature representation of our training (and testing) data, it is time to start setting up and using the XGBoost classifier provided by SageMaker.\n",
    "\n",
    "### Writing the datasets\n",
    "\n",
    "The XGBoost classifier that we will be using requires the dataset to be written to a file and stored using Amazon S3. To do this, we will start by splitting the training dataset into two parts, the data we will train the model with and a validation set. Then, we will write those datasets to a file locally and then upload the files to S3. In addition, we will write the test set to a file and upload that file to S3. This is so that we can use SageMakers Batch Transform functionality to test our model once we've fit it."
   ]
  },
  {
   "cell_type": "code",
   "execution_count": 14,
   "metadata": {},
   "outputs": [],
   "source": [
    "import pandas as pd\n",
    "\n",
    "# Earlier we shuffled the training dataset so to make things simple we can just assign\n",
    "# the first 10 000 reviews to the validation set and use the remaining reviews for training.\n",
    "val_X = pd.DataFrame(train_X[:10000])\n",
    "train_X = pd.DataFrame(train_X[10000:])\n",
    "\n",
    "val_y = pd.DataFrame(train_y[:10000])\n",
    "train_y = pd.DataFrame(train_y[10000:])"
   ]
  },
  {
   "cell_type": "markdown",
   "metadata": {},
   "source": [
    "The documentation for the XGBoost algorithm in SageMaker requires that the training and validation datasets should contain no headers or index and that the label should occur first for each sample.\n",
    "\n",
    "For more information about this and other algorithms, the SageMaker developer documentation can be found on __[Amazon's website.](https://docs.aws.amazon.com/sagemaker/latest/dg/)__"
   ]
  },
  {
   "cell_type": "code",
   "execution_count": 15,
   "metadata": {},
   "outputs": [],
   "source": [
    "# First we make sure that the local directory in which we'd like to store the training and validation csv files exists.\n",
    "data_dir = '../data/sentiment_web_app'\n",
    "if not os.path.exists(data_dir):\n",
    "    os.makedirs(data_dir)"
   ]
  },
  {
   "cell_type": "code",
   "execution_count": 16,
   "metadata": {},
   "outputs": [],
   "source": [
    "pd.DataFrame(test_X).to_csv(os.path.join(data_dir, 'test.csv'), header=False, index=False)\n",
    "\n",
    "pd.concat([val_y, val_X], axis=1).to_csv(os.path.join(data_dir, 'validation.csv'), header=False, index=False)\n",
    "pd.concat([train_y, train_X], axis=1).to_csv(os.path.join(data_dir, 'train.csv'), header=False, index=False)"
   ]
  },
  {
   "cell_type": "code",
   "execution_count": 17,
   "metadata": {},
   "outputs": [],
   "source": [
    "# To save a bit of memory we can set text_X, train_X, val_X, train_y and val_y to None.\n",
    "\n",
    "test_X = train_X = val_X = train_y = val_y = None"
   ]
  },
  {
   "cell_type": "markdown",
   "metadata": {},
   "source": [
    "### Uploading Training / Validation files to S3\n",
    "\n",
    "Amazon's S3 service allows us to store files that can be accessed by both the built-in training models such as the XGBoost model we will be using as well as custom models such as the one we will see a little later.\n",
    "\n",
    "For this and most other tasks we will be doing using SageMaker, there are two methods we could use. The first is to use the low level functionality of SageMaker which requires knowing each of the objects involved in the SageMaker environment. The second is to use the high level functionality in which certain choices have been made on the user's behalf. The low level approach benefits from allowing the user a great deal of flexibility while the high level approach makes development much quicker. For our purposes we will opt to use the high level approach although using the low-level approach is certainly an option.\n",
    "\n",
    "Recall the method `upload_data()` which is a member of the object representing our current SageMaker session. What this method does is upload the data to the default bucket (which is created if it does not exist) into the path described by the key_prefix variable. To see this for yourself, once you have uploaded the data files, go to the S3 console and look to see where the files have been uploaded.\n",
    "\n",
    "For additional resources, see the __[SageMaker API documentation](http://sagemaker.readthedocs.io/en/latest/)__ and in addition the __[SageMaker Developer Guide.](https://docs.aws.amazon.com/sagemaker/latest/dg/)__"
   ]
  },
  {
   "cell_type": "code",
   "execution_count": 18,
   "metadata": {},
   "outputs": [],
   "source": [
    "import sagemaker\n",
    "\n",
    "session = sagemaker.Session() # Store the current SageMaker session\n",
    "\n",
    "# S3 prefix (which folder will we use)\n",
    "prefix = 'sentiment-web-app'\n",
    "\n",
    "test_location = session.upload_data(os.path.join(data_dir, 'test.csv'), key_prefix=prefix)\n",
    "val_location = session.upload_data(os.path.join(data_dir, 'validation.csv'), key_prefix=prefix)\n",
    "train_location = session.upload_data(os.path.join(data_dir, 'train.csv'), key_prefix=prefix)"
   ]
  },
  {
   "cell_type": "markdown",
   "metadata": {},
   "source": [
    "## Step 4: Creating the XGBoost model\n",
    "\n",
    "Now that the data has been uploaded it is time to create the XGBoost model. To begin with, we need to do some setup. At this point it is worth discussing what a model is in SageMaker. It is easiest to think of a model of comprising three different objects in the SageMaker ecosystem, which interact with one another.\n",
    "\n",
    "- Model Artifacts\n",
    "- Training Code (Container)\n",
    "- Inference Code (Container)\n",
    "\n",
    "The Model Artifacts are what you might think of as the actual model itself. For example, if you were building a neural network, the model artifacts would be the weights of the various layers. In our case, for an XGBoost model, the artifacts are the actual trees that are created during training.\n",
    "\n",
    "The other two objects, the training code and the inference code are then used to manipulate the training artifacts. More precisely, the training code uses the training data that is provided and creates the model artifacts, while the inference code uses the model artifacts to make predictions on new data.\n",
    "\n",
    "The way that SageMaker runs the training and inference code is by making use of Docker containers. For now, think of a container as being a way of packaging code up so that dependencies aren't an issue."
   ]
  },
  {
   "cell_type": "code",
   "execution_count": 19,
   "metadata": {},
   "outputs": [],
   "source": [
    "from sagemaker import get_execution_role\n",
    "\n",
    "# Our current execution role is required when creating the model as the training\n",
    "# and inference code will need to access the model artifacts.\n",
    "role = get_execution_role()"
   ]
  },
  {
   "cell_type": "code",
   "execution_count": 20,
   "metadata": {},
   "outputs": [
    {
     "name": "stderr",
     "output_type": "stream",
     "text": [
      "WARNING:root:There is a more up to date SageMaker XGBoost image. To use the newer image, please set 'repo_version'='0.90-1'. For example:\n",
      "\tget_image_uri(region, 'xgboost', '0.90-1').\n"
     ]
    }
   ],
   "source": [
    "# We need to retrieve the location of the container which is provided by Amazon for using XGBoost.\n",
    "# As a matter of convenience, the training and inference code both use the same container.\n",
    "from sagemaker.amazon.amazon_estimator import get_image_uri\n",
    "\n",
    "container = get_image_uri(session.boto_region_name, 'xgboost')"
   ]
  },
  {
   "cell_type": "code",
   "execution_count": 21,
   "metadata": {},
   "outputs": [],
   "source": [
    "# First we create a SageMaker estimator object for our model.\n",
    "xgb = sagemaker.estimator.Estimator(container, # The location of the container we wish to use\n",
    "                                    role,                                    # What is our current IAM Role\n",
    "                                    train_instance_count=1,                  # How many compute instances\n",
    "                                    train_instance_type='ml.m4.xlarge',      # What kind of compute instances\n",
    "                                    output_path='s3://{}/{}/output'.format(session.default_bucket(), prefix),\n",
    "                                    sagemaker_session=session)\n",
    "\n",
    "# And then set the algorithm specific parameters.\n",
    "xgb.set_hyperparameters(max_depth=5,\n",
    "                        eta=0.2,\n",
    "                        gamma=4,\n",
    "                        min_child_weight=6,\n",
    "                        subsample=0.8,\n",
    "                        silent=0,\n",
    "                        objective='binary:logistic',\n",
    "                        early_stopping_rounds=10,\n",
    "                        num_round=500)"
   ]
  },
  {
   "cell_type": "markdown",
   "metadata": {},
   "source": [
    "### Fit the XGBoost model\n",
    "\n",
    "Now that our model has been set up we simply need to attach the training and validation datasets and then ask SageMaker to set up the computation."
   ]
  },
  {
   "cell_type": "code",
   "execution_count": 22,
   "metadata": {},
   "outputs": [],
   "source": [
    "s3_input_train = sagemaker.s3_input(s3_data=train_location, content_type='csv')\n",
    "s3_input_validation = sagemaker.s3_input(s3_data=val_location, content_type='csv')"
   ]
  },
  {
   "cell_type": "code",
   "execution_count": 23,
   "metadata": {},
   "outputs": [
    {
     "name": "stdout",
     "output_type": "stream",
     "text": [
      "2020-05-01 13:53:21 Starting - Starting the training job...\n",
      "2020-05-01 13:53:24 Starting - Launching requested ML instances......\n",
      "2020-05-01 13:54:22 Starting - Preparing the instances for training...\n",
      "2020-05-01 13:55:15 Downloading - Downloading input data...\n",
      "2020-05-01 13:55:47 Training - Downloading the training image...\n",
      "2020-05-01 13:56:06 Training - Training image download completed. Training in progress.\u001b[34mArguments: train\u001b[0m\n",
      "\u001b[34m[2020-05-01:13:56:07:INFO] Running standalone xgboost training.\u001b[0m\n",
      "\u001b[34m[2020-05-01:13:56:07:INFO] File size need to be processed in the node: 238.5mb. Available memory size in the node: 8478.25mb\u001b[0m\n",
      "\u001b[34m[2020-05-01:13:56:07:INFO] Determined delimiter of CSV input is ','\u001b[0m\n",
      "\u001b[34m[13:56:07] S3DistributionType set as FullyReplicated\u001b[0m\n",
      "\u001b[34m[13:56:09] 15000x5000 matrix with 75000000 entries loaded from /opt/ml/input/data/train?format=csv&label_column=0&delimiter=,\u001b[0m\n",
      "\u001b[34m[2020-05-01:13:56:09:INFO] Determined delimiter of CSV input is ','\u001b[0m\n",
      "\u001b[34m[13:56:09] S3DistributionType set as FullyReplicated\u001b[0m\n",
      "\u001b[34m[13:56:10] 10000x5000 matrix with 50000000 entries loaded from /opt/ml/input/data/validation?format=csv&label_column=0&delimiter=,\u001b[0m\n",
      "\u001b[34m[13:56:13] src/tree/updater_prune.cc:74: tree pruning end, 1 roots, 40 extra nodes, 6 pruned nodes, max_depth=5\u001b[0m\n",
      "\u001b[34m[0]#011train-error:0.304933#011validation-error:0.3104\u001b[0m\n",
      "\u001b[34mMultiple eval metrics have been passed: 'validation-error' will be used for early stopping.\n",
      "\u001b[0m\n",
      "\u001b[34mWill train until validation-error hasn't improved in 10 rounds.\u001b[0m\n",
      "\u001b[34m[13:56:15] src/tree/updater_prune.cc:74: tree pruning end, 1 roots, 40 extra nodes, 6 pruned nodes, max_depth=5\u001b[0m\n",
      "\u001b[34m[1]#011train-error:0.292333#011validation-error:0.3024\u001b[0m\n",
      "\u001b[34m[13:56:16] src/tree/updater_prune.cc:74: tree pruning end, 1 roots, 34 extra nodes, 12 pruned nodes, max_depth=5\u001b[0m\n",
      "\u001b[34m[2]#011train-error:0.289467#011validation-error:0.2982\u001b[0m\n",
      "\u001b[34m[13:56:18] src/tree/updater_prune.cc:74: tree pruning end, 1 roots, 28 extra nodes, 4 pruned nodes, max_depth=5\u001b[0m\n",
      "\u001b[34m[3]#011train-error:0.279133#011validation-error:0.2893\u001b[0m\n",
      "\u001b[34m[13:56:19] src/tree/updater_prune.cc:74: tree pruning end, 1 roots, 38 extra nodes, 4 pruned nodes, max_depth=5\u001b[0m\n",
      "\u001b[34m[4]#011train-error:0.271733#011validation-error:0.286\u001b[0m\n",
      "\u001b[34m[13:56:20] src/tree/updater_prune.cc:74: tree pruning end, 1 roots, 44 extra nodes, 6 pruned nodes, max_depth=5\u001b[0m\n",
      "\u001b[34m[5]#011train-error:0.2572#011validation-error:0.2667\u001b[0m\n",
      "\u001b[34m[13:56:21] src/tree/updater_prune.cc:74: tree pruning end, 1 roots, 28 extra nodes, 6 pruned nodes, max_depth=5\u001b[0m\n",
      "\u001b[34m[6]#011train-error:0.251133#011validation-error:0.2623\u001b[0m\n",
      "\u001b[34m[13:56:23] src/tree/updater_prune.cc:74: tree pruning end, 1 roots, 46 extra nodes, 4 pruned nodes, max_depth=5\u001b[0m\n",
      "\u001b[34m[7]#011train-error:0.243533#011validation-error:0.2579\u001b[0m\n",
      "\u001b[34m[13:56:24] src/tree/updater_prune.cc:74: tree pruning end, 1 roots, 26 extra nodes, 14 pruned nodes, max_depth=5\u001b[0m\n",
      "\u001b[34m[8]#011train-error:0.238733#011validation-error:0.2571\u001b[0m\n",
      "\u001b[34m[13:56:25] src/tree/updater_prune.cc:74: tree pruning end, 1 roots, 36 extra nodes, 2 pruned nodes, max_depth=5\u001b[0m\n",
      "\u001b[34m[9]#011train-error:0.234267#011validation-error:0.2523\u001b[0m\n",
      "\u001b[34m[13:56:27] src/tree/updater_prune.cc:74: tree pruning end, 1 roots, 26 extra nodes, 6 pruned nodes, max_depth=5\u001b[0m\n",
      "\u001b[34m[10]#011train-error:0.227467#011validation-error:0.2448\u001b[0m\n",
      "\u001b[34m[13:56:28] src/tree/updater_prune.cc:74: tree pruning end, 1 roots, 28 extra nodes, 4 pruned nodes, max_depth=5\u001b[0m\n",
      "\u001b[34m[11]#011train-error:0.219067#011validation-error:0.2416\u001b[0m\n",
      "\u001b[34m[13:56:29] src/tree/updater_prune.cc:74: tree pruning end, 1 roots, 30 extra nodes, 4 pruned nodes, max_depth=5\u001b[0m\n",
      "\u001b[34m[12]#011train-error:0.214733#011validation-error:0.2384\u001b[0m\n",
      "\u001b[34m[13:56:30] src/tree/updater_prune.cc:74: tree pruning end, 1 roots, 28 extra nodes, 6 pruned nodes, max_depth=5\u001b[0m\n",
      "\u001b[34m[13]#011train-error:0.209733#011validation-error:0.2324\u001b[0m\n",
      "\u001b[34m[13:56:32] src/tree/updater_prune.cc:74: tree pruning end, 1 roots, 26 extra nodes, 8 pruned nodes, max_depth=5\u001b[0m\n",
      "\u001b[34m[14]#011train-error:0.207733#011validation-error:0.2283\u001b[0m\n",
      "\u001b[34m[13:56:33] src/tree/updater_prune.cc:74: tree pruning end, 1 roots, 36 extra nodes, 4 pruned nodes, max_depth=5\u001b[0m\n",
      "\u001b[34m[15]#011train-error:0.204533#011validation-error:0.2244\u001b[0m\n",
      "\u001b[34m[13:56:34] src/tree/updater_prune.cc:74: tree pruning end, 1 roots, 28 extra nodes, 14 pruned nodes, max_depth=5\u001b[0m\n",
      "\u001b[34m[16]#011train-error:0.203133#011validation-error:0.2215\u001b[0m\n",
      "\u001b[34m[13:56:35] src/tree/updater_prune.cc:74: tree pruning end, 1 roots, 36 extra nodes, 6 pruned nodes, max_depth=5\u001b[0m\n",
      "\u001b[34m[17]#011train-error:0.197933#011validation-error:0.2182\u001b[0m\n",
      "\u001b[34m[13:56:37] src/tree/updater_prune.cc:74: tree pruning end, 1 roots, 22 extra nodes, 8 pruned nodes, max_depth=5\u001b[0m\n",
      "\u001b[34m[18]#011train-error:0.1954#011validation-error:0.2151\u001b[0m\n",
      "\u001b[34m[13:56:38] src/tree/updater_prune.cc:74: tree pruning end, 1 roots, 22 extra nodes, 10 pruned nodes, max_depth=5\u001b[0m\n",
      "\u001b[34m[19]#011train-error:0.1924#011validation-error:0.2146\u001b[0m\n",
      "\u001b[34m[13:56:39] src/tree/updater_prune.cc:74: tree pruning end, 1 roots, 30 extra nodes, 6 pruned nodes, max_depth=5\u001b[0m\n",
      "\u001b[34m[20]#011train-error:0.187467#011validation-error:0.2109\u001b[0m\n",
      "\u001b[34m[13:56:41] src/tree/updater_prune.cc:74: tree pruning end, 1 roots, 18 extra nodes, 14 pruned nodes, max_depth=5\u001b[0m\n",
      "\u001b[34m[21]#011train-error:0.186133#011validation-error:0.2088\u001b[0m\n",
      "\u001b[34m[13:56:42] src/tree/updater_prune.cc:74: tree pruning end, 1 roots, 26 extra nodes, 10 pruned nodes, max_depth=5\u001b[0m\n",
      "\u001b[34m[22]#011train-error:0.183467#011validation-error:0.2064\u001b[0m\n",
      "\u001b[34m[13:56:43] src/tree/updater_prune.cc:74: tree pruning end, 1 roots, 16 extra nodes, 8 pruned nodes, max_depth=5\u001b[0m\n",
      "\u001b[34m[23]#011train-error:0.181867#011validation-error:0.2045\u001b[0m\n",
      "\u001b[34m[13:56:45] src/tree/updater_prune.cc:74: tree pruning end, 1 roots, 24 extra nodes, 6 pruned nodes, max_depth=5\u001b[0m\n",
      "\u001b[34m[24]#011train-error:0.180667#011validation-error:0.2049\u001b[0m\n",
      "\u001b[34m[13:56:46] src/tree/updater_prune.cc:74: tree pruning end, 1 roots, 22 extra nodes, 4 pruned nodes, max_depth=5\u001b[0m\n",
      "\u001b[34m[25]#011train-error:0.1776#011validation-error:0.2026\u001b[0m\n",
      "\u001b[34m[13:56:47] src/tree/updater_prune.cc:74: tree pruning end, 1 roots, 32 extra nodes, 8 pruned nodes, max_depth=5\u001b[0m\n",
      "\u001b[34m[26]#011train-error:0.1744#011validation-error:0.2015\u001b[0m\n",
      "\u001b[34m[13:56:48] src/tree/updater_prune.cc:74: tree pruning end, 1 roots, 34 extra nodes, 10 pruned nodes, max_depth=5\u001b[0m\n",
      "\u001b[34m[27]#011train-error:0.172333#011validation-error:0.1993\u001b[0m\n",
      "\u001b[34m[13:56:50] src/tree/updater_prune.cc:74: tree pruning end, 1 roots, 42 extra nodes, 10 pruned nodes, max_depth=5\u001b[0m\n",
      "\u001b[34m[28]#011train-error:0.170667#011validation-error:0.1979\u001b[0m\n",
      "\u001b[34m[13:56:51] src/tree/updater_prune.cc:74: tree pruning end, 1 roots, 32 extra nodes, 4 pruned nodes, max_depth=5\u001b[0m\n",
      "\u001b[34m[29]#011train-error:0.168#011validation-error:0.1966\u001b[0m\n",
      "\u001b[34m[13:56:52] src/tree/updater_prune.cc:74: tree pruning end, 1 roots, 26 extra nodes, 2 pruned nodes, max_depth=5\u001b[0m\n",
      "\u001b[34m[30]#011train-error:0.1666#011validation-error:0.1943\u001b[0m\n",
      "\u001b[34m[13:56:53] src/tree/updater_prune.cc:74: tree pruning end, 1 roots, 24 extra nodes, 6 pruned nodes, max_depth=5\u001b[0m\n",
      "\u001b[34m[31]#011train-error:0.164533#011validation-error:0.1946\u001b[0m\n",
      "\u001b[34m[13:56:55] src/tree/updater_prune.cc:74: tree pruning end, 1 roots, 20 extra nodes, 10 pruned nodes, max_depth=5\u001b[0m\n",
      "\u001b[34m[32]#011train-error:0.162867#011validation-error:0.1936\u001b[0m\n",
      "\u001b[34m[13:56:56] src/tree/updater_prune.cc:74: tree pruning end, 1 roots, 16 extra nodes, 8 pruned nodes, max_depth=5\u001b[0m\n",
      "\u001b[34m[33]#011train-error:0.161067#011validation-error:0.1925\u001b[0m\n",
      "\u001b[34m[13:56:57] src/tree/updater_prune.cc:74: tree pruning end, 1 roots, 20 extra nodes, 12 pruned nodes, max_depth=5\u001b[0m\n",
      "\u001b[34m[34]#011train-error:0.159733#011validation-error:0.1905\u001b[0m\n",
      "\u001b[34m[13:56:59] src/tree/updater_prune.cc:74: tree pruning end, 1 roots, 14 extra nodes, 8 pruned nodes, max_depth=5\u001b[0m\n",
      "\u001b[34m[35]#011train-error:0.1586#011validation-error:0.1892\u001b[0m\n",
      "\u001b[34m[13:57:00] src/tree/updater_prune.cc:74: tree pruning end, 1 roots, 24 extra nodes, 8 pruned nodes, max_depth=5\u001b[0m\n",
      "\u001b[34m[36]#011train-error:0.157133#011validation-error:0.1893\u001b[0m\n",
      "\u001b[34m[13:57:01] src/tree/updater_prune.cc:74: tree pruning end, 1 roots, 24 extra nodes, 6 pruned nodes, max_depth=5\u001b[0m\n",
      "\u001b[34m[37]#011train-error:0.156267#011validation-error:0.1886\u001b[0m\n",
      "\u001b[34m[13:57:02] src/tree/updater_prune.cc:74: tree pruning end, 1 roots, 28 extra nodes, 10 pruned nodes, max_depth=5\u001b[0m\n",
      "\u001b[34m[38]#011train-error:0.1552#011validation-error:0.1879\u001b[0m\n",
      "\u001b[34m[13:57:04] src/tree/updater_prune.cc:74: tree pruning end, 1 roots, 30 extra nodes, 4 pruned nodes, max_depth=5\u001b[0m\n",
      "\u001b[34m[39]#011train-error:0.153533#011validation-error:0.1874\u001b[0m\n",
      "\u001b[34m[13:57:05] src/tree/updater_prune.cc:74: tree pruning end, 1 roots, 20 extra nodes, 16 pruned nodes, max_depth=5\u001b[0m\n",
      "\u001b[34m[40]#011train-error:0.1524#011validation-error:0.1868\u001b[0m\n",
      "\u001b[34m[13:57:06] src/tree/updater_prune.cc:74: tree pruning end, 1 roots, 28 extra nodes, 8 pruned nodes, max_depth=5\u001b[0m\n",
      "\u001b[34m[41]#011train-error:0.150267#011validation-error:0.1847\u001b[0m\n",
      "\u001b[34m[13:57:07] src/tree/updater_prune.cc:74: tree pruning end, 1 roots, 18 extra nodes, 8 pruned nodes, max_depth=5\u001b[0m\n",
      "\u001b[34m[42]#011train-error:0.149667#011validation-error:0.1844\u001b[0m\n",
      "\u001b[34m[13:57:09] src/tree/updater_prune.cc:74: tree pruning end, 1 roots, 32 extra nodes, 10 pruned nodes, max_depth=5\u001b[0m\n",
      "\u001b[34m[43]#011train-error:0.1482#011validation-error:0.1821\u001b[0m\n"
     ]
    },
    {
     "name": "stdout",
     "output_type": "stream",
     "text": [
      "\u001b[34m[13:57:10] src/tree/updater_prune.cc:74: tree pruning end, 1 roots, 12 extra nodes, 8 pruned nodes, max_depth=5\u001b[0m\n",
      "\u001b[34m[44]#011train-error:0.147133#011validation-error:0.182\u001b[0m\n",
      "\u001b[34m[13:57:11] src/tree/updater_prune.cc:74: tree pruning end, 1 roots, 20 extra nodes, 2 pruned nodes, max_depth=5\u001b[0m\n",
      "\u001b[34m[45]#011train-error:0.145133#011validation-error:0.1808\u001b[0m\n",
      "\u001b[34m[13:57:12] src/tree/updater_prune.cc:74: tree pruning end, 1 roots, 18 extra nodes, 4 pruned nodes, max_depth=5\u001b[0m\n",
      "\u001b[34m[46]#011train-error:0.143733#011validation-error:0.1793\u001b[0m\n",
      "\u001b[34m[13:57:14] src/tree/updater_prune.cc:74: tree pruning end, 1 roots, 16 extra nodes, 14 pruned nodes, max_depth=5\u001b[0m\n",
      "\u001b[34m[47]#011train-error:0.143267#011validation-error:0.1777\u001b[0m\n",
      "\u001b[34m[13:57:15] src/tree/updater_prune.cc:74: tree pruning end, 1 roots, 28 extra nodes, 8 pruned nodes, max_depth=5\u001b[0m\n",
      "\u001b[34m[48]#011train-error:0.1412#011validation-error:0.1804\u001b[0m\n",
      "\u001b[34m[13:57:16] src/tree/updater_prune.cc:74: tree pruning end, 1 roots, 20 extra nodes, 8 pruned nodes, max_depth=5\u001b[0m\n",
      "\u001b[34m[49]#011train-error:0.1398#011validation-error:0.1795\u001b[0m\n",
      "\u001b[34m[13:57:17] src/tree/updater_prune.cc:74: tree pruning end, 1 roots, 30 extra nodes, 6 pruned nodes, max_depth=5\u001b[0m\n",
      "\u001b[34m[50]#011train-error:0.138933#011validation-error:0.1795\u001b[0m\n",
      "\u001b[34m[13:57:19] src/tree/updater_prune.cc:74: tree pruning end, 1 roots, 18 extra nodes, 12 pruned nodes, max_depth=5\u001b[0m\n",
      "\u001b[34m[51]#011train-error:0.138#011validation-error:0.1792\u001b[0m\n",
      "\u001b[34m[13:57:20] src/tree/updater_prune.cc:74: tree pruning end, 1 roots, 24 extra nodes, 4 pruned nodes, max_depth=5\u001b[0m\n",
      "\u001b[34m[52]#011train-error:0.137067#011validation-error:0.1786\u001b[0m\n",
      "\u001b[34m[13:57:21] src/tree/updater_prune.cc:74: tree pruning end, 1 roots, 26 extra nodes, 6 pruned nodes, max_depth=5\u001b[0m\n",
      "\u001b[34m[53]#011train-error:0.136467#011validation-error:0.1769\u001b[0m\n",
      "\u001b[34m[13:57:22] src/tree/updater_prune.cc:74: tree pruning end, 1 roots, 22 extra nodes, 6 pruned nodes, max_depth=5\u001b[0m\n",
      "\u001b[34m[54]#011train-error:0.135#011validation-error:0.1756\u001b[0m\n",
      "\u001b[34m[13:57:24] src/tree/updater_prune.cc:74: tree pruning end, 1 roots, 36 extra nodes, 6 pruned nodes, max_depth=5\u001b[0m\n",
      "\u001b[34m[55]#011train-error:0.1342#011validation-error:0.1744\u001b[0m\n",
      "\u001b[34m[13:57:25] src/tree/updater_prune.cc:74: tree pruning end, 1 roots, 20 extra nodes, 8 pruned nodes, max_depth=5\u001b[0m\n",
      "\u001b[34m[56]#011train-error:0.133733#011validation-error:0.1726\u001b[0m\n",
      "\u001b[34m[13:57:26] src/tree/updater_prune.cc:74: tree pruning end, 1 roots, 22 extra nodes, 12 pruned nodes, max_depth=5\u001b[0m\n",
      "\u001b[34m[57]#011train-error:0.134#011validation-error:0.1713\u001b[0m\n",
      "\u001b[34m[13:57:28] src/tree/updater_prune.cc:74: tree pruning end, 1 roots, 26 extra nodes, 12 pruned nodes, max_depth=5\u001b[0m\n",
      "\u001b[34m[58]#011train-error:0.131533#011validation-error:0.17\u001b[0m\n",
      "\u001b[34m[13:57:29] src/tree/updater_prune.cc:74: tree pruning end, 1 roots, 22 extra nodes, 2 pruned nodes, max_depth=5\u001b[0m\n",
      "\u001b[34m[59]#011train-error:0.129333#011validation-error:0.169\u001b[0m\n",
      "\u001b[34m[13:57:30] src/tree/updater_prune.cc:74: tree pruning end, 1 roots, 26 extra nodes, 4 pruned nodes, max_depth=5\u001b[0m\n",
      "\u001b[34m[60]#011train-error:0.128733#011validation-error:0.169\u001b[0m\n",
      "\u001b[34m[13:57:31] src/tree/updater_prune.cc:74: tree pruning end, 1 roots, 14 extra nodes, 10 pruned nodes, max_depth=5\u001b[0m\n",
      "\u001b[34m[61]#011train-error:0.1286#011validation-error:0.1696\u001b[0m\n",
      "\u001b[34m[13:57:33] src/tree/updater_prune.cc:74: tree pruning end, 1 roots, 22 extra nodes, 6 pruned nodes, max_depth=5\u001b[0m\n",
      "\u001b[34m[62]#011train-error:0.127533#011validation-error:0.1704\u001b[0m\n",
      "\u001b[34m[13:57:34] src/tree/updater_prune.cc:74: tree pruning end, 1 roots, 26 extra nodes, 0 pruned nodes, max_depth=5\u001b[0m\n",
      "\u001b[34m[63]#011train-error:0.126333#011validation-error:0.1696\u001b[0m\n",
      "\u001b[34m[13:57:35] src/tree/updater_prune.cc:74: tree pruning end, 1 roots, 28 extra nodes, 10 pruned nodes, max_depth=5\u001b[0m\n",
      "\u001b[34m[64]#011train-error:0.125#011validation-error:0.1683\u001b[0m\n",
      "\u001b[34m[13:57:36] src/tree/updater_prune.cc:74: tree pruning end, 1 roots, 32 extra nodes, 10 pruned nodes, max_depth=5\u001b[0m\n",
      "\u001b[34m[65]#011train-error:0.1234#011validation-error:0.1671\u001b[0m\n",
      "\u001b[34m[13:57:38] src/tree/updater_prune.cc:74: tree pruning end, 1 roots, 28 extra nodes, 8 pruned nodes, max_depth=5\u001b[0m\n",
      "\u001b[34m[66]#011train-error:0.121867#011validation-error:0.1661\u001b[0m\n",
      "\u001b[34m[13:57:39] src/tree/updater_prune.cc:74: tree pruning end, 1 roots, 22 extra nodes, 8 pruned nodes, max_depth=5\u001b[0m\n",
      "\u001b[34m[67]#011train-error:0.1214#011validation-error:0.1654\u001b[0m\n",
      "\u001b[34m[13:57:40] src/tree/updater_prune.cc:74: tree pruning end, 1 roots, 14 extra nodes, 6 pruned nodes, max_depth=5\u001b[0m\n",
      "\u001b[34m[68]#011train-error:0.120733#011validation-error:0.1641\u001b[0m\n",
      "\u001b[34m[13:57:41] src/tree/updater_prune.cc:74: tree pruning end, 1 roots, 34 extra nodes, 10 pruned nodes, max_depth=5\u001b[0m\n",
      "\u001b[34m[69]#011train-error:0.119533#011validation-error:0.1654\u001b[0m\n",
      "\u001b[34m[13:57:43] src/tree/updater_prune.cc:74: tree pruning end, 1 roots, 20 extra nodes, 8 pruned nodes, max_depth=5\u001b[0m\n",
      "\u001b[34m[70]#011train-error:0.119667#011validation-error:0.1658\u001b[0m\n",
      "\u001b[34m[13:57:44] src/tree/updater_prune.cc:74: tree pruning end, 1 roots, 16 extra nodes, 12 pruned nodes, max_depth=5\u001b[0m\n",
      "\u001b[34m[71]#011train-error:0.119#011validation-error:0.1656\u001b[0m\n",
      "\u001b[34m[13:57:45] src/tree/updater_prune.cc:74: tree pruning end, 1 roots, 12 extra nodes, 2 pruned nodes, max_depth=5\u001b[0m\n",
      "\u001b[34m[72]#011train-error:0.117733#011validation-error:0.1643\u001b[0m\n",
      "\u001b[34m[13:57:46] src/tree/updater_prune.cc:74: tree pruning end, 1 roots, 14 extra nodes, 10 pruned nodes, max_depth=5\u001b[0m\n",
      "\u001b[34m[73]#011train-error:0.117933#011validation-error:0.1644\u001b[0m\n",
      "\u001b[34m[13:57:48] src/tree/updater_prune.cc:74: tree pruning end, 1 roots, 12 extra nodes, 4 pruned nodes, max_depth=5\u001b[0m\n",
      "\u001b[34m[74]#011train-error:0.117067#011validation-error:0.1636\u001b[0m\n",
      "\u001b[34m[13:57:49] src/tree/updater_prune.cc:74: tree pruning end, 1 roots, 14 extra nodes, 10 pruned nodes, max_depth=5\u001b[0m\n",
      "\u001b[34m[75]#011train-error:0.116733#011validation-error:0.1628\u001b[0m\n",
      "\u001b[34m[13:57:50] src/tree/updater_prune.cc:74: tree pruning end, 1 roots, 22 extra nodes, 8 pruned nodes, max_depth=5\u001b[0m\n",
      "\u001b[34m[76]#011train-error:0.116333#011validation-error:0.1621\u001b[0m\n",
      "\u001b[34m[13:57:51] src/tree/updater_prune.cc:74: tree pruning end, 1 roots, 18 extra nodes, 12 pruned nodes, max_depth=5\u001b[0m\n",
      "\u001b[34m[77]#011train-error:0.1158#011validation-error:0.1615\u001b[0m\n",
      "\u001b[34m[13:57:53] src/tree/updater_prune.cc:74: tree pruning end, 1 roots, 16 extra nodes, 6 pruned nodes, max_depth=5\u001b[0m\n",
      "\u001b[34m[78]#011train-error:0.1156#011validation-error:0.1607\u001b[0m\n",
      "\u001b[34m[13:57:54] src/tree/updater_prune.cc:74: tree pruning end, 1 roots, 30 extra nodes, 8 pruned nodes, max_depth=5\u001b[0m\n",
      "\u001b[34m[79]#011train-error:0.114667#011validation-error:0.1608\u001b[0m\n",
      "\u001b[34m[13:57:55] src/tree/updater_prune.cc:74: tree pruning end, 1 roots, 22 extra nodes, 4 pruned nodes, max_depth=5\u001b[0m\n",
      "\u001b[34m[80]#011train-error:0.113667#011validation-error:0.1609\u001b[0m\n",
      "\u001b[34m[13:57:57] src/tree/updater_prune.cc:74: tree pruning end, 1 roots, 22 extra nodes, 12 pruned nodes, max_depth=5\u001b[0m\n",
      "\u001b[34m[81]#011train-error:0.113267#011validation-error:0.1609\u001b[0m\n",
      "\u001b[34m[13:57:58] src/tree/updater_prune.cc:74: tree pruning end, 1 roots, 26 extra nodes, 8 pruned nodes, max_depth=5\u001b[0m\n",
      "\u001b[34m[82]#011train-error:0.1122#011validation-error:0.1597\u001b[0m\n",
      "\u001b[34m[13:57:59] src/tree/updater_prune.cc:74: tree pruning end, 1 roots, 16 extra nodes, 4 pruned nodes, max_depth=5\u001b[0m\n",
      "\u001b[34m[83]#011train-error:0.112933#011validation-error:0.159\u001b[0m\n",
      "\u001b[34m[13:58:00] src/tree/updater_prune.cc:74: tree pruning end, 1 roots, 24 extra nodes, 14 pruned nodes, max_depth=5\u001b[0m\n",
      "\u001b[34m[84]#011train-error:0.1118#011validation-error:0.1592\u001b[0m\n",
      "\u001b[34m[13:58:02] src/tree/updater_prune.cc:74: tree pruning end, 1 roots, 16 extra nodes, 18 pruned nodes, max_depth=5\u001b[0m\n",
      "\u001b[34m[85]#011train-error:0.111#011validation-error:0.1586\u001b[0m\n",
      "\u001b[34m[13:58:03] src/tree/updater_prune.cc:74: tree pruning end, 1 roots, 34 extra nodes, 8 pruned nodes, max_depth=5\u001b[0m\n",
      "\u001b[34m[86]#011train-error:0.110067#011validation-error:0.1583\u001b[0m\n",
      "\u001b[34m[13:58:04] src/tree/updater_prune.cc:74: tree pruning end, 1 roots, 22 extra nodes, 2 pruned nodes, max_depth=5\u001b[0m\n",
      "\u001b[34m[87]#011train-error:0.108933#011validation-error:0.1572\u001b[0m\n",
      "\u001b[34m[13:58:05] src/tree/updater_prune.cc:74: tree pruning end, 1 roots, 20 extra nodes, 8 pruned nodes, max_depth=5\u001b[0m\n",
      "\u001b[34m[88]#011train-error:0.108333#011validation-error:0.1574\u001b[0m\n",
      "\u001b[34m[13:58:07] src/tree/updater_prune.cc:74: tree pruning end, 1 roots, 14 extra nodes, 4 pruned nodes, max_depth=5\u001b[0m\n",
      "\u001b[34m[89]#011train-error:0.108133#011validation-error:0.1567\u001b[0m\n",
      "\u001b[34m[13:58:08] src/tree/updater_prune.cc:74: tree pruning end, 1 roots, 12 extra nodes, 2 pruned nodes, max_depth=5\u001b[0m\n",
      "\u001b[34m[90]#011train-error:0.107667#011validation-error:0.1564\u001b[0m\n",
      "\u001b[34m[13:58:09] src/tree/updater_prune.cc:74: tree pruning end, 1 roots, 14 extra nodes, 10 pruned nodes, max_depth=5\u001b[0m\n",
      "\u001b[34m[91]#011train-error:0.107333#011validation-error:0.1558\u001b[0m\n"
     ]
    },
    {
     "name": "stdout",
     "output_type": "stream",
     "text": [
      "\u001b[34m[13:58:10] src/tree/updater_prune.cc:74: tree pruning end, 1 roots, 12 extra nodes, 14 pruned nodes, max_depth=5\u001b[0m\n",
      "\u001b[34m[92]#011train-error:0.106733#011validation-error:0.156\u001b[0m\n",
      "\u001b[34m[13:58:12] src/tree/updater_prune.cc:74: tree pruning end, 1 roots, 20 extra nodes, 12 pruned nodes, max_depth=5\u001b[0m\n",
      "\u001b[34m[93]#011train-error:0.1058#011validation-error:0.1557\u001b[0m\n",
      "\u001b[34m[13:58:13] src/tree/updater_prune.cc:74: tree pruning end, 1 roots, 30 extra nodes, 10 pruned nodes, max_depth=5\u001b[0m\n",
      "\u001b[34m[94]#011train-error:0.104933#011validation-error:0.1561\u001b[0m\n",
      "\u001b[34m[13:58:14] src/tree/updater_prune.cc:74: tree pruning end, 1 roots, 20 extra nodes, 6 pruned nodes, max_depth=5\u001b[0m\n",
      "\u001b[34m[95]#011train-error:0.104867#011validation-error:0.1557\u001b[0m\n",
      "\u001b[34m[13:58:16] src/tree/updater_prune.cc:74: tree pruning end, 1 roots, 16 extra nodes, 16 pruned nodes, max_depth=5\u001b[0m\n",
      "\u001b[34m[96]#011train-error:0.1046#011validation-error:0.1558\u001b[0m\n",
      "\u001b[34m[13:58:17] src/tree/updater_prune.cc:74: tree pruning end, 1 roots, 16 extra nodes, 10 pruned nodes, max_depth=5\u001b[0m\n",
      "\u001b[34m[97]#011train-error:0.104267#011validation-error:0.1555\u001b[0m\n",
      "\u001b[34m[13:58:18] src/tree/updater_prune.cc:74: tree pruning end, 1 roots, 12 extra nodes, 2 pruned nodes, max_depth=5\u001b[0m\n",
      "\u001b[34m[98]#011train-error:0.104267#011validation-error:0.1559\u001b[0m\n",
      "\u001b[34m[13:58:19] src/tree/updater_prune.cc:74: tree pruning end, 1 roots, 10 extra nodes, 6 pruned nodes, max_depth=5\u001b[0m\n",
      "\u001b[34m[99]#011train-error:0.103867#011validation-error:0.1554\u001b[0m\n",
      "\u001b[34m[13:58:21] src/tree/updater_prune.cc:74: tree pruning end, 1 roots, 32 extra nodes, 8 pruned nodes, max_depth=5\u001b[0m\n",
      "\u001b[34m[100]#011train-error:0.103733#011validation-error:0.1553\u001b[0m\n",
      "\u001b[34m[13:58:22] src/tree/updater_prune.cc:74: tree pruning end, 1 roots, 12 extra nodes, 2 pruned nodes, max_depth=5\u001b[0m\n",
      "\u001b[34m[101]#011train-error:0.1038#011validation-error:0.1551\u001b[0m\n",
      "\u001b[34m[13:58:23] src/tree/updater_prune.cc:74: tree pruning end, 1 roots, 16 extra nodes, 6 pruned nodes, max_depth=5\u001b[0m\n",
      "\u001b[34m[102]#011train-error:0.104067#011validation-error:0.1533\u001b[0m\n",
      "\u001b[34m[13:58:24] src/tree/updater_prune.cc:74: tree pruning end, 1 roots, 24 extra nodes, 6 pruned nodes, max_depth=5\u001b[0m\n",
      "\u001b[34m[103]#011train-error:0.1028#011validation-error:0.1529\u001b[0m\n",
      "\u001b[34m[13:58:26] src/tree/updater_prune.cc:74: tree pruning end, 1 roots, 16 extra nodes, 12 pruned nodes, max_depth=5\u001b[0m\n",
      "\u001b[34m[104]#011train-error:0.1022#011validation-error:0.1524\u001b[0m\n",
      "\u001b[34m[13:58:27] src/tree/updater_prune.cc:74: tree pruning end, 1 roots, 18 extra nodes, 6 pruned nodes, max_depth=5\u001b[0m\n",
      "\u001b[34m[105]#011train-error:0.101333#011validation-error:0.1524\u001b[0m\n",
      "\u001b[34m[13:58:28] src/tree/updater_prune.cc:74: tree pruning end, 1 roots, 12 extra nodes, 10 pruned nodes, max_depth=5\u001b[0m\n",
      "\u001b[34m[106]#011train-error:0.101067#011validation-error:0.1518\u001b[0m\n",
      "\u001b[34m[13:58:29] src/tree/updater_prune.cc:74: tree pruning end, 1 roots, 12 extra nodes, 10 pruned nodes, max_depth=5\u001b[0m\n",
      "\u001b[34m[107]#011train-error:0.100867#011validation-error:0.1525\u001b[0m\n",
      "\u001b[34m[13:58:31] src/tree/updater_prune.cc:74: tree pruning end, 1 roots, 18 extra nodes, 12 pruned nodes, max_depth=5\u001b[0m\n",
      "\u001b[34m[108]#011train-error:0.100267#011validation-error:0.1529\u001b[0m\n",
      "\u001b[34m[13:58:32] src/tree/updater_prune.cc:74: tree pruning end, 1 roots, 10 extra nodes, 12 pruned nodes, max_depth=5\u001b[0m\n",
      "\u001b[34m[109]#011train-error:0.099733#011validation-error:0.153\u001b[0m\n",
      "\u001b[34m[13:58:33] src/tree/updater_prune.cc:74: tree pruning end, 1 roots, 22 extra nodes, 20 pruned nodes, max_depth=5\u001b[0m\n",
      "\u001b[34m[110]#011train-error:0.099067#011validation-error:0.1523\u001b[0m\n",
      "\u001b[34m[13:58:35] src/tree/updater_prune.cc:74: tree pruning end, 1 roots, 20 extra nodes, 14 pruned nodes, max_depth=5\u001b[0m\n",
      "\u001b[34m[111]#011train-error:0.098867#011validation-error:0.1532\u001b[0m\n",
      "\u001b[34m[13:58:36] src/tree/updater_prune.cc:74: tree pruning end, 1 roots, 18 extra nodes, 12 pruned nodes, max_depth=5\u001b[0m\n",
      "\u001b[34m[112]#011train-error:0.097467#011validation-error:0.153\u001b[0m\n",
      "\u001b[34m[13:58:37] src/tree/updater_prune.cc:74: tree pruning end, 1 roots, 34 extra nodes, 12 pruned nodes, max_depth=5\u001b[0m\n",
      "\u001b[34m[113]#011train-error:0.0962#011validation-error:0.1525\u001b[0m\n",
      "\u001b[34m[13:58:38] src/tree/updater_prune.cc:74: tree pruning end, 1 roots, 22 extra nodes, 4 pruned nodes, max_depth=5\u001b[0m\n",
      "\u001b[34m[114]#011train-error:0.096#011validation-error:0.1518\u001b[0m\n",
      "\u001b[34m[13:58:40] src/tree/updater_prune.cc:74: tree pruning end, 1 roots, 16 extra nodes, 6 pruned nodes, max_depth=5\u001b[0m\n",
      "\u001b[34m[115]#011train-error:0.094933#011validation-error:0.1527\u001b[0m\n",
      "\n",
      "2020-05-01 13:58:50 Uploading - Uploading generated training model\n",
      "2020-05-01 13:58:50 Completed - Training job completed\n",
      "\u001b[34m[13:58:41] src/tree/updater_prune.cc:74: tree pruning end, 1 roots, 18 extra nodes, 8 pruned nodes, max_depth=5\u001b[0m\n",
      "\u001b[34m[116]#011train-error:0.0954#011validation-error:0.1527\u001b[0m\n",
      "\u001b[34mStopping. Best iteration:\u001b[0m\n",
      "\u001b[34m[106]#011train-error:0.101067#011validation-error:0.1518\n",
      "\u001b[0m\n",
      "Training seconds: 215\n",
      "Billable seconds: 215\n"
     ]
    }
   ],
   "source": [
    "xgb.fit({'train': s3_input_train, 'validation': s3_input_validation})"
   ]
  },
  {
   "cell_type": "markdown",
   "metadata": {},
   "source": [
    "## Step 5: Testing the model\n",
    "\n",
    "Now that we've fit our XGBoost model, it's time to see how well it performs. To do this we will use SageMakers Batch Transform functionality. Batch Transform is a convenient way to perform inference on a large dataset in a way that is not realtime. That is, we don't necessarily need to use our model's results immediately and instead we can perform inference on a large number of samples. An example of this in industry might be performing an end of month report. This method of inference can also be useful to us as it means that we can perform inference on our entire test set. \n",
    "\n",
    "To perform a Batch Transformation we need to first create a transformer objects from our trained estimator object."
   ]
  },
  {
   "cell_type": "code",
   "execution_count": 24,
   "metadata": {},
   "outputs": [],
   "source": [
    "xgb_transformer = xgb.transformer(instance_count = 1, instance_type = 'ml.m4.xlarge')"
   ]
  },
  {
   "cell_type": "markdown",
   "metadata": {},
   "source": [
    "Next we actually perform the transform job. When doing so we need to make sure to specify the type of data we are sending so that it is serialized correctly in the background. In our case we are providing our model with csv data so we specify `text/csv`. Also, if the test data that we have provided is too large to process all at once then we need to specify how the data file should be split up. Since each line is a single entry in our data set we tell SageMaker that it can split the input on each line."
   ]
  },
  {
   "cell_type": "code",
   "execution_count": 25,
   "metadata": {},
   "outputs": [],
   "source": [
    "xgb_transformer.transform(test_location, content_type='text/csv', split_type='Line')"
   ]
  },
  {
   "cell_type": "markdown",
   "metadata": {},
   "source": [
    "Currently the transform job is running but it is doing so in the background. Since we wish to wait until the transform job is done and we would like a bit of feedback we can run the `wait()` method."
   ]
  },
  {
   "cell_type": "code",
   "execution_count": 26,
   "metadata": {},
   "outputs": [
    {
     "name": "stdout",
     "output_type": "stream",
     "text": [
      ".....................\u001b[34mArguments: serve\u001b[0m\n",
      "\u001b[34m[2020-05-01 14:02:13 +0000] [1] [INFO] Starting gunicorn 19.7.1\u001b[0m\n",
      "\u001b[34m[2020-05-01 14:02:13 +0000] [1] [INFO] Listening at: http://0.0.0.0:8080 (1)\u001b[0m\n",
      "\u001b[34m[2020-05-01 14:02:13 +0000] [1] [INFO] Using worker: gevent\u001b[0m\n",
      "\u001b[34m[2020-05-01 14:02:13 +0000] [38] [INFO] Booting worker with pid: 38\u001b[0m\n",
      "\u001b[34m[2020-05-01 14:02:13 +0000] [39] [INFO] Booting worker with pid: 39\u001b[0m\n",
      "\u001b[34m[2020-05-01 14:02:13 +0000] [40] [INFO] Booting worker with pid: 40\u001b[0m\n",
      "\u001b[34m[2020-05-01 14:02:13 +0000] [41] [INFO] Booting worker with pid: 41\u001b[0m\n",
      "\u001b[34m[2020-05-01:14:02:13:INFO] Model loaded successfully for worker : 38\u001b[0m\n",
      "\u001b[34m[2020-05-01:14:02:13:INFO] Model loaded successfully for worker : 39\u001b[0m\n",
      "\u001b[34m[2020-05-01:14:02:13:INFO] Model loaded successfully for worker : 40\u001b[0m\n",
      "\u001b[34m[2020-05-01:14:02:13:INFO] Model loaded successfully for worker : 41\u001b[0m\n",
      "\u001b[32m2020-05-01T14:02:33.372:[sagemaker logs]: MaxConcurrentTransforms=4, MaxPayloadInMB=6, BatchStrategy=MULTI_RECORD\u001b[0m\n",
      "\u001b[34m[2020-05-01:14:02:36:INFO] Sniff delimiter as ','\u001b[0m\n",
      "\u001b[34m[2020-05-01:14:02:36:INFO] Determined delimiter of CSV input is ','\u001b[0m\n",
      "\u001b[34m[2020-05-01:14:02:36:INFO] Sniff delimiter as ','\u001b[0m\n",
      "\u001b[34m[2020-05-01:14:02:36:INFO] Determined delimiter of CSV input is ','\u001b[0m\n",
      "\u001b[34m[2020-05-01:14:02:36:INFO] Sniff delimiter as ','\u001b[0m\n",
      "\u001b[34m[2020-05-01:14:02:36:INFO] Determined delimiter of CSV input is ','\u001b[0m\n",
      "\u001b[34m[2020-05-01:14:02:36:INFO] Sniff delimiter as ','\u001b[0m\n",
      "\u001b[34m[2020-05-01:14:02:36:INFO] Determined delimiter of CSV input is ','\u001b[0m\n",
      "\u001b[35m[2020-05-01:14:02:36:INFO] Sniff delimiter as ','\u001b[0m\n",
      "\u001b[35m[2020-05-01:14:02:36:INFO] Determined delimiter of CSV input is ','\u001b[0m\n",
      "\u001b[35m[2020-05-01:14:02:36:INFO] Sniff delimiter as ','\u001b[0m\n",
      "\u001b[35m[2020-05-01:14:02:36:INFO] Determined delimiter of CSV input is ','\u001b[0m\n",
      "\u001b[35m[2020-05-01:14:02:36:INFO] Sniff delimiter as ','\u001b[0m\n",
      "\u001b[35m[2020-05-01:14:02:36:INFO] Determined delimiter of CSV input is ','\u001b[0m\n",
      "\u001b[35m[2020-05-01:14:02:36:INFO] Sniff delimiter as ','\u001b[0m\n",
      "\u001b[35m[2020-05-01:14:02:36:INFO] Determined delimiter of CSV input is ','\u001b[0m\n",
      "\u001b[34m[2020-05-01:14:02:38:INFO] Sniff delimiter as ','\u001b[0m\n",
      "\u001b[34m[2020-05-01:14:02:38:INFO] Determined delimiter of CSV input is ','\u001b[0m\n",
      "\u001b[34m[2020-05-01:14:02:38:INFO] Sniff delimiter as ','\u001b[0m\n",
      "\u001b[34m[2020-05-01:14:02:38:INFO] Determined delimiter of CSV input is ','\u001b[0m\n",
      "\u001b[35m[2020-05-01:14:02:38:INFO] Sniff delimiter as ','\u001b[0m\n",
      "\u001b[35m[2020-05-01:14:02:38:INFO] Determined delimiter of CSV input is ','\u001b[0m\n",
      "\u001b[35m[2020-05-01:14:02:38:INFO] Sniff delimiter as ','\u001b[0m\n",
      "\u001b[35m[2020-05-01:14:02:38:INFO] Determined delimiter of CSV input is ','\u001b[0m\n",
      "\u001b[34m[2020-05-01:14:02:39:INFO] Sniff delimiter as ','\u001b[0m\n",
      "\u001b[34m[2020-05-01:14:02:39:INFO] Determined delimiter of CSV input is ','\u001b[0m\n",
      "\u001b[34m[2020-05-01:14:02:39:INFO] Sniff delimiter as ','\u001b[0m\n",
      "\u001b[34m[2020-05-01:14:02:39:INFO] Determined delimiter of CSV input is ','\u001b[0m\n",
      "\u001b[35m[2020-05-01:14:02:39:INFO] Sniff delimiter as ','\u001b[0m\n",
      "\u001b[35m[2020-05-01:14:02:39:INFO] Determined delimiter of CSV input is ','\u001b[0m\n",
      "\u001b[35m[2020-05-01:14:02:39:INFO] Sniff delimiter as ','\u001b[0m\n",
      "\u001b[35m[2020-05-01:14:02:39:INFO] Determined delimiter of CSV input is ','\u001b[0m\n",
      "\u001b[34m[2020-05-01:14:02:41:INFO] Sniff delimiter as ','\u001b[0m\n",
      "\u001b[34m[2020-05-01:14:02:41:INFO] Determined delimiter of CSV input is ','\u001b[0m\n",
      "\u001b[34m[2020-05-01:14:02:41:INFO] Sniff delimiter as ','\u001b[0m\n",
      "\u001b[34m[2020-05-01:14:02:41:INFO] Determined delimiter of CSV input is ','\u001b[0m\n",
      "\u001b[35m[2020-05-01:14:02:41:INFO] Sniff delimiter as ','\u001b[0m\n",
      "\u001b[35m[2020-05-01:14:02:41:INFO] Determined delimiter of CSV input is ','\u001b[0m\n",
      "\u001b[35m[2020-05-01:14:02:41:INFO] Sniff delimiter as ','\u001b[0m\n",
      "\u001b[35m[2020-05-01:14:02:41:INFO] Determined delimiter of CSV input is ','\u001b[0m\n",
      "\u001b[34m[2020-05-01:14:02:43:INFO] Sniff delimiter as ','\u001b[0m\n",
      "\u001b[34m[2020-05-01:14:02:43:INFO] Determined delimiter of CSV input is ','\u001b[0m\n",
      "\u001b[34m[2020-05-01:14:02:43:INFO] Sniff delimiter as ','\u001b[0m\n",
      "\u001b[34m[2020-05-01:14:02:43:INFO] Determined delimiter of CSV input is ','\u001b[0m\n",
      "\u001b[34m[2020-05-01:14:02:43:INFO] Sniff delimiter as ','\u001b[0m\n",
      "\u001b[34m[2020-05-01:14:02:43:INFO] Determined delimiter of CSV input is ','\u001b[0m\n",
      "\u001b[35m[2020-05-01:14:02:43:INFO] Sniff delimiter as ','\u001b[0m\n",
      "\u001b[35m[2020-05-01:14:02:43:INFO] Determined delimiter of CSV input is ','\u001b[0m\n",
      "\u001b[35m[2020-05-01:14:02:43:INFO] Sniff delimiter as ','\u001b[0m\n",
      "\u001b[35m[2020-05-01:14:02:43:INFO] Determined delimiter of CSV input is ','\u001b[0m\n",
      "\u001b[35m[2020-05-01:14:02:43:INFO] Sniff delimiter as ','\u001b[0m\n",
      "\u001b[35m[2020-05-01:14:02:43:INFO] Determined delimiter of CSV input is ','\u001b[0m\n",
      "\u001b[34m[2020-05-01:14:02:44:INFO] Sniff delimiter as ','\u001b[0m\n",
      "\u001b[34m[2020-05-01:14:02:44:INFO] Determined delimiter of CSV input is ','\u001b[0m\n",
      "\u001b[35m[2020-05-01:14:02:44:INFO] Sniff delimiter as ','\u001b[0m\n",
      "\u001b[35m[2020-05-01:14:02:44:INFO] Determined delimiter of CSV input is ','\u001b[0m\n",
      "\u001b[34m[2020-05-01:14:02:46:INFO] Sniff delimiter as ','\u001b[0m\n",
      "\u001b[34m[2020-05-01:14:02:46:INFO] Determined delimiter of CSV input is ','\u001b[0m\n",
      "\u001b[34m[2020-05-01:14:02:46:INFO] Sniff delimiter as ','\u001b[0m\n",
      "\u001b[34m[2020-05-01:14:02:46:INFO] Determined delimiter of CSV input is ','\u001b[0m\n",
      "\u001b[34m[2020-05-01:14:02:46:INFO] Sniff delimiter as ','\u001b[0m\n",
      "\u001b[34m[2020-05-01:14:02:46:INFO] Determined delimiter of CSV input is ','\u001b[0m\n",
      "\u001b[34m[2020-05-01:14:02:46:INFO] Sniff delimiter as ','\u001b[0m\n",
      "\u001b[34m[2020-05-01:14:02:46:INFO] Determined delimiter of CSV input is ','\u001b[0m\n",
      "\u001b[35m[2020-05-01:14:02:46:INFO] Sniff delimiter as ','\u001b[0m\n",
      "\u001b[35m[2020-05-01:14:02:46:INFO] Determined delimiter of CSV input is ','\u001b[0m\n",
      "\u001b[35m[2020-05-01:14:02:46:INFO] Sniff delimiter as ','\u001b[0m\n",
      "\u001b[35m[2020-05-01:14:02:46:INFO] Determined delimiter of CSV input is ','\u001b[0m\n",
      "\u001b[35m[2020-05-01:14:02:46:INFO] Sniff delimiter as ','\u001b[0m\n",
      "\u001b[35m[2020-05-01:14:02:46:INFO] Determined delimiter of CSV input is ','\u001b[0m\n",
      "\u001b[35m[2020-05-01:14:02:46:INFO] Sniff delimiter as ','\u001b[0m\n",
      "\u001b[35m[2020-05-01:14:02:46:INFO] Determined delimiter of CSV input is ','\u001b[0m\n",
      "\u001b[34m[2020-05-01:14:02:48:INFO] Sniff delimiter as ','\u001b[0m\n",
      "\u001b[34m[2020-05-01:14:02:48:INFO] Determined delimiter of CSV input is ','\u001b[0m\n",
      "\u001b[34m[2020-05-01:14:02:48:INFO] Sniff delimiter as ','\u001b[0m\n",
      "\u001b[34m[2020-05-01:14:02:48:INFO] Determined delimiter of CSV input is ','\u001b[0m\n",
      "\u001b[34m[2020-05-01:14:02:48:INFO] Sniff delimiter as ','\u001b[0m\n",
      "\u001b[34m[2020-05-01:14:02:48:INFO] Determined delimiter of CSV input is ','\u001b[0m\n",
      "\u001b[34m[2020-05-01:14:02:48:INFO] Sniff delimiter as ','\u001b[0m\n",
      "\u001b[34m[2020-05-01:14:02:48:INFO] Determined delimiter of CSV input is ','\u001b[0m\n",
      "\u001b[35m[2020-05-01:14:02:48:INFO] Sniff delimiter as ','\u001b[0m\n",
      "\u001b[35m[2020-05-01:14:02:48:INFO] Determined delimiter of CSV input is ','\u001b[0m\n",
      "\u001b[35m[2020-05-01:14:02:48:INFO] Sniff delimiter as ','\u001b[0m\n",
      "\u001b[35m[2020-05-01:14:02:48:INFO] Determined delimiter of CSV input is ','\u001b[0m\n",
      "\u001b[35m[2020-05-01:14:02:48:INFO] Sniff delimiter as ','\u001b[0m\n",
      "\u001b[35m[2020-05-01:14:02:48:INFO] Determined delimiter of CSV input is ','\u001b[0m\n",
      "\u001b[35m[2020-05-01:14:02:48:INFO] Sniff delimiter as ','\u001b[0m\n",
      "\u001b[35m[2020-05-01:14:02:48:INFO] Determined delimiter of CSV input is ','\u001b[0m\n",
      "\n",
      "\u001b[34m[2020-05-01:14:02:53:INFO] Sniff delimiter as ','\u001b[0m\n",
      "\u001b[34m[2020-05-01:14:02:53:INFO] Determined delimiter of CSV input is ','\u001b[0m\n",
      "\u001b[35m[2020-05-01:14:02:53:INFO] Sniff delimiter as ','\u001b[0m\n",
      "\u001b[35m[2020-05-01:14:02:53:INFO] Determined delimiter of CSV input is ','\u001b[0m\n",
      "\u001b[34m[2020-05-01:14:02:53:INFO] Sniff delimiter as ','\u001b[0m\n",
      "\u001b[34m[2020-05-01:14:02:53:INFO] Determined delimiter of CSV input is ','\u001b[0m\n",
      "\u001b[34m[2020-05-01:14:02:53:INFO] Sniff delimiter as ','\u001b[0m\n",
      "\u001b[34m[2020-05-01:14:02:53:INFO] Determined delimiter of CSV input is ','\u001b[0m\n",
      "\u001b[34m[2020-05-01:14:02:53:INFO] Sniff delimiter as ','\u001b[0m\n",
      "\u001b[34m[2020-05-01:14:02:53:INFO] Determined delimiter of CSV input is ','\u001b[0m\n",
      "\u001b[35m[2020-05-01:14:02:53:INFO] Sniff delimiter as ','\u001b[0m\n",
      "\u001b[35m[2020-05-01:14:02:53:INFO] Determined delimiter of CSV input is ','\u001b[0m\n",
      "\u001b[35m[2020-05-01:14:02:53:INFO] Sniff delimiter as ','\u001b[0m\n",
      "\u001b[35m[2020-05-01:14:02:53:INFO] Determined delimiter of CSV input is ','\u001b[0m\n",
      "\u001b[35m[2020-05-01:14:02:53:INFO] Sniff delimiter as ','\u001b[0m\n",
      "\u001b[35m[2020-05-01:14:02:53:INFO] Determined delimiter of CSV input is ','\u001b[0m\n",
      "\u001b[34m[2020-05-01:14:02:55:INFO] Sniff delimiter as ','\u001b[0m\n",
      "\u001b[34m[2020-05-01:14:02:55:INFO] Determined delimiter of CSV input is ','\u001b[0m\n",
      "\u001b[35m[2020-05-01:14:02:55:INFO] Sniff delimiter as ','\u001b[0m\n",
      "\u001b[35m[2020-05-01:14:02:55:INFO] Determined delimiter of CSV input is ','\u001b[0m\n",
      "\u001b[34m[2020-05-01:14:02:56:INFO] Sniff delimiter as ','\u001b[0m\n",
      "\u001b[34m[2020-05-01:14:02:56:INFO] Determined delimiter of CSV input is ','\u001b[0m\n",
      "\u001b[34m[2020-05-01:14:02:56:INFO] Sniff delimiter as ','\u001b[0m\n",
      "\u001b[34m[2020-05-01:14:02:56:INFO] Determined delimiter of CSV input is ','\u001b[0m\n",
      "\u001b[34m[2020-05-01:14:02:56:INFO] Sniff delimiter as ','\u001b[0m\n",
      "\u001b[34m[2020-05-01:14:02:56:INFO] Determined delimiter of CSV input is ','\u001b[0m\n",
      "\u001b[35m[2020-05-01:14:02:56:INFO] Sniff delimiter as ','\u001b[0m\n",
      "\u001b[35m[2020-05-01:14:02:56:INFO] Determined delimiter of CSV input is ','\u001b[0m\n",
      "\u001b[35m[2020-05-01:14:02:56:INFO] Sniff delimiter as ','\u001b[0m\n",
      "\u001b[35m[2020-05-01:14:02:56:INFO] Determined delimiter of CSV input is ','\u001b[0m\n",
      "\u001b[35m[2020-05-01:14:02:56:INFO] Sniff delimiter as ','\u001b[0m\n",
      "\u001b[35m[2020-05-01:14:02:56:INFO] Determined delimiter of CSV input is ','\u001b[0m\n",
      "\u001b[34m[2020-05-01:14:02:58:INFO] Sniff delimiter as ','\u001b[0m\n",
      "\u001b[34m[2020-05-01:14:02:58:INFO] Determined delimiter of CSV input is ','\u001b[0m\n",
      "\u001b[34m[2020-05-01:14:02:58:INFO] Sniff delimiter as ','\u001b[0m\n",
      "\u001b[34m[2020-05-01:14:02:58:INFO] Determined delimiter of CSV input is ','\u001b[0m\n",
      "\u001b[34m[2020-05-01:14:02:58:INFO] Sniff delimiter as ','\u001b[0m\n",
      "\u001b[34m[2020-05-01:14:02:58:INFO] Determined delimiter of CSV input is ','\u001b[0m\n",
      "\u001b[35m[2020-05-01:14:02:58:INFO] Sniff delimiter as ','\u001b[0m\n",
      "\u001b[35m[2020-05-01:14:02:58:INFO] Determined delimiter of CSV input is ','\u001b[0m\n",
      "\u001b[35m[2020-05-01:14:02:58:INFO] Sniff delimiter as ','\u001b[0m\n",
      "\u001b[35m[2020-05-01:14:02:58:INFO] Determined delimiter of CSV input is ','\u001b[0m\n",
      "\u001b[35m[2020-05-01:14:02:58:INFO] Sniff delimiter as ','\u001b[0m\n",
      "\u001b[35m[2020-05-01:14:02:58:INFO] Determined delimiter of CSV input is ','\u001b[0m\n",
      "\u001b[34m[2020-05-01:14:02:58:INFO] Sniff delimiter as ','\u001b[0m\n",
      "\u001b[34m[2020-05-01:14:02:58:INFO] Determined delimiter of CSV input is ','\u001b[0m\n",
      "\u001b[35m[2020-05-01:14:02:58:INFO] Sniff delimiter as ','\u001b[0m\n",
      "\u001b[35m[2020-05-01:14:02:58:INFO] Determined delimiter of CSV input is ','\u001b[0m\n"
     ]
    }
   ],
   "source": [
    "xgb_transformer.wait()"
   ]
  },
  {
   "cell_type": "markdown",
   "metadata": {},
   "source": [
    "Now the transform job has executed and the result, the estimated sentiment of each review, has been saved on S3. Since we would rather work on this file locally we can perform a bit of notebook magic to copy the file to the `data_dir`."
   ]
  },
  {
   "cell_type": "code",
   "execution_count": 27,
   "metadata": {},
   "outputs": [
    {
     "name": "stdout",
     "output_type": "stream",
     "text": [
      "Completed 256.0 KiB/368.7 KiB (5.1 MiB/s) with 1 file(s) remaining\r",
      "Completed 368.7 KiB/368.7 KiB (7.2 MiB/s) with 1 file(s) remaining\r",
      "download: s3://sagemaker-us-east-2-180564272071/xgboost-2020-05-01-13-59-05-337/test.csv.out to ../data/sentiment_web_app/test.csv.out\r\n"
     ]
    }
   ],
   "source": [
    "!aws s3 cp --recursive $xgb_transformer.output_path $data_dir"
   ]
  },
  {
   "cell_type": "markdown",
   "metadata": {},
   "source": [
    "The last step is now to read in the output from our model, convert the output to something a little more usable, in this case we want the sentiment to be either `1` (positive) or `0` (negative), and then compare to the ground truth labels."
   ]
  },
  {
   "cell_type": "code",
   "execution_count": 28,
   "metadata": {},
   "outputs": [],
   "source": [
    "predictions = pd.read_csv(os.path.join(data_dir, 'test.csv.out'), header=None)\n",
    "predictions = [round(num) for num in predictions.squeeze().values]"
   ]
  },
  {
   "cell_type": "code",
   "execution_count": 29,
   "metadata": {},
   "outputs": [
    {
     "data": {
      "text/plain": [
       "0.84984"
      ]
     },
     "execution_count": 29,
     "metadata": {},
     "output_type": "execute_result"
    }
   ],
   "source": [
    "from sklearn.metrics import accuracy_score\n",
    "accuracy_score(test_y, predictions)"
   ]
  },
  {
   "cell_type": "markdown",
   "metadata": {},
   "source": [
    "## Step 6: Deploying the model\n",
    "\n",
    "Once we construct and fit our model, SageMaker stores the resulting model artifacts and we can use those to deploy an endpoint (inference code). To see this, look in the SageMaker console and you should see that a model has been created along with a link to the S3 location where the model artifacts have been stored.\n",
    "\n",
    "Deploying an endpoint is a lot like training the model with a few important differences. The first is that a deployed model doesn't change the model artifacts, so as you send it various testing instances the model won't change. Another difference is that since we aren't performing a fixed computation, as we were in the training step or while performing a batch transform, the compute instance that gets started stays running until we tell it to stop. This is important to note as if we forget and leave it running we will be charged the entire time.\n",
    "\n",
    "In other words **If you are no longer using a deployed endpoint, shut it down!**"
   ]
  },
  {
   "cell_type": "code",
   "execution_count": 30,
   "metadata": {},
   "outputs": [
    {
     "name": "stderr",
     "output_type": "stream",
     "text": [
      "WARNING:sagemaker:Using already existing model: xgboost-2020-05-01-13-53-21-793\n"
     ]
    },
    {
     "name": "stdout",
     "output_type": "stream",
     "text": [
      "-----------!"
     ]
    }
   ],
   "source": [
    "xgb_predictor = xgb.deploy(initial_instance_count = 1, instance_type = 'ml.m4.xlarge')"
   ]
  },
  {
   "cell_type": "markdown",
   "metadata": {},
   "source": [
    "### Testing the model (again)\n",
    "\n",
    "Now that we have deployed our endpoint, we can send the testing data to it and get back the inference results. We already did this earlier using the batch transform functionality of SageMaker, however, we will test our model again using the newly deployed endpoint so that we can make sure that it works properly and to get a bit of a feel for how the endpoint works.\n",
    "\n",
    "When using the created endpoint it is important to know that we are limited in the amount of information we can send in each call so we need to break the testing data up into chunks and then send each chunk. Also, we need to serialize our data before we send it to the endpoint to ensure that our data is transmitted properly. Fortunately, SageMaker can do the serialization part for us provided we tell it the format of our data."
   ]
  },
  {
   "cell_type": "code",
   "execution_count": 31,
   "metadata": {},
   "outputs": [],
   "source": [
    "from sagemaker.predictor import csv_serializer\n",
    "\n",
    "# We need to tell the endpoint what format the data we are sending is in so that SageMaker can perform the serialization.\n",
    "xgb_predictor.content_type = 'text/csv'\n",
    "xgb_predictor.serializer = csv_serializer"
   ]
  },
  {
   "cell_type": "code",
   "execution_count": 32,
   "metadata": {},
   "outputs": [],
   "source": [
    "# We split the data into chunks and send each chunk seperately, accumulating the results.\n",
    "\n",
    "def predict(data, rows=512):\n",
    "    split_array = np.array_split(data, int(data.shape[0] / float(rows) + 1))\n",
    "    predictions = ''\n",
    "    for array in split_array:\n",
    "        predictions = ','.join([predictions, xgb_predictor.predict(array).decode('utf-8')])\n",
    "    \n",
    "    return np.fromstring(predictions[1:], sep=',')"
   ]
  },
  {
   "cell_type": "code",
   "execution_count": 33,
   "metadata": {},
   "outputs": [],
   "source": [
    "test_X = pd.read_csv(os.path.join(data_dir, 'test.csv'), header=None).values\n",
    "\n",
    "predictions = predict(test_X)\n",
    "predictions = [round(num) for num in predictions]"
   ]
  },
  {
   "cell_type": "markdown",
   "metadata": {},
   "source": [
    "Lastly, we check to see what the accuracy of our model is."
   ]
  },
  {
   "cell_type": "code",
   "execution_count": 34,
   "metadata": {},
   "outputs": [
    {
     "data": {
      "text/plain": [
       "0.84984"
      ]
     },
     "execution_count": 34,
     "metadata": {},
     "output_type": "execute_result"
    }
   ],
   "source": [
    "from sklearn.metrics import accuracy_score\n",
    "accuracy_score(test_y, predictions)"
   ]
  },
  {
   "cell_type": "markdown",
   "metadata": {},
   "source": [
    "And the results here should agree with the model testing that we did earlier using the batch transform job.\n",
    "\n",
    "### Cleaning up\n",
    "\n",
    "Now that we've determined that deploying our model works as expected, we are going to shut it down. Remember that the longer the endpoint is left running, the greater the cost and since we have a bit more work to do before we are able to use our endpoint with our simple web app, we should shut everything down."
   ]
  },
  {
   "cell_type": "code",
   "execution_count": 35,
   "metadata": {},
   "outputs": [],
   "source": [
    "xgb_predictor.delete_endpoint()"
   ]
  },
  {
   "cell_type": "markdown",
   "metadata": {},
   "source": [
    "## Step 7: Putting our model to work\n",
    "\n",
    "As we've mentioned a few times now, our goal is to have our model deployed and then access it using a very simple web app. The intent is for this web app to take some user submitted data (a review), send it off to our endpoint (the model) and then display the result.\n",
    "\n",
    "However, there is a small catch. Currently the only way we can access the endpoint to send it data is using the SageMaker API. We can, if we wish, expose the actual URL that our model's endpoint is receiving data from, however, if we just send it data ourselves we will not get anything in return. This is because the endpoint created by SageMaker requires the entity accessing it have the correct permissions. So, we would need to somehow authenticate our web app with AWS.\n",
    "\n",
    "Having a website that authenticates to AWS seems a bit beyond the scope of this lesson so we will opt for an alternative approach. Namely, we will create a new endpoint which does not require authentication and which acts as a proxy for the SageMaker endpoint.\n",
    "\n",
    "As an additional constraint, we will try to avoid doing any data processing in the web app itself. Remember that when we constructed and tested our model we started with a movie review, then we simplified it by removing any html formatting and punctuation, then we constructed a bag of words embedding and the resulting vector is what we sent to our model. All of this needs to be done to our user input as well.\n",
    "\n",
    "Fortunately we can do all of this data processing in the backend, using Amazon's Lambda service.\n",
    "\n",
    "<img src=\"Web App Diagram.svg\">\n",
    "\n",
    "The diagram above gives an overview of how the various services will work together. On the far right is the model which we trained above and which will be deployed using SageMaker. On the far left is our web app that collects a user's movie review, sends it off and expects a positive or negative sentiment in return.\n",
    "\n",
    "In the middle is where some of the magic happens. We will construct a Lambda function, which you can think of as a straightforward Python function that can be executed whenever a specified event occurs. This Python function will do the data processing we need to perform on a user submitted review. In addition, we will give this function permission to send and recieve data from a SageMaker endpoint.\n",
    "\n",
    "Lastly, the method we will use to execute the Lambda function is a new endpoint that we will create using API Gateway. This endpoint will be a url that listens for data to be sent to it. Once it gets some data it will pass that data on to the Lambda function and then return whatever the Lambda function returns. Essentially it will act as an interface that lets our web app communicate with the Lambda function.\n",
    "\n",
    "### Processing a single review\n",
    "\n",
    "For now, suppose we are given a movie review by our user in the form of a string, like so:"
   ]
  },
  {
   "cell_type": "code",
   "execution_count": 36,
   "metadata": {},
   "outputs": [],
   "source": [
    "test_review = \"Nothing but a disgusting materialistic pageant of glistening abed remote control greed zombies, totally devoid of any heart or heat. A romantic comedy that has zero romantic chemestry and zero laughs!\""
   ]
  },
  {
   "cell_type": "markdown",
   "metadata": {},
   "source": [
    "How do we go from this string to the bag of words feature vector that is expected by our model?\n",
    "\n",
    "If we recall at the beginning of this notebook, the first step is to remove any unnecessary characters using the `review_to_words` method. Remember that we intentionally did this in a very simplistic way. This is because we are going to have to copy this method to our (eventual) Lambda function (we will go into more detail later) and this means it needs to be rather simplistic."
   ]
  },
  {
   "cell_type": "code",
   "execution_count": 37,
   "metadata": {},
   "outputs": [
    {
     "name": "stdout",
     "output_type": "stream",
     "text": [
      "nothing but a disgusting materialistic pageant of glistening abed remote control greed zombies totally devoid of any heart or heat a romantic comedy that has zero romantic chemestry and zero laughs\n"
     ]
    }
   ],
   "source": [
    "test_words = review_to_words(test_review)\n",
    "print(test_words)"
   ]
  },
  {
   "cell_type": "markdown",
   "metadata": {},
   "source": [
    "Next, we need to construct a bag of words embedding of the `test_words` string. To do this, remember that a bag of words embedding uses a `vocabulary` consisting of the most frequently appearing words in a set of documents. Then, for each word in the vocabulary we record the number of times that word appears in `test_words`. We constructed the `vocabulary` earlier using the training set for our problem so encoding `test_words` is relatively straightforward."
   ]
  },
  {
   "cell_type": "code",
   "execution_count": 38,
   "metadata": {},
   "outputs": [],
   "source": [
    "def bow_encoding(words, vocabulary):\n",
    "    bow = [0] * len(vocabulary) # Start by setting the count for each word in the vocabulary to zero.\n",
    "    for word in words.split():  # For each word in the string\n",
    "        if word in vocabulary:  # If the word is one that occurs in the vocabulary, increase its count.\n",
    "            bow[vocabulary[word]] += 1\n",
    "    return bow"
   ]
  },
  {
   "cell_type": "code",
   "execution_count": 39,
   "metadata": {},
   "outputs": [
    {
     "name": "stdout",
     "output_type": "stream",
     "text": [
      "[0, 0, 0, 0, 0, 0, 0, 0, 0, 0, 0, 0, 0, 0, 0, 0, 0, 0, 0, 0, 0, 0, 0, 0, 0, 0, 0, 0, 0, 0, 0, 0, 0, 0, 0, 0, 0, 0, 0, 0, 0, 0, 0, 0, 0, 0, 0, 0, 0, 0, 0, 0, 0, 0, 0, 0, 0, 0, 0, 0, 0, 0, 0, 0, 0, 0, 0, 0, 0, 0, 0, 0, 0, 0, 0, 0, 0, 0, 0, 0, 0, 0, 0, 0, 0, 0, 0, 0, 0, 0, 0, 0, 0, 0, 0, 0, 0, 0, 0, 0, 0, 0, 0, 0, 0, 0, 0, 0, 0, 0, 0, 0, 0, 0, 0, 0, 0, 0, 0, 0, 0, 0, 0, 0, 0, 0, 0, 0, 0, 0, 0, 0, 0, 0, 0, 0, 0, 0, 0, 0, 0, 0, 0, 0, 0, 0, 0, 0, 0, 0, 0, 0, 0, 0, 0, 0, 0, 0, 0, 0, 0, 0, 0, 0, 0, 0, 0, 0, 0, 0, 0, 0, 0, 0, 0, 0, 0, 0, 0, 0, 0, 0, 0, 0, 0, 0, 0, 0, 0, 0, 0, 0, 0, 0, 0, 0, 0, 0, 0, 0, 0, 0, 0, 0, 0, 0, 0, 0, 0, 0, 0, 0, 0, 0, 0, 0, 0, 0, 0, 0, 0, 0, 0, 0, 0, 0, 1, 0, 0, 0, 0, 0, 0, 0, 0, 0, 0, 0, 0, 0, 0, 0, 0, 0, 0, 0, 0, 0, 0, 0, 0, 0, 0, 0, 0, 0, 1, 0, 0, 0, 0, 0, 0, 0, 0, 0, 0, 0, 0, 0, 0, 0, 0, 0, 0, 0, 0, 0, 0, 0, 0, 0, 0, 0, 0, 0, 0, 0, 0, 0, 0, 0, 0, 0, 0, 0, 0, 0, 0, 0, 0, 0, 0, 0, 0, 0, 0, 0, 0, 0, 0, 0, 0, 0, 0, 0, 0, 0, 0, 0, 0, 0, 0, 0, 0, 0, 0, 0, 0, 0, 0, 0, 0, 0, 0, 0, 0, 0, 0, 0, 0, 0, 0, 0, 0, 0, 0, 0, 0, 0, 0, 0, 0, 0, 0, 0, 0, 0, 0, 0, 0, 0, 0, 0, 0, 0, 0, 0, 0, 0, 0, 0, 0, 0, 0, 0, 0, 0, 0, 0, 0, 0, 0, 0, 0, 0, 0, 0, 0, 0, 0, 0, 0, 0, 0, 0, 0, 0, 0, 0, 0, 0, 0, 0, 0, 0, 0, 0, 0, 0, 0, 0, 0, 0, 0, 0, 0, 0, 0, 0, 0, 0, 0, 0, 0, 0, 0, 0, 0, 0, 0, 0, 0, 0, 0, 0, 0, 0, 0, 0, 0, 0, 0, 0, 0, 0, 0, 0, 0, 0, 0, 0, 0, 0, 0, 0, 0, 0, 0, 0, 0, 0, 0, 0, 0, 0, 0, 0, 0, 0, 0, 0, 0, 0, 0, 0, 0, 0, 0, 0, 0, 0, 0, 0, 0, 0, 0, 0, 0, 0, 0, 0, 0, 0, 0, 0, 0, 0, 0, 0, 0, 0, 0, 0, 0, 0, 0, 0, 0, 0, 0, 0, 0, 0, 0, 0, 0, 0, 0, 0, 0, 0, 0, 0, 0, 0, 0, 0, 0, 0, 0, 0, 0, 0, 0, 0, 0, 0, 0, 0, 0, 0, 0, 0, 0, 0, 0, 0, 0, 0, 0, 0, 0, 0, 0, 0, 0, 0, 0, 0, 0, 0, 0, 0, 0, 0, 0, 0, 0, 0, 0, 0, 0, 0, 0, 0, 0, 0, 0, 0, 0, 0, 0, 0, 0, 0, 0, 0, 0, 0, 0, 0, 0, 0, 0, 0, 0, 0, 0, 0, 0, 0, 0, 0, 0, 0, 0, 0, 0, 0, 0, 0, 0, 0, 0, 0, 0, 0, 0, 0, 0, 0, 0, 0, 0, 0, 0, 0, 0, 0, 0, 0, 0, 0, 0, 0, 1, 0, 0, 0, 0, 0, 0, 0, 0, 0, 0, 0, 0, 0, 0, 0, 0, 0, 0, 0, 0, 0, 0, 0, 0, 0, 0, 0, 0, 0, 0, 0, 0, 0, 0, 0, 0, 0, 0, 0, 0, 0, 0, 0, 0, 0, 0, 0, 0, 0, 0, 0, 0, 0, 0, 0, 0, 0, 0, 0, 0, 0, 0, 0, 0, 0, 0, 0, 0, 0, 0, 0, 0, 0, 0, 0, 0, 0, 0, 0, 0, 0, 0, 0, 0, 0, 0, 0, 0, 0, 0, 0, 0, 0, 0, 0, 0, 0, 0, 0, 0, 0, 0, 0, 0, 0, 0, 0, 0, 0, 0, 0, 0, 0, 0, 0, 0, 0, 0, 0, 0, 0, 0, 0, 0, 0, 0, 0, 0, 0, 0, 0, 0, 0, 0, 0, 0, 0, 0, 0, 0, 0, 0, 0, 0, 0, 0, 0, 0, 0, 0, 0, 0, 0, 0, 0, 0, 0, 0, 0, 0, 0, 0, 0, 0, 0, 0, 0, 0, 0, 0, 0, 0, 0, 0, 0, 0, 0, 0, 0, 0, 0, 0, 0, 0, 0, 0, 0, 0, 0, 0, 0, 0, 0, 0, 0, 0, 0, 0, 0, 0, 0, 0, 0, 0, 0, 0, 0, 0, 0, 0, 0, 0, 0, 0, 0, 0, 0, 0, 0, 0, 0, 0, 0, 0, 0, 0, 0, 0, 0, 0, 0, 0, 0, 0, 0, 0, 0, 0, 0, 0, 0, 0, 0, 0, 0, 0, 0, 0, 0, 0, 0, 0, 0, 1, 0, 0, 0, 0, 0, 0, 0, 0, 0, 0, 0, 0, 0, 0, 0, 0, 0, 0, 0, 0, 0, 0, 0, 0, 0, 0, 0, 0, 0, 0, 0, 0, 0, 0, 0, 0, 0, 0, 0, 0, 0, 0, 0, 0, 0, 0, 0, 0, 0, 0, 0, 0, 0, 0, 0, 0, 0, 0, 0, 0, 0, 0, 0, 0, 0, 0, 0, 0, 0, 0, 0, 0, 0, 0, 0, 0, 0, 0, 0, 0, 0, 0, 0, 0, 0, 0, 1, 0, 0, 0, 0, 0, 0, 0, 0, 0, 0, 0, 0, 0, 0, 0, 0, 0, 0, 0, 0, 0, 0, 0, 0, 0, 0, 0, 0, 0, 0, 0, 0, 0, 0, 0, 0, 0, 0, 0, 0, 0, 0, 0, 0, 0, 0, 0, 0, 0, 0, 0, 0, 0, 0, 0, 0, 0, 0, 0, 0, 0, 0, 0, 0, 0, 0, 0, 0, 0, 0, 0, 0, 0, 0, 0, 0, 0, 0, 0, 0, 0, 0, 0, 0, 0, 0, 0, 0, 0, 0, 0, 0, 0, 0, 0, 0, 0, 0, 0, 0, 0, 0, 0, 0, 0, 0, 0, 0, 0, 0, 0, 0, 0, 0, 0, 0, 0, 0, 0, 0, 0, 0, 0, 0, 0, 0, 0, 0, 0, 0, 0, 0, 0, 0, 0, 0, 0, 0, 0, 0, 0, 0, 0, 0, 0, 0, 0, 0, 0, 0, 0, 0, 0, 0, 0, 0, 0, 0, 0, 0, 0, 0, 0, 0, 0, 0, 0, 0, 0, 0, 0, 0, 0, 0, 0, 0, 0, 0, 0, 0, 0, 0, 0, 0, 0, 0, 0, 0, 0, 0, 0, 0, 0, 0, 0, 0, 0, 0, 0, 0, 0, 0, 0, 0, 0, 0, 0, 0, 0, 0, 0, 0, 0, 0, 0, 0, 0, 0, 0, 0, 0, 0, 0, 0, 0, 0, 0, 0, 0, 0, 0, 0, 0, 0, 0, 0, 0, 0, 0, 0, 0, 0, 0, 0, 0, 0, 0, 0, 0, 0, 0, 0, 1, 0, 0, 0, 0, 0, 0, 0, 0, 0, 0, 0, 0, 0, 0, 0, 0, 0, 0, 0, 0, 0, 0, 0, 0, 0, 0, 0, 0, 0, 0, 0, 0, 0, 0, 0, 0, 0, 0, 0, 0, 0, 0, 0, 0, 0, 0, 0, 0, 0, 0, 0, 0, 0, 0, 0, 1, 0, 0, 0, 0, 0, 0, 0, 0, 0, 0, 0, 0, 0, 0, 0, 0, 0, 0, 0, 0, 0, 0, 0, 0, 0, 0, 0, 0, 0, 0, 0, 0, 0, 0, 0, 0, 0, 0, 0, 0, 0, 0, 0, 0, 0, 0, 0, 0, 0, 0, 0, 0, 0, 0, 0, 0, 0, 0, 0, 0, 0, 0, 0, 0, 0, 0, 0, 0, 0, 0, 0, 0, 0, 0, 0, 0, 0, 0, 0, 0, 0, 0, 0, 0, 0, 0, 0, 0, 0, 0, 0, 0, 0, 0, 0, 0, 0, 0, 0, 0, 0, 0, 0, 0, 0, 0, 0, 0, 0, 0, 0, 0, 0, 0, 0, 0, 0, 0, 0, 0, 0, 0, 0, 0, 0, 0, 0, 0, 0, 0, 0, 0, 0, 0, 0, 0, 0, 0, 0, 0, 0, 0, 0, 0, 0, 0, 0, 0, 0, 0, 0, 0, 0, 0, 0, 0, 0, 0, 0, 0, 0, 0, 0, 0, 0, 0, 0, 0, 0, 0, 0, 0, 0, 0, 0, 0, 0, 0, 0, 0, 0, 0, 0, 0, 0, 0, 0, 0, 0, 0, 0, 0, 0, 0, 0, 0, 0, 0, 0, 0, 0, 0, 0, 0, 0, 0, 0, 0, 0, 0, 0, 0, 0, 0, 0, 0, 0, 0, 0, 0, 0, 0, 0, 0, 0, 0, 0, 0, 0, 0, 0, 0, 0, 0, 0, 0, 0, 0, 0, 0, 0, 0, 0, 0, 0, 0, 0, 0, 0, 0, 0, 0, 0, 0, 0, 0, 0, 0, 0, 0, 0, 0, 0, 0, 0, 0, 0, 0, 0, 0, 0, 0, 0, 0, 0, 0, 0, 0, 0, 0, 0, 0, 0, 0, 0, 0, 0, 0, 0, 0, 0, 0, 0, 0, 0, 0, 0, 0, 0, 0, 0, 0, 0, 0, 0, 0, 0, 0, 0, 0, 0, 0, 0, 0, 0, 0, 0, 0, 0, 0, 0, 0, 0, 0, 0, 0, 0, 0, 0, 0, 0, 0, 0, 0, 0, 0, 0, 0, 0, 0, 0, 0, 0, 0, 0, 0, 0, 0, 0, 0, 0, 0, 0, 0, 0, 0, 0, 0, 0, 0, 0, 0, 0, 0, 0, 0, 0, 0, 0, 0, 0, 0, 0, 0, 0, 0, 0, 0, 0, 0, 0, 0, 0, 0, 0, 0, 0, 0, 0, 0, 0, 0, 0, 0, 0, 0, 0, 0, 0, 0, 0, 0, 0, 0, 0, 0, 0, 0, 0, 0, 0, 0, 0, 0, 0, 0, 0, 0, 0, 0, 0, 0, 0, 0, 0, 0, 0, 0, 0, 0, 0, 0, 0, 0, 0, 0, 0, 0, 0, 0, 0, 0, 0, 0, 0, 0, 0, 0, 0, 0, 0, 0, 0, 0, 0, 0, 0, 0, 0, 0, 0, 0, 0, 0, 0, 0, 0, 0, 0, 0, 0, 0, 0, 0, 0, 0, 0, 0, 0, 0, 0, 0, 0, 0, 0, 0, 0, 0, 0, 0, 0, 0, 0, 0, 0, 0, 0, 0, 0, 0, 0, 0, 0, 0, 0, 0, 0, 0, 0, 0, 0, 0, 0, 0, 0, 0, 0, 0, 0, 0, 0, 0, 0, 0, 0, 0, 0, 0, 0, 0, 0, 0, 0, 0, 0, 0, 0, 0, 0, 0, 0, 0, 0, 0, 0, 0, 0, 0, 0, 0, 0, 0, 0, 0, 0, 0, 0, 0, 0, 0, 0, 0, 0, 0, 0, 0, 0, 0, 0, 0, 0, 0, 0, 0, 0, 0, 0, 0, 0, 0, 0, 0, 0, 0, 0, 0, 0, 0, 0, 0, 0, 0, 0, 0, 0, 0, 0, 0, 0, 0, 0, 0, 0, 0, 0, 0, 0, 0, 0, 0, 0, 0, 0, 0, 0, 0, 0, 0, 0, 0, 0, 0, 0, 0, 0, 0, 0, 0, 0, 0, 0, 0, 0, 0, 0, 0, 0, 0, 0, 0, 0, 0, 0, 0, 0, 0, 0, 0, 0, 0, 0, 0, 0, 0, 0, 0, 0, 0, 0, 0, 0, 0, 0, 0, 0, 0, 0, 0, 0, 0, 0, 0, 0, 0, 0, 0, 0, 0, 0, 0, 0, 1, 0, 0, 0, 0, 0, 0, 0, 0, 0, 0, 0, 0, 0, 0, 0, 0, 0, 0, 0, 0, 0, 0, 0, 0, 0, 0, 0, 0, 0, 0, 0, 0, 0, 0, 0, 0, 0, 0, 0, 0, 0, 0, 0, 0, 0, 0, 0, 0, 0, 0, 0, 0, 0, 0, 0, 0, 0, 0, 0, 0, 0, 0, 0, 0, 0, 0, 0, 0, 0, 0, 0, 0, 0, 0, 1, 0, 0, 0, 0, 0, 0, 0, 0, 0, 0, 0, 0, 0, 0, 0, 0, 0, 0, 0, 0, 1, 0, 0, 1, 0, 0, 0, 0, 0, 0, 0, 0, 0, 0, 0, 0, 0, 0, 0, 0, 0, 0, 0, 0, 0, 0, 0, 0, 0, 0, 0, 0, 0, 0, 0, 0, 0, 0, 0, 0, 0, 0, 0, 0, 0, 0, 0, 0, 0, 0, 0, 0, 0, 0, 0, 0, 0, 0, 0, 0, 0, 0, 0, 0, 0, 0, 0, 0, 0, 0, 0, 0, 0, 0, 0, 0, 0, 0, 0, 0, 0, 0, 0, 0, 0, 0, 0, 0, 0, 0, 0, 0, 0, 0, 0, 0, 0, 0, 0, 0, 0, 0, 0, 0, 0, 0, 0, 0, 0, 0, 0, 0, 0, 0, 0, 0, 0, 0, 0, 0, 0, 0, 0, 0, 0, 0, 0, 0, 0, 0, 0, 0, 0, 0, 0, 0, 0, 0, 0, 0, 0, 0, 0, 0, 0, 0, 0, 0, 0, 0, 0, 0, 0, 0, 0, 0, 0, 0, 0, 0, 0, 0, 0, 0, 0, 0, 0, 0, 0, 0, 0, 0, 0, 0, 0, 0, 0, 0, 0, 0, 0, 0, 0, 0, 0, 0, 0, 0, 0, 0, 0, 0, 0, 0, 0, 0, 0, 0, 0, 0, 0, 0, 0, 0, 0, 0, 0, 0, 0, 0, 0, 0, 0, 0, 0, 0, 0, 0, 0, 0, 0, 0, 0, 0, 0, 0, 0, 0, 0, 0, 0, 0, 0, 0, 0, 0, 0, 0, 0, 0, 0, 0, 0, 0, 0, 0, 0, 0, 0, 0, 0, 0, 0, 0, 0, 0, 0, 0, 0, 0, 0, 0, 0, 0, 0, 0, 0, 0, 0, 0, 0, 0, 0, 0, 0, 0, 0, 0, 0, 0, 0, 0, 0, 0, 0, 0, 0, 0, 0, 0, 0, 0, 0, 0, 0, 0, 0, 0, 0, 0, 0, 0, 0, 0, 0, 0, 0, 0, 0, 0, 0, 0, 0, 0, 0, 0, 0, 0, 0, 0, 0, 0, 0, 0, 0, 0, 0, 0, 0, 0, 0, 0, 0, 0, 0, 0, 0, 0, 0, 0, 0, 0, 0, 0, 0, 0, 0, 0, 0, 0, 0, 0, 0, 0, 0, 0, 0, 0, 0, 0, 0, 0, 0, 0, 0, 0, 0, 0, 0, 0, 0, 0, 0, 0, 0, 0, 0, 0, 0, 0, 0, 0, 0, 0, 0, 0, 0, 0, 0, 0, 0, 0, 0, 0, 0, 0, 0, 0, 0, 0, 0, 0, 0, 0, 0, 0, 0, 0, 0, 0, 0, 0, 0, 0, 0, 0, 0, 0, 0, 0, 0, 0, 0, 0, 0, 0, 0, 0, 0, 0, 0, 0, 0, 0, 0, 0, 0, 0, 0, 0, 0, 0, 0, 0, 0, 0, 0, 0, 0, 0, 0, 0, 0, 0, 0, 0, 0, 0, 0, 0, 0, 0, 0, 0, 0, 0, 0, 0, 0, 0, 1, 0, 0, 0, 0, 0, 0, 0, 0, 0, 0, 0, 0, 0, 0, 0, 0, 0, 0, 0, 0, 0, 0, 0, 0, 0, 0, 0, 0, 0, 0, 0, 0, 0, 0, 0, 0, 0, 0, 0, 0, 0, 0, 0, 0, 0, 0, 0, 0, 0, 0, 0, 0, 0, 0, 0, 0, 0, 0, 0, 0, 0, 0, 0, 0, 0, 0, 0, 0, 0, 0, 0, 0, 0, 0, 0, 0, 0, 0, 0, 0, 0, 0, 0, 0, 0, 0, 0, 0, 0, 0, 0, 0, 0, 0, 0, 0, 0, 0, 0, 0, 0, 0, 0, 0, 0, 0, 0, 0, 0, 0, 0, 0, 0, 0, 0, 0, 0, 0, 0, 0, 0, 0, 0, 0, 0, 0, 0, 0, 0, 0, 0, 0, 0, 0, 0, 0, 0, 0, 0, 0, 0, 0, 0, 0, 0, 0, 0, 0, 0, 0, 0, 0, 0, 0, 0, 0, 0, 0, 0, 0, 0, 0, 0, 0, 0, 0, 0, 0, 0, 0, 0, 0, 0, 0, 0, 0, 0, 0, 0, 0, 0, 0, 0, 0, 0, 0, 0, 0, 0, 0, 0, 0, 0, 0, 0, 0, 0, 0, 0, 0, 0, 0, 0, 0, 0, 0, 0, 0, 0, 0, 0, 0, 0, 0, 0, 0, 0, 0, 0, 0, 0, 0, 0, 0, 0, 0, 0, 0, 0, 0, 0, 0, 0, 0, 0, 0, 0, 0, 0, 0, 0, 0, 0, 0, 0, 0, 0, 0, 0, 0, 0, 0, 0, 0, 0, 0, 0, 0, 0, 0, 0, 0, 0, 0, 0, 0, 0, 0, 0, 0, 0, 0, 0, 0, 0, 0, 0, 0, 0, 0, 0, 0, 0, 0, 0, 0, 0, 0, 0, 0, 0, 0, 0, 0, 0, 0, 0, 0, 0, 0, 0, 0, 0, 0, 0, 0, 0, 0, 0, 0, 0, 0, 0, 0, 0, 0, 0, 0, 0, 0, 0, 0, 0, 0, 0, 0, 0, 0, 0, 0, 0, 0, 0, 0, 0, 0, 0, 0, 0, 0, 0, 0, 0, 0, 0, 0, 0, 0, 0, 0, 0, 0, 0, 0, 0, 0, 0, 0, 0, 0, 0, 0, 0, 0, 0, 0, 0, 0, 0, 0, 0, 0, 0, 0, 0, 0, 0, 0, 0, 0, 0, 0, 0, 0, 0, 0, 0, 0, 0, 0, 0, 0, 0, 0, 0, 0, 0, 0, 0, 0, 0, 0, 0, 0, 0, 0, 0, 0, 0, 0, 0, 0, 0, 0, 0, 0, 0, 0, 0, 0, 0, 0, 0, 0, 0, 0, 0, 0, 0, 0, 0, 0, 0, 0, 0, 0, 0, 0, 0, 0, 0, 0, 0, 0, 0, 0, 0, 0, 0, 0, 0, 0, 0, 0, 0, 0, 0, 0, 0, 0, 0, 0, 0, 0, 0, 0, 0, 0, 0, 0, 0, 0, 0, 0, 0, 0, 0, 0, 0, 0, 0, 0, 0, 0, 0, 0, 0, 0, 0, 0, 0, 0, 0, 0, 0, 0, 0, 0, 0, 0, 0, 0, 0, 0, 0, 0, 0, 0, 0, 0, 0, 0, 1, 0, 0, 0, 0, 0, 0, 0, 0, 0, 0, 0, 0, 0, 0, 0, 0, 0, 0, 0, 0, 0, 0, 0, 0, 0, 0, 0, 0, 0, 0, 0, 0, 0, 0, 0, 2, 0, 0, 0, 0, 0, 0, 0, 0, 0, 0, 0, 0, 0, 0, 0, 0, 0, 0, 0, 0, 0, 0, 0, 0, 0, 0, 0, 0, 0, 0, 0, 0, 0, 0, 0, 0, 0, 0, 0, 0, 1, 0, 0, 0, 0, 0, 0, 0, 0, 0, 0, 0, 0, 0, 0, 0, 0, 0, 0, 0, 0, 0, 0, 0, 0, 0, 0, 0, 0, 0, 0, 0, 0, 0, 0, 0, 0, 0, 0, 0, 0, 0, 0, 0, 0, 0, 0, 0, 0, 0, 0, 0, 0, 0, 0, 0, 0, 0, 0, 0, 0, 0, 0, 0, 0, 0, 0, 0, 0, 0, 0, 0, 0, 0, 0, 0, 0, 0, 0, 0, 0, 0, 0, 0, 0, 0, 0, 0, 0, 0, 0, 0, 0, 0, 0, 0, 0, 0, 0, 0, 0, 0, 0, 0, 0, 0, 0, 0, 0, 0, 0, 0, 0, 0, 0, 0, 0, 0, 0, 0, 0, 0, 0, 0, 0, 0, 0, 0, 0, 0, 0, 0, 0, 0, 0, 0, 0, 0, 0, 0, 0, 0, 0, 0, 0, 0, 0, 0, 0, 0, 0, 0, 0, 0, 0, 0, 0, 0, 0, 0, 0, 0, 0, 0, 0, 0, 0, 0, 0, 0, 0, 0, 0, 0, 0, 0, 0, 0, 0, 0, 0, 0, 0, 0, 0, 0, 0, 0, 0, 0, 0, 0, 0, 0, 0, 0, 0, 0, 0, 0, 0, 0, 0, 0, 0, 0, 0, 0, 0, 0, 0, 0, 0, 0, 0, 0, 0, 0, 0, 0, 0, 0, 0, 0, 0, 0, 0, 0, 0, 0, 0, 0, 0, 0, 0, 0, 0, 0, 0, 0, 0, 0, 0, 0, 0, 0, 0, 0, 0, 0, 0, 0, 0, 0, 0, 0, 0, 0, 0, 0, 0, 0, 0, 0, 0, 0, 0, 0, 0, 0, 0, 0, 0, 0, 0, 0, 0, 0, 0, 0, 0, 0, 0, 0, 0, 0, 0, 0, 0, 0, 0, 0, 0, 0, 0, 0, 0, 0, 0, 0, 0, 0, 0, 0, 0, 0, 0, 0, 0, 0, 0, 0, 0, 0, 0, 0, 0, 0, 0, 0, 0, 0, 0, 0, 0, 0, 0, 0, 0, 0, 0, 0, 0, 0, 0, 0, 0, 0, 0, 0, 0, 0, 0, 0, 0, 0, 0, 0, 0, 0, 0, 0, 0, 0, 0, 0, 0, 0, 0, 0, 0, 0, 0, 0, 0, 0, 0, 0, 0, 0, 0, 0, 0, 0, 0, 0, 0, 0, 0, 0, 0, 0, 0, 0, 0, 0, 0, 0, 0, 0, 0, 0, 0, 0, 0, 0, 0, 0, 0, 0, 0, 0, 0, 0, 0, 0, 0, 0, 0, 0, 0, 0, 0, 0, 0, 0, 0, 0, 0, 0, 0, 0, 0, 0, 0, 0, 0, 0, 0, 0, 0, 0, 0, 0, 0, 0, 0, 0, 0, 0, 0, 0, 0, 0, 0, 0, 0, 0, 0, 0, 0, 0, 0, 0, 0, 0, 0, 0, 0, 0, 0, 0, 0, 0, 0, 0, 0, 0, 0, 0, 0, 0, 0, 0, 0, 0, 0, 0, 0, 0, 0, 0, 0, 0, 0, 0, 0, 0, 0, 0, 0, 0, 0, 0, 0, 0, 0, 0, 1, 0, 0, 0, 0, 0, 0, 0, 0, 0, 0, 0, 0, 0, 0, 0, 0, 0, 0, 0, 0, 0, 0, 0, 0, 0, 0, 0, 0, 0, 0, 0, 0, 0, 0, 0, 0, 0, 0, 0, 0, 0, 0, 0, 0, 0, 0, 0, 0, 0, 0, 0, 0, 0, 0, 0, 0, 0, 0, 0, 0, 0, 0, 0, 0, 0, 0, 0, 0, 0, 0, 0, 0, 0, 0, 0, 0, 0, 0, 0, 0, 0, 0, 0, 0, 0, 0, 0, 0, 0, 0, 0, 0, 0, 0, 0, 0, 0, 0, 0, 0, 0, 0, 0, 0, 0, 0, 0, 0, 0, 0, 2, 0, 0, 0, 0, 0, 0, 0, 0, 0, 0, 0, 0, 0, 0, 0, 0, 0, 0, 0, 0, 0, 0, 0, 0, 0, 0, 0, 0, 0, 0, 0, 0, 0, 0, 0, 0, 0, 0, 0, 0, 0, 0, 0, 0, 0, 0, 0, 0, 0, 0, 0, 0, 0, 0, 0, 0, 0, 0, 0, 0, 0, 0, 0, 0, 0, 0, 0, 0, 0, 0, 0, 0, 0, 0, 0, 0, 0, 0, 0, 0, 0, 0, 0, 0, 0, 0, 0, 0, 0, 0, 0, 0, 0, 0, 0, 0, 0, 0, 0, 0, 0, 0, 0, 0, 0, 0, 0, 0, 0, 0, 0, 0, 0, 0, 0, 0, 0, 0, 0, 0, 0, 0, 0, 0, 0, 0, 0, 0, 0, 0, 0, 0, 0, 0, 0, 0, 0, 0, 0, 0, 0, 0, 0, 0, 0, 0, 0, 0, 0, 0, 0, 0, 0, 0, 0, 0, 0, 0, 0, 0, 0, 0, 0, 0, 0, 0, 0, 0, 0, 0, 0, 0, 0, 0, 0, 0, 0, 0, 0, 0, 0, 0, 0, 0, 0, 0, 0, 0, 0, 0, 0, 0, 0, 0, 0, 0, 0, 0, 0, 0, 0, 0, 0, 0, 0, 0, 0, 0, 0, 0, 0, 0, 0, 0, 0, 0, 0, 0, 0, 0, 0, 0, 0, 0, 0, 0, 0, 0, 0, 0, 0, 0, 0, 0, 0, 0, 0, 0, 0, 0, 0, 0, 0, 0, 0, 0, 0, 0, 0, 0, 0, 0, 0, 0, 0, 0, 0, 0, 0, 0, 0, 0, 0, 0, 0, 0, 0, 0, 0, 0, 0, 0, 0, 0, 0, 0, 0, 0, 0, 0, 0, 0, 0, 0, 0, 0, 0, 0, 0, 0, 0, 0, 0, 0, 0, 0, 0, 0, 0, 0, 0, 0, 0, 0, 0, 0, 0, 0, 0, 0, 0, 0, 0, 0, 0, 0, 0, 0, 0, 0, 0, 0, 0, 0, 0, 0, 0, 0, 0, 0, 0, 0, 0, 0, 0, 0, 0, 0, 0, 0, 0, 0, 0, 0, 0, 0, 0, 0, 0, 0, 0, 0, 0, 0, 0, 0, 0, 0, 0, 0, 0, 0, 0, 0, 0, 0, 0, 0, 0, 0, 0, 0, 0, 0, 0, 0, 0, 0, 0, 0, 0, 0, 0, 0, 0, 0, 0, 0, 0, 0, 0, 0, 0, 0, 0, 0, 0, 0, 0, 0, 0, 0, 0, 0, 0, 0, 0, 0, 0, 0, 0, 0, 0, 0, 0, 0, 0, 0, 0, 0, 0, 0, 0, 0, 0, 0, 0, 0, 0, 0, 0, 0, 0, 0, 0, 0, 0, 0, 0, 0, 0, 0, 0, 0, 0, 0, 0, 0, 0, 0, 0, 0, 0, 0, 0, 0, 0, 0, 0, 0, 0, 0, 0, 0, 0, 0, 0, 0, 0, 0, 0, 0, 0, 0, 0, 0, 0, 0, 0, 0, 0, 0, 0, 0, 0, 0, 0, 0, 0, 0, 0, 0, 0, 0, 0, 0, 0, 0, 0, 0, 0, 0, 0, 0, 0, 0, 0, 0, 0, 0, 0, 0, 0, 0, 0, 0, 0, 0, 0, 0, 0, 0, 0, 0, 0, 0, 0, 0, 0, 0, 0, 0, 0, 0, 0, 0, 0, 0, 0, 0, 0, 0, 0, 0, 0, 0, 0, 0, 0, 0, 0, 0, 0, 0, 0, 0, 0, 0, 0, 0, 0, 0, 0, 0, 0, 0, 0, 0, 0, 0, 0, 0, 0, 0, 0, 0, 0, 0, 0, 0, 0, 0, 0, 0, 0, 0, 0, 0, 0, 0, 0, 0, 0, 0, 0, 0, 0, 0, 0, 0, 0, 0, 0, 0, 0, 0, 0, 0, 0, 0, 0, 0, 0, 0, 0, 0, 0, 0, 0, 0, 0, 0, 0, 0, 0, 0, 0, 0, 0, 0, 0, 0, 0, 0, 0, 0, 0, 0, 0, 0, 0, 0, 0, 0, 0, 0, 0, 0, 0, 0, 0, 0, 0, 0, 0, 0, 0, 0, 0, 0, 0, 0, 0, 0, 0, 0, 0, 0, 0, 0, 0, 0, 0, 0, 0, 0, 0, 0, 0, 0, 0, 0, 0, 0, 0, 0, 0, 0, 0, 0, 1, 0, 0, 0, 0, 0, 0, 0, 0, 0, 0, 0, 0, 0, 0, 0, 0, 0, 0, 0, 0, 0, 0, 0, 0, 0, 0, 0, 0, 0, 0, 0, 0, 0, 0, 0, 0, 0, 0, 0, 0, 0, 0, 0, 0, 0, 0, 0, 0, 0, 0, 0, 0, 0, 0, 0, 0, 0, 0, 0, 0, 0, 0, 0, 0, 0, 0, 0, 0, 0, 0, 0, 0, 0, 0, 0, 0, 0, 0, 0, 0, 0, 0, 0, 0, 0, 0, 0, 0, 0, 0, 0, 0, 0, 0, 0, 0, 0, 0, 0, 0, 0, 0, 0, 0, 0, 0, 0, 1, 0, 0, 0, 0, 0, 0, 0, 0, 0, 0, 0, 0, 0, 0, 0, 0, 0, 0, 0, 0, 0, 0, 0, 0, 0, 0, 0, 0, 0, 0, 0, 0, 0, 0, 0, 0, 0, 0, 0, 0, 0, 0, 0, 0, 0, 0, 0, 0, 0, 0, 0, 0, 0, 0, 0, 0, 0, 0, 0, 0, 0, 0, 0, 0, 0, 0, 0, 0, 0, 0, 0, 0, 0, 0, 0, 0, 0, 0, 0, 0, 0, 0, 0, 0, 0, 0, 0, 0, 0, 0, 0, 0, 0, 0, 0, 0, 0, 0, 0, 0, 0, 0, 0, 0, 0, 0, 0, 0, 0, 0, 0, 0, 0, 0, 0, 0, 0, 0, 0, 0, 0, 0, 0, 0, 0, 0, 0, 0, 0, 0, 0, 0, 0, 0, 0, 0, 0, 0, 0, 0, 0, 0, 0, 0, 0, 0, 0, 0, 0, 0, 0, 0, 0, 0, 0, 0, 0, 0, 0, 0, 0, 0, 0, 0, 0, 0, 0, 0, 0, 0, 0, 0, 0, 0, 0, 0, 0, 0, 0, 0, 0, 0, 0, 0, 0, 0, 0, 0, 0, 0, 0, 0, 0, 0, 0, 0, 0, 0, 0, 0, 0, 0, 0, 0, 0, 0, 0, 0, 0, 0, 0, 0, 0, 0, 0, 0, 0, 0, 0, 0, 0, 0, 0, 0, 0, 0, 0, 0, 0, 0, 0, 0, 0, 0, 0, 0, 0, 0, 0, 0, 0, 0, 0, 0, 0, 0, 0, 0, 0, 0, 0, 0, 0, 0, 0, 0, 0, 0, 0, 0, 0, 0, 0, 0, 0, 0, 0, 0, 0, 0, 0, 0, 0, 0, 0, 0, 0, 0, 0, 0, 0, 0, 0, 0, 0, 0, 0, 0, 0, 0, 0, 0, 0, 0, 0, 0, 0, 0, 0, 0, 0, 0, 0, 0, 0, 0, 0, 0, 0, 0, 0, 0, 0, 0, 0, 0, 0, 0, 0, 0, 0, 0, 0, 0, 0, 0, 0, 0, 0, 0, 0, 0, 0, 0, 0, 0, 0, 0, 0, 0, 0, 0, 0, 0, 0, 0, 0, 0, 0, 0, 0, 0, 0, 0, 0, 0, 0, 0, 0, 0, 0, 0, 0, 0, 0, 0, 0, 0, 0, 0, 0, 0, 0, 0, 0, 0, 0, 0, 0, 0, 0, 0, 0, 0, 0, 0, 0, 0, 0, 0, 0, 0, 0, 0, 0, 0, 0, 0, 0, 0, 0, 0, 0, 0, 0, 0, 0, 0, 0, 0, 0, 0, 0, 0, 0, 0, 0, 0, 0, 0, 0, 0, 0, 0, 0, 0, 0, 0, 0, 0, 0, 0, 0, 0, 0, 0, 0, 0, 0, 0, 0, 0, 0, 0, 0, 0, 0, 0, 0, 0, 0, 0, 0, 0, 0, 0, 0, 0, 0, 0, 0, 0, 0, 2, 0, 1, 0]\n"
     ]
    }
   ],
   "source": [
    "test_bow = bow_encoding(test_words, vocabulary)\n",
    "print(test_bow)"
   ]
  },
  {
   "cell_type": "code",
   "execution_count": 40,
   "metadata": {},
   "outputs": [
    {
     "data": {
      "text/plain": [
       "5000"
      ]
     },
     "execution_count": 40,
     "metadata": {},
     "output_type": "execute_result"
    }
   ],
   "source": [
    "len(test_bow)"
   ]
  },
  {
   "cell_type": "markdown",
   "metadata": {},
   "source": [
    "So now we know how to construct a bag of words encoding of a user provided review, how to we send it to our endpoint?\n",
    "\n",
    "**First, we need to start the endpoint back up.**"
   ]
  },
  {
   "cell_type": "code",
   "execution_count": 42,
   "metadata": {},
   "outputs": [
    {
     "name": "stderr",
     "output_type": "stream",
     "text": [
      "WARNING:sagemaker:Using already existing model: xgboost-2020-05-01-13-53-21-793\n"
     ]
    },
    {
     "name": "stdout",
     "output_type": "stream",
     "text": [
      "-------------!"
     ]
    }
   ],
   "source": [
    "xgb_predictor = xgb.deploy(initial_instance_count = 1, instance_type = 'ml.m4.xlarge')"
   ]
  },
  {
   "cell_type": "markdown",
   "metadata": {},
   "source": [
    "At this point we could just do the same thing that we did earlier when we tested our deployed model and send `test_bow` to our endpoint using the `xgb_predictor` object. However, when we eventually construct our Lambda function we won't have access to this object, so how do we call a SageMaker endpoint?\n",
    "\n",
    "It turns out that Python functions that are used in Lambda have access to another Amazon library called `boto3`. This library provides an API for working with Amazon services, including SageMaker. To start with, we need to get a handle to the SageMaker runtime."
   ]
  },
  {
   "cell_type": "code",
   "execution_count": 43,
   "metadata": {},
   "outputs": [],
   "source": [
    "import boto3\n",
    "\n",
    "runtime = boto3.Session().client('sagemaker-runtime')"
   ]
  },
  {
   "cell_type": "markdown",
   "metadata": {},
   "source": [
    "And now that we have access to the SageMaker runtime, we can ask it to make use of (invoke) an endpoint that has already been created. However, we need to provide SageMaker with the name of the deployed endpoint. To find this out we can print it out using the `xgb_predictor` object."
   ]
  },
  {
   "cell_type": "code",
   "execution_count": 44,
   "metadata": {},
   "outputs": [
    {
     "data": {
      "text/plain": [
       "'xgboost-2020-05-01-13-53-21-793'"
      ]
     },
     "execution_count": 44,
     "metadata": {},
     "output_type": "execute_result"
    }
   ],
   "source": [
    "xgb_predictor.endpoint"
   ]
  },
  {
   "cell_type": "markdown",
   "metadata": {},
   "source": [
    "Using the SageMaker runtime and the name of our endpoint, we can invoke the endpoint and send it the `test_bow` data."
   ]
  },
  {
   "cell_type": "code",
   "execution_count": 45,
   "metadata": {},
   "outputs": [
    {
     "ename": "ParamValidationError",
     "evalue": "Parameter validation failed:\nInvalid type for parameter Body, value: [0, 0, 0, 0, 0, 0, 0, 0, 0, 0, 0, 0, 0, 0, 0, 0, 0, 0, 0, 0, 0, 0, 0, 0, 0, 0, 0, 0, 0, 0, 0, 0, 0, 0, 0, 0, 0, 0, 0, 0, 0, 0, 0, 0, 0, 0, 0, 0, 0, 0, 0, 0, 0, 0, 0, 0, 0, 0, 0, 0, 0, 0, 0, 0, 0, 0, 0, 0, 0, 0, 0, 0, 0, 0, 0, 0, 0, 0, 0, 0, 0, 0, 0, 0, 0, 0, 0, 0, 0, 0, 0, 0, 0, 0, 0, 0, 0, 0, 0, 0, 0, 0, 0, 0, 0, 0, 0, 0, 0, 0, 0, 0, 0, 0, 0, 0, 0, 0, 0, 0, 0, 0, 0, 0, 0, 0, 0, 0, 0, 0, 0, 0, 0, 0, 0, 0, 0, 0, 0, 0, 0, 0, 0, 0, 0, 0, 0, 0, 0, 0, 0, 0, 0, 0, 0, 0, 0, 0, 0, 0, 0, 0, 0, 0, 0, 0, 0, 0, 0, 0, 0, 0, 0, 0, 0, 0, 0, 0, 0, 0, 0, 0, 0, 0, 0, 0, 0, 0, 0, 0, 0, 0, 0, 0, 0, 0, 0, 0, 0, 0, 0, 0, 0, 0, 0, 0, 0, 0, 0, 0, 0, 0, 0, 0, 0, 0, 0, 0, 0, 0, 0, 0, 0, 0, 0, 0, 1, 0, 0, 0, 0, 0, 0, 0, 0, 0, 0, 0, 0, 0, 0, 0, 0, 0, 0, 0, 0, 0, 0, 0, 0, 0, 0, 0, 0, 0, 1, 0, 0, 0, 0, 0, 0, 0, 0, 0, 0, 0, 0, 0, 0, 0, 0, 0, 0, 0, 0, 0, 0, 0, 0, 0, 0, 0, 0, 0, 0, 0, 0, 0, 0, 0, 0, 0, 0, 0, 0, 0, 0, 0, 0, 0, 0, 0, 0, 0, 0, 0, 0, 0, 0, 0, 0, 0, 0, 0, 0, 0, 0, 0, 0, 0, 0, 0, 0, 0, 0, 0, 0, 0, 0, 0, 0, 0, 0, 0, 0, 0, 0, 0, 0, 0, 0, 0, 0, 0, 0, 0, 0, 0, 0, 0, 0, 0, 0, 0, 0, 0, 0, 0, 0, 0, 0, 0, 0, 0, 0, 0, 0, 0, 0, 0, 0, 0, 0, 0, 0, 0, 0, 0, 0, 0, 0, 0, 0, 0, 0, 0, 0, 0, 0, 0, 0, 0, 0, 0, 0, 0, 0, 0, 0, 0, 0, 0, 0, 0, 0, 0, 0, 0, 0, 0, 0, 0, 0, 0, 0, 0, 0, 0, 0, 0, 0, 0, 0, 0, 0, 0, 0, 0, 0, 0, 0, 0, 0, 0, 0, 0, 0, 0, 0, 0, 0, 0, 0, 0, 0, 0, 0, 0, 0, 0, 0, 0, 0, 0, 0, 0, 0, 0, 0, 0, 0, 0, 0, 0, 0, 0, 0, 0, 0, 0, 0, 0, 0, 0, 0, 0, 0, 0, 0, 0, 0, 0, 0, 0, 0, 0, 0, 0, 0, 0, 0, 0, 0, 0, 0, 0, 0, 0, 0, 0, 0, 0, 0, 0, 0, 0, 0, 0, 0, 0, 0, 0, 0, 0, 0, 0, 0, 0, 0, 0, 0, 0, 0, 0, 0, 0, 0, 0, 0, 0, 0, 0, 0, 0, 0, 0, 0, 0, 0, 0, 0, 0, 0, 0, 0, 0, 0, 0, 0, 0, 0, 0, 0, 0, 0, 0, 0, 0, 0, 0, 0, 0, 0, 0, 0, 0, 0, 0, 0, 0, 0, 0, 0, 0, 0, 0, 0, 0, 0, 0, 0, 0, 0, 0, 0, 0, 0, 0, 0, 0, 0, 0, 0, 0, 0, 0, 0, 0, 0, 0, 0, 0, 0, 0, 0, 0, 0, 0, 0, 0, 0, 0, 0, 0, 0, 0, 0, 0, 0, 0, 0, 0, 0, 0, 0, 0, 0, 0, 0, 0, 0, 0, 0, 0, 1, 0, 0, 0, 0, 0, 0, 0, 0, 0, 0, 0, 0, 0, 0, 0, 0, 0, 0, 0, 0, 0, 0, 0, 0, 0, 0, 0, 0, 0, 0, 0, 0, 0, 0, 0, 0, 0, 0, 0, 0, 0, 0, 0, 0, 0, 0, 0, 0, 0, 0, 0, 0, 0, 0, 0, 0, 0, 0, 0, 0, 0, 0, 0, 0, 0, 0, 0, 0, 0, 0, 0, 0, 0, 0, 0, 0, 0, 0, 0, 0, 0, 0, 0, 0, 0, 0, 0, 0, 0, 0, 0, 0, 0, 0, 0, 0, 0, 0, 0, 0, 0, 0, 0, 0, 0, 0, 0, 0, 0, 0, 0, 0, 0, 0, 0, 0, 0, 0, 0, 0, 0, 0, 0, 0, 0, 0, 0, 0, 0, 0, 0, 0, 0, 0, 0, 0, 0, 0, 0, 0, 0, 0, 0, 0, 0, 0, 0, 0, 0, 0, 0, 0, 0, 0, 0, 0, 0, 0, 0, 0, 0, 0, 0, 0, 0, 0, 0, 0, 0, 0, 0, 0, 0, 0, 0, 0, 0, 0, 0, 0, 0, 0, 0, 0, 0, 0, 0, 0, 0, 0, 0, 0, 0, 0, 0, 0, 0, 0, 0, 0, 0, 0, 0, 0, 0, 0, 0, 0, 0, 0, 0, 0, 0, 0, 0, 0, 0, 0, 0, 0, 0, 0, 0, 0, 0, 0, 0, 0, 0, 0, 0, 0, 0, 0, 0, 0, 0, 0, 0, 0, 0, 0, 0, 0, 0, 0, 0, 0, 0, 0, 0, 0, 0, 1, 0, 0, 0, 0, 0, 0, 0, 0, 0, 0, 0, 0, 0, 0, 0, 0, 0, 0, 0, 0, 0, 0, 0, 0, 0, 0, 0, 0, 0, 0, 0, 0, 0, 0, 0, 0, 0, 0, 0, 0, 0, 0, 0, 0, 0, 0, 0, 0, 0, 0, 0, 0, 0, 0, 0, 0, 0, 0, 0, 0, 0, 0, 0, 0, 0, 0, 0, 0, 0, 0, 0, 0, 0, 0, 0, 0, 0, 0, 0, 0, 0, 0, 0, 0, 0, 0, 1, 0, 0, 0, 0, 0, 0, 0, 0, 0, 0, 0, 0, 0, 0, 0, 0, 0, 0, 0, 0, 0, 0, 0, 0, 0, 0, 0, 0, 0, 0, 0, 0, 0, 0, 0, 0, 0, 0, 0, 0, 0, 0, 0, 0, 0, 0, 0, 0, 0, 0, 0, 0, 0, 0, 0, 0, 0, 0, 0, 0, 0, 0, 0, 0, 0, 0, 0, 0, 0, 0, 0, 0, 0, 0, 0, 0, 0, 0, 0, 0, 0, 0, 0, 0, 0, 0, 0, 0, 0, 0, 0, 0, 0, 0, 0, 0, 0, 0, 0, 0, 0, 0, 0, 0, 0, 0, 0, 0, 0, 0, 0, 0, 0, 0, 0, 0, 0, 0, 0, 0, 0, 0, 0, 0, 0, 0, 0, 0, 0, 0, 0, 0, 0, 0, 0, 0, 0, 0, 0, 0, 0, 0, 0, 0, 0, 0, 0, 0, 0, 0, 0, 0, 0, 0, 0, 0, 0, 0, 0, 0, 0, 0, 0, 0, 0, 0, 0, 0, 0, 0, 0, 0, 0, 0, 0, 0, 0, 0, 0, 0, 0, 0, 0, 0, 0, 0, 0, 0, 0, 0, 0, 0, 0, 0, 0, 0, 0, 0, 0, 0, 0, 0, 0, 0, 0, 0, 0, 0, 0, 0, 0, 0, 0, 0, 0, 0, 0, 0, 0, 0, 0, 0, 0, 0, 0, 0, 0, 0, 0, 0, 0, 0, 0, 0, 0, 0, 0, 0, 0, 0, 0, 0, 0, 0, 0, 0, 0, 0, 0, 0, 0, 0, 1, 0, 0, 0, 0, 0, 0, 0, 0, 0, 0, 0, 0, 0, 0, 0, 0, 0, 0, 0, 0, 0, 0, 0, 0, 0, 0, 0, 0, 0, 0, 0, 0, 0, 0, 0, 0, 0, 0, 0, 0, 0, 0, 0, 0, 0, 0, 0, 0, 0, 0, 0, 0, 0, 0, 0, 1, 0, 0, 0, 0, 0, 0, 0, 0, 0, 0, 0, 0, 0, 0, 0, 0, 0, 0, 0, 0, 0, 0, 0, 0, 0, 0, 0, 0, 0, 0, 0, 0, 0, 0, 0, 0, 0, 0, 0, 0, 0, 0, 0, 0, 0, 0, 0, 0, 0, 0, 0, 0, 0, 0, 0, 0, 0, 0, 0, 0, 0, 0, 0, 0, 0, 0, 0, 0, 0, 0, 0, 0, 0, 0, 0, 0, 0, 0, 0, 0, 0, 0, 0, 0, 0, 0, 0, 0, 0, 0, 0, 0, 0, 0, 0, 0, 0, 0, 0, 0, 0, 0, 0, 0, 0, 0, 0, 0, 0, 0, 0, 0, 0, 0, 0, 0, 0, 0, 0, 0, 0, 0, 0, 0, 0, 0, 0, 0, 0, 0, 0, 0, 0, 0, 0, 0, 0, 0, 0, 0, 0, 0, 0, 0, 0, 0, 0, 0, 0, 0, 0, 0, 0, 0, 0, 0, 0, 0, 0, 0, 0, 0, 0, 0, 0, 0, 0, 0, 0, 0, 0, 0, 0, 0, 0, 0, 0, 0, 0, 0, 0, 0, 0, 0, 0, 0, 0, 0, 0, 0, 0, 0, 0, 0, 0, 0, 0, 0, 0, 0, 0, 0, 0, 0, 0, 0, 0, 0, 0, 0, 0, 0, 0, 0, 0, 0, 0, 0, 0, 0, 0, 0, 0, 0, 0, 0, 0, 0, 0, 0, 0, 0, 0, 0, 0, 0, 0, 0, 0, 0, 0, 0, 0, 0, 0, 0, 0, 0, 0, 0, 0, 0, 0, 0, 0, 0, 0, 0, 0, 0, 0, 0, 0, 0, 0, 0, 0, 0, 0, 0, 0, 0, 0, 0, 0, 0, 0, 0, 0, 0, 0, 0, 0, 0, 0, 0, 0, 0, 0, 0, 0, 0, 0, 0, 0, 0, 0, 0, 0, 0, 0, 0, 0, 0, 0, 0, 0, 0, 0, 0, 0, 0, 0, 0, 0, 0, 0, 0, 0, 0, 0, 0, 0, 0, 0, 0, 0, 0, 0, 0, 0, 0, 0, 0, 0, 0, 0, 0, 0, 0, 0, 0, 0, 0, 0, 0, 0, 0, 0, 0, 0, 0, 0, 0, 0, 0, 0, 0, 0, 0, 0, 0, 0, 0, 0, 0, 0, 0, 0, 0, 0, 0, 0, 0, 0, 0, 0, 0, 0, 0, 0, 0, 0, 0, 0, 0, 0, 0, 0, 0, 0, 0, 0, 0, 0, 0, 0, 0, 0, 0, 0, 0, 0, 0, 0, 0, 0, 0, 0, 0, 0, 0, 0, 0, 0, 0, 0, 0, 0, 0, 0, 0, 0, 0, 0, 0, 0, 0, 0, 0, 0, 0, 0, 0, 0, 0, 0, 0, 0, 0, 0, 0, 0, 0, 0, 0, 0, 0, 0, 0, 0, 0, 0, 0, 0, 0, 0, 0, 0, 0, 0, 0, 0, 0, 0, 0, 0, 0, 0, 0, 0, 0, 0, 0, 0, 0, 0, 0, 0, 0, 0, 0, 0, 0, 0, 0, 0, 0, 0, 0, 0, 0, 0, 0, 0, 0, 0, 0, 0, 0, 0, 0, 0, 0, 0, 0, 0, 0, 0, 0, 0, 0, 0, 0, 0, 0, 0, 0, 0, 0, 0, 0, 0, 0, 0, 0, 0, 0, 0, 0, 0, 0, 0, 0, 0, 0, 0, 0, 0, 0, 0, 0, 0, 0, 0, 0, 0, 0, 0, 0, 0, 0, 0, 0, 0, 0, 0, 0, 0, 0, 0, 0, 0, 0, 0, 0, 0, 0, 0, 0, 0, 0, 0, 0, 0, 0, 0, 0, 0, 0, 0, 0, 0, 0, 0, 0, 0, 0, 0, 0, 0, 0, 0, 0, 0, 0, 0, 0, 0, 0, 0, 0, 0, 0, 0, 0, 0, 0, 0, 0, 0, 0, 0, 0, 0, 0, 0, 0, 0, 0, 0, 0, 0, 0, 0, 0, 0, 0, 0, 0, 0, 0, 0, 0, 0, 0, 0, 0, 0, 0, 0, 0, 0, 0, 0, 0, 0, 0, 0, 0, 0, 0, 0, 0, 0, 0, 0, 0, 0, 0, 0, 0, 0, 0, 0, 0, 0, 0, 0, 0, 0, 0, 0, 0, 0, 0, 0, 0, 0, 0, 0, 1, 0, 0, 0, 0, 0, 0, 0, 0, 0, 0, 0, 0, 0, 0, 0, 0, 0, 0, 0, 0, 0, 0, 0, 0, 0, 0, 0, 0, 0, 0, 0, 0, 0, 0, 0, 0, 0, 0, 0, 0, 0, 0, 0, 0, 0, 0, 0, 0, 0, 0, 0, 0, 0, 0, 0, 0, 0, 0, 0, 0, 0, 0, 0, 0, 0, 0, 0, 0, 0, 0, 0, 0, 0, 0, 1, 0, 0, 0, 0, 0, 0, 0, 0, 0, 0, 0, 0, 0, 0, 0, 0, 0, 0, 0, 0, 1, 0, 0, 1, 0, 0, 0, 0, 0, 0, 0, 0, 0, 0, 0, 0, 0, 0, 0, 0, 0, 0, 0, 0, 0, 0, 0, 0, 0, 0, 0, 0, 0, 0, 0, 0, 0, 0, 0, 0, 0, 0, 0, 0, 0, 0, 0, 0, 0, 0, 0, 0, 0, 0, 0, 0, 0, 0, 0, 0, 0, 0, 0, 0, 0, 0, 0, 0, 0, 0, 0, 0, 0, 0, 0, 0, 0, 0, 0, 0, 0, 0, 0, 0, 0, 0, 0, 0, 0, 0, 0, 0, 0, 0, 0, 0, 0, 0, 0, 0, 0, 0, 0, 0, 0, 0, 0, 0, 0, 0, 0, 0, 0, 0, 0, 0, 0, 0, 0, 0, 0, 0, 0, 0, 0, 0, 0, 0, 0, 0, 0, 0, 0, 0, 0, 0, 0, 0, 0, 0, 0, 0, 0, 0, 0, 0, 0, 0, 0, 0, 0, 0, 0, 0, 0, 0, 0, 0, 0, 0, 0, 0, 0, 0, 0, 0, 0, 0, 0, 0, 0, 0, 0, 0, 0, 0, 0, 0, 0, 0, 0, 0, 0, 0, 0, 0, 0, 0, 0, 0, 0, 0, 0, 0, 0, 0, 0, 0, 0, 0, 0, 0, 0, 0, 0, 0, 0, 0, 0, 0, 0, 0, 0, 0, 0, 0, 0, 0, 0, 0, 0, 0, 0, 0, 0, 0, 0, 0, 0, 0, 0, 0, 0, 0, 0, 0, 0, 0, 0, 0, 0, 0, 0, 0, 0, 0, 0, 0, 0, 0, 0, 0, 0, 0, 0, 0, 0, 0, 0, 0, 0, 0, 0, 0, 0, 0, 0, 0, 0, 0, 0, 0, 0, 0, 0, 0, 0, 0, 0, 0, 0, 0, 0, 0, 0, 0, 0, 0, 0, 0, 0, 0, 0, 0, 0, 0, 0, 0, 0, 0, 0, 0, 0, 0, 0, 0, 0, 0, 0, 0, 0, 0, 0, 0, 0, 0, 0, 0, 0, 0, 0, 0, 0, 0, 0, 0, 0, 0, 0, 0, 0, 0, 0, 0, 0, 0, 0, 0, 0, 0, 0, 0, 0, 0, 0, 0, 0, 0, 0, 0, 0, 0, 0, 0, 0, 0, 0, 0, 0, 0, 0, 0, 0, 0, 0, 0, 0, 0, 0, 0, 0, 0, 0, 0, 0, 0, 0, 0, 0, 0, 0, 0, 0, 0, 0, 0, 0, 0, 0, 0, 0, 0, 0, 0, 0, 0, 0, 0, 0, 0, 0, 0, 0, 0, 0, 0, 0, 0, 0, 0, 0, 0, 0, 0, 0, 0, 0, 0, 0, 0, 0, 0, 0, 0, 0, 0, 0, 0, 0, 0, 0, 0, 0, 0, 0, 0, 0, 0, 0, 0, 0, 0, 0, 0, 0, 0, 0, 0, 0, 0, 0, 0, 0, 0, 0, 0, 0, 0, 0, 0, 0, 0, 0, 0, 0, 0, 0, 0, 0, 0, 1, 0, 0, 0, 0, 0, 0, 0, 0, 0, 0, 0, 0, 0, 0, 0, 0, 0, 0, 0, 0, 0, 0, 0, 0, 0, 0, 0, 0, 0, 0, 0, 0, 0, 0, 0, 0, 0, 0, 0, 0, 0, 0, 0, 0, 0, 0, 0, 0, 0, 0, 0, 0, 0, 0, 0, 0, 0, 0, 0, 0, 0, 0, 0, 0, 0, 0, 0, 0, 0, 0, 0, 0, 0, 0, 0, 0, 0, 0, 0, 0, 0, 0, 0, 0, 0, 0, 0, 0, 0, 0, 0, 0, 0, 0, 0, 0, 0, 0, 0, 0, 0, 0, 0, 0, 0, 0, 0, 0, 0, 0, 0, 0, 0, 0, 0, 0, 0, 0, 0, 0, 0, 0, 0, 0, 0, 0, 0, 0, 0, 0, 0, 0, 0, 0, 0, 0, 0, 0, 0, 0, 0, 0, 0, 0, 0, 0, 0, 0, 0, 0, 0, 0, 0, 0, 0, 0, 0, 0, 0, 0, 0, 0, 0, 0, 0, 0, 0, 0, 0, 0, 0, 0, 0, 0, 0, 0, 0, 0, 0, 0, 0, 0, 0, 0, 0, 0, 0, 0, 0, 0, 0, 0, 0, 0, 0, 0, 0, 0, 0, 0, 0, 0, 0, 0, 0, 0, 0, 0, 0, 0, 0, 0, 0, 0, 0, 0, 0, 0, 0, 0, 0, 0, 0, 0, 0, 0, 0, 0, 0, 0, 0, 0, 0, 0, 0, 0, 0, 0, 0, 0, 0, 0, 0, 0, 0, 0, 0, 0, 0, 0, 0, 0, 0, 0, 0, 0, 0, 0, 0, 0, 0, 0, 0, 0, 0, 0, 0, 0, 0, 0, 0, 0, 0, 0, 0, 0, 0, 0, 0, 0, 0, 0, 0, 0, 0, 0, 0, 0, 0, 0, 0, 0, 0, 0, 0, 0, 0, 0, 0, 0, 0, 0, 0, 0, 0, 0, 0, 0, 0, 0, 0, 0, 0, 0, 0, 0, 0, 0, 0, 0, 0, 0, 0, 0, 0, 0, 0, 0, 0, 0, 0, 0, 0, 0, 0, 0, 0, 0, 0, 0, 0, 0, 0, 0, 0, 0, 0, 0, 0, 0, 0, 0, 0, 0, 0, 0, 0, 0, 0, 0, 0, 0, 0, 0, 0, 0, 0, 0, 0, 0, 0, 0, 0, 0, 0, 0, 0, 0, 0, 0, 0, 0, 0, 0, 0, 0, 0, 0, 0, 0, 0, 0, 0, 0, 0, 0, 0, 0, 0, 0, 0, 0, 0, 0, 0, 0, 0, 0, 0, 0, 0, 0, 0, 0, 0, 0, 0, 0, 0, 0, 0, 0, 0, 0, 0, 0, 0, 0, 0, 0, 0, 0, 0, 0, 0, 0, 0, 0, 0, 0, 0, 0, 0, 0, 0, 0, 0, 0, 0, 0, 0, 0, 0, 0, 0, 0, 0, 0, 0, 0, 0, 0, 0, 0, 0, 0, 0, 0, 0, 0, 0, 0, 0, 0, 0, 0, 0, 0, 0, 0, 0, 0, 0, 0, 0, 0, 0, 0, 0, 0, 0, 0, 0, 0, 0, 0, 0, 0, 0, 0, 0, 0, 0, 0, 0, 0, 0, 0, 0, 0, 0, 0, 1, 0, 0, 0, 0, 0, 0, 0, 0, 0, 0, 0, 0, 0, 0, 0, 0, 0, 0, 0, 0, 0, 0, 0, 0, 0, 0, 0, 0, 0, 0, 0, 0, 0, 0, 0, 2, 0, 0, 0, 0, 0, 0, 0, 0, 0, 0, 0, 0, 0, 0, 0, 0, 0, 0, 0, 0, 0, 0, 0, 0, 0, 0, 0, 0, 0, 0, 0, 0, 0, 0, 0, 0, 0, 0, 0, 0, 1, 0, 0, 0, 0, 0, 0, 0, 0, 0, 0, 0, 0, 0, 0, 0, 0, 0, 0, 0, 0, 0, 0, 0, 0, 0, 0, 0, 0, 0, 0, 0, 0, 0, 0, 0, 0, 0, 0, 0, 0, 0, 0, 0, 0, 0, 0, 0, 0, 0, 0, 0, 0, 0, 0, 0, 0, 0, 0, 0, 0, 0, 0, 0, 0, 0, 0, 0, 0, 0, 0, 0, 0, 0, 0, 0, 0, 0, 0, 0, 0, 0, 0, 0, 0, 0, 0, 0, 0, 0, 0, 0, 0, 0, 0, 0, 0, 0, 0, 0, 0, 0, 0, 0, 0, 0, 0, 0, 0, 0, 0, 0, 0, 0, 0, 0, 0, 0, 0, 0, 0, 0, 0, 0, 0, 0, 0, 0, 0, 0, 0, 0, 0, 0, 0, 0, 0, 0, 0, 0, 0, 0, 0, 0, 0, 0, 0, 0, 0, 0, 0, 0, 0, 0, 0, 0, 0, 0, 0, 0, 0, 0, 0, 0, 0, 0, 0, 0, 0, 0, 0, 0, 0, 0, 0, 0, 0, 0, 0, 0, 0, 0, 0, 0, 0, 0, 0, 0, 0, 0, 0, 0, 0, 0, 0, 0, 0, 0, 0, 0, 0, 0, 0, 0, 0, 0, 0, 0, 0, 0, 0, 0, 0, 0, 0, 0, 0, 0, 0, 0, 0, 0, 0, 0, 0, 0, 0, 0, 0, 0, 0, 0, 0, 0, 0, 0, 0, 0, 0, 0, 0, 0, 0, 0, 0, 0, 0, 0, 0, 0, 0, 0, 0, 0, 0, 0, 0, 0, 0, 0, 0, 0, 0, 0, 0, 0, 0, 0, 0, 0, 0, 0, 0, 0, 0, 0, 0, 0, 0, 0, 0, 0, 0, 0, 0, 0, 0, 0, 0, 0, 0, 0, 0, 0, 0, 0, 0, 0, 0, 0, 0, 0, 0, 0, 0, 0, 0, 0, 0, 0, 0, 0, 0, 0, 0, 0, 0, 0, 0, 0, 0, 0, 0, 0, 0, 0, 0, 0, 0, 0, 0, 0, 0, 0, 0, 0, 0, 0, 0, 0, 0, 0, 0, 0, 0, 0, 0, 0, 0, 0, 0, 0, 0, 0, 0, 0, 0, 0, 0, 0, 0, 0, 0, 0, 0, 0, 0, 0, 0, 0, 0, 0, 0, 0, 0, 0, 0, 0, 0, 0, 0, 0, 0, 0, 0, 0, 0, 0, 0, 0, 0, 0, 0, 0, 0, 0, 0, 0, 0, 0, 0, 0, 0, 0, 0, 0, 0, 0, 0, 0, 0, 0, 0, 0, 0, 0, 0, 0, 0, 0, 0, 0, 0, 0, 0, 0, 0, 0, 0, 0, 0, 0, 0, 0, 0, 0, 0, 0, 0, 0, 0, 0, 0, 0, 0, 0, 0, 0, 0, 0, 0, 0, 0, 0, 0, 0, 0, 0, 0, 0, 0, 0, 0, 0, 0, 0, 0, 0, 0, 0, 0, 0, 0, 0, 0, 0, 0, 0, 0, 0, 0, 0, 0, 0, 0, 0, 0, 0, 0, 0, 0, 0, 0, 0, 0, 0, 0, 0, 1, 0, 0, 0, 0, 0, 0, 0, 0, 0, 0, 0, 0, 0, 0, 0, 0, 0, 0, 0, 0, 0, 0, 0, 0, 0, 0, 0, 0, 0, 0, 0, 0, 0, 0, 0, 0, 0, 0, 0, 0, 0, 0, 0, 0, 0, 0, 0, 0, 0, 0, 0, 0, 0, 0, 0, 0, 0, 0, 0, 0, 0, 0, 0, 0, 0, 0, 0, 0, 0, 0, 0, 0, 0, 0, 0, 0, 0, 0, 0, 0, 0, 0, 0, 0, 0, 0, 0, 0, 0, 0, 0, 0, 0, 0, 0, 0, 0, 0, 0, 0, 0, 0, 0, 0, 0, 0, 0, 0, 0, 0, 2, 0, 0, 0, 0, 0, 0, 0, 0, 0, 0, 0, 0, 0, 0, 0, 0, 0, 0, 0, 0, 0, 0, 0, 0, 0, 0, 0, 0, 0, 0, 0, 0, 0, 0, 0, 0, 0, 0, 0, 0, 0, 0, 0, 0, 0, 0, 0, 0, 0, 0, 0, 0, 0, 0, 0, 0, 0, 0, 0, 0, 0, 0, 0, 0, 0, 0, 0, 0, 0, 0, 0, 0, 0, 0, 0, 0, 0, 0, 0, 0, 0, 0, 0, 0, 0, 0, 0, 0, 0, 0, 0, 0, 0, 0, 0, 0, 0, 0, 0, 0, 0, 0, 0, 0, 0, 0, 0, 0, 0, 0, 0, 0, 0, 0, 0, 0, 0, 0, 0, 0, 0, 0, 0, 0, 0, 0, 0, 0, 0, 0, 0, 0, 0, 0, 0, 0, 0, 0, 0, 0, 0, 0, 0, 0, 0, 0, 0, 0, 0, 0, 0, 0, 0, 0, 0, 0, 0, 0, 0, 0, 0, 0, 0, 0, 0, 0, 0, 0, 0, 0, 0, 0, 0, 0, 0, 0, 0, 0, 0, 0, 0, 0, 0, 0, 0, 0, 0, 0, 0, 0, 0, 0, 0, 0, 0, 0, 0, 0, 0, 0, 0, 0, 0, 0, 0, 0, 0, 0, 0, 0, 0, 0, 0, 0, 0, 0, 0, 0, 0, 0, 0, 0, 0, 0, 0, 0, 0, 0, 0, 0, 0, 0, 0, 0, 0, 0, 0, 0, 0, 0, 0, 0, 0, 0, 0, 0, 0, 0, 0, 0, 0, 0, 0, 0, 0, 0, 0, 0, 0, 0, 0, 0, 0, 0, 0, 0, 0, 0, 0, 0, 0, 0, 0, 0, 0, 0, 0, 0, 0, 0, 0, 0, 0, 0, 0, 0, 0, 0, 0, 0, 0, 0, 0, 0, 0, 0, 0, 0, 0, 0, 0, 0, 0, 0, 0, 0, 0, 0, 0, 0, 0, 0, 0, 0, 0, 0, 0, 0, 0, 0, 0, 0, 0, 0, 0, 0, 0, 0, 0, 0, 0, 0, 0, 0, 0, 0, 0, 0, 0, 0, 0, 0, 0, 0, 0, 0, 0, 0, 0, 0, 0, 0, 0, 0, 0, 0, 0, 0, 0, 0, 0, 0, 0, 0, 0, 0, 0, 0, 0, 0, 0, 0, 0, 0, 0, 0, 0, 0, 0, 0, 0, 0, 0, 0, 0, 0, 0, 0, 0, 0, 0, 0, 0, 0, 0, 0, 0, 0, 0, 0, 0, 0, 0, 0, 0, 0, 0, 0, 0, 0, 0, 0, 0, 0, 0, 0, 0, 0, 0, 0, 0, 0, 0, 0, 0, 0, 0, 0, 0, 0, 0, 0, 0, 0, 0, 0, 0, 0, 0, 0, 0, 0, 0, 0, 0, 0, 0, 0, 0, 0, 0, 0, 0, 0, 0, 0, 0, 0, 0, 0, 0, 0, 0, 0, 0, 0, 0, 0, 0, 0, 0, 0, 0, 0, 0, 0, 0, 0, 0, 0, 0, 0, 0, 0, 0, 0, 0, 0, 0, 0, 0, 0, 0, 0, 0, 0, 0, 0, 0, 0, 0, 0, 0, 0, 0, 0, 0, 0, 0, 0, 0, 0, 0, 0, 0, 0, 0, 0, 0, 0, 0, 0, 0, 0, 0, 0, 0, 0, 0, 0, 0, 0, 0, 0, 0, 0, 0, 0, 0, 0, 0, 0, 0, 0, 0, 0, 0, 0, 0, 0, 0, 0, 0, 0, 0, 0, 0, 0, 0, 0, 0, 0, 0, 0, 0, 0, 0, 0, 0, 0, 0, 0, 0, 0, 0, 0, 0, 0, 0, 0, 0, 0, 0, 0, 0, 0, 0, 0, 0, 0, 0, 0, 0, 0, 0, 0, 0, 0, 0, 0, 0, 0, 0, 0, 0, 0, 0, 0, 0, 0, 0, 0, 0, 0, 0, 0, 0, 0, 0, 0, 0, 0, 0, 0, 0, 0, 0, 0, 0, 0, 0, 0, 0, 0, 0, 0, 0, 0, 0, 0, 0, 0, 0, 0, 0, 0, 0, 0, 0, 0, 0, 0, 0, 0, 0, 0, 0, 0, 0, 0, 0, 0, 0, 0, 0, 0, 0, 0, 0, 0, 0, 0, 0, 0, 0, 0, 0, 0, 0, 0, 0, 0, 0, 0, 0, 0, 0, 0, 0, 0, 1, 0, 0, 0, 0, 0, 0, 0, 0, 0, 0, 0, 0, 0, 0, 0, 0, 0, 0, 0, 0, 0, 0, 0, 0, 0, 0, 0, 0, 0, 0, 0, 0, 0, 0, 0, 0, 0, 0, 0, 0, 0, 0, 0, 0, 0, 0, 0, 0, 0, 0, 0, 0, 0, 0, 0, 0, 0, 0, 0, 0, 0, 0, 0, 0, 0, 0, 0, 0, 0, 0, 0, 0, 0, 0, 0, 0, 0, 0, 0, 0, 0, 0, 0, 0, 0, 0, 0, 0, 0, 0, 0, 0, 0, 0, 0, 0, 0, 0, 0, 0, 0, 0, 0, 0, 0, 0, 0, 1, 0, 0, 0, 0, 0, 0, 0, 0, 0, 0, 0, 0, 0, 0, 0, 0, 0, 0, 0, 0, 0, 0, 0, 0, 0, 0, 0, 0, 0, 0, 0, 0, 0, 0, 0, 0, 0, 0, 0, 0, 0, 0, 0, 0, 0, 0, 0, 0, 0, 0, 0, 0, 0, 0, 0, 0, 0, 0, 0, 0, 0, 0, 0, 0, 0, 0, 0, 0, 0, 0, 0, 0, 0, 0, 0, 0, 0, 0, 0, 0, 0, 0, 0, 0, 0, 0, 0, 0, 0, 0, 0, 0, 0, 0, 0, 0, 0, 0, 0, 0, 0, 0, 0, 0, 0, 0, 0, 0, 0, 0, 0, 0, 0, 0, 0, 0, 0, 0, 0, 0, 0, 0, 0, 0, 0, 0, 0, 0, 0, 0, 0, 0, 0, 0, 0, 0, 0, 0, 0, 0, 0, 0, 0, 0, 0, 0, 0, 0, 0, 0, 0, 0, 0, 0, 0, 0, 0, 0, 0, 0, 0, 0, 0, 0, 0, 0, 0, 0, 0, 0, 0, 0, 0, 0, 0, 0, 0, 0, 0, 0, 0, 0, 0, 0, 0, 0, 0, 0, 0, 0, 0, 0, 0, 0, 0, 0, 0, 0, 0, 0, 0, 0, 0, 0, 0, 0, 0, 0, 0, 0, 0, 0, 0, 0, 0, 0, 0, 0, 0, 0, 0, 0, 0, 0, 0, 0, 0, 0, 0, 0, 0, 0, 0, 0, 0, 0, 0, 0, 0, 0, 0, 0, 0, 0, 0, 0, 0, 0, 0, 0, 0, 0, 0, 0, 0, 0, 0, 0, 0, 0, 0, 0, 0, 0, 0, 0, 0, 0, 0, 0, 0, 0, 0, 0, 0, 0, 0, 0, 0, 0, 0, 0, 0, 0, 0, 0, 0, 0, 0, 0, 0, 0, 0, 0, 0, 0, 0, 0, 0, 0, 0, 0, 0, 0, 0, 0, 0, 0, 0, 0, 0, 0, 0, 0, 0, 0, 0, 0, 0, 0, 0, 0, 0, 0, 0, 0, 0, 0, 0, 0, 0, 0, 0, 0, 0, 0, 0, 0, 0, 0, 0, 0, 0, 0, 0, 0, 0, 0, 0, 0, 0, 0, 0, 0, 0, 0, 0, 0, 0, 0, 0, 0, 0, 0, 0, 0, 0, 0, 0, 0, 0, 0, 0, 0, 0, 0, 0, 0, 0, 0, 0, 0, 0, 0, 0, 0, 0, 0, 0, 0, 0, 0, 0, 0, 0, 0, 0, 0, 0, 0, 0, 0, 0, 0, 0, 0, 0, 0, 0, 0, 0, 0, 0, 0, 0, 0, 0, 0, 0, 0, 0, 0, 0, 0, 0, 0, 0, 0, 0, 0, 0, 0, 0, 0, 0, 0, 0, 0, 0, 0, 0, 0, 0, 0, 0, 0, 0, 0, 0, 0, 0, 0, 0, 0, 0, 0, 0, 0, 0, 0, 0, 0, 0, 2, 0, 1, 0], type: <class 'list'>, valid types: <class 'bytes'>, <class 'bytearray'>, file-like object",
     "output_type": "error",
     "traceback": [
      "\u001b[0;31m---------------------------------------------------------------------------\u001b[0m",
      "\u001b[0;31mParamValidationError\u001b[0m                      Traceback (most recent call last)",
      "\u001b[0;32m<ipython-input-45-c9ab54ae3a48>\u001b[0m in \u001b[0;36m<module>\u001b[0;34m()\u001b[0m\n\u001b[1;32m      1\u001b[0m response = runtime.invoke_endpoint(EndpointName = xgb_predictor.endpoint, # The name of the endpoint we created\n\u001b[1;32m      2\u001b[0m                                        \u001b[0mContentType\u001b[0m \u001b[0;34m=\u001b[0m \u001b[0;34m'text/csv'\u001b[0m\u001b[0;34m,\u001b[0m                     \u001b[0;31m# The data format that is expected\u001b[0m\u001b[0;34m\u001b[0m\u001b[0m\n\u001b[0;32m----> 3\u001b[0;31m                                        Body = test_bow)\n\u001b[0m",
      "\u001b[0;32m~/anaconda3/envs/python3/lib/python3.6/site-packages/botocore/client.py\u001b[0m in \u001b[0;36m_api_call\u001b[0;34m(self, *args, **kwargs)\u001b[0m\n\u001b[1;32m    314\u001b[0m                     \"%s() only accepts keyword arguments.\" % py_operation_name)\n\u001b[1;32m    315\u001b[0m             \u001b[0;31m# The \"self\" in this scope is referring to the BaseClient.\u001b[0m\u001b[0;34m\u001b[0m\u001b[0;34m\u001b[0m\u001b[0m\n\u001b[0;32m--> 316\u001b[0;31m             \u001b[0;32mreturn\u001b[0m \u001b[0mself\u001b[0m\u001b[0;34m.\u001b[0m\u001b[0m_make_api_call\u001b[0m\u001b[0;34m(\u001b[0m\u001b[0moperation_name\u001b[0m\u001b[0;34m,\u001b[0m \u001b[0mkwargs\u001b[0m\u001b[0;34m)\u001b[0m\u001b[0;34m\u001b[0m\u001b[0m\n\u001b[0m\u001b[1;32m    317\u001b[0m \u001b[0;34m\u001b[0m\u001b[0m\n\u001b[1;32m    318\u001b[0m         \u001b[0m_api_call\u001b[0m\u001b[0;34m.\u001b[0m\u001b[0m__name__\u001b[0m \u001b[0;34m=\u001b[0m \u001b[0mstr\u001b[0m\u001b[0;34m(\u001b[0m\u001b[0mpy_operation_name\u001b[0m\u001b[0;34m)\u001b[0m\u001b[0;34m\u001b[0m\u001b[0m\n",
      "\u001b[0;32m~/anaconda3/envs/python3/lib/python3.6/site-packages/botocore/client.py\u001b[0m in \u001b[0;36m_make_api_call\u001b[0;34m(self, operation_name, api_params)\u001b[0m\n\u001b[1;32m    597\u001b[0m         }\n\u001b[1;32m    598\u001b[0m         request_dict = self._convert_to_request_dict(\n\u001b[0;32m--> 599\u001b[0;31m             api_params, operation_model, context=request_context)\n\u001b[0m\u001b[1;32m    600\u001b[0m \u001b[0;34m\u001b[0m\u001b[0m\n\u001b[1;32m    601\u001b[0m         \u001b[0mservice_id\u001b[0m \u001b[0;34m=\u001b[0m \u001b[0mself\u001b[0m\u001b[0;34m.\u001b[0m\u001b[0m_service_model\u001b[0m\u001b[0;34m.\u001b[0m\u001b[0mservice_id\u001b[0m\u001b[0;34m.\u001b[0m\u001b[0mhyphenize\u001b[0m\u001b[0;34m(\u001b[0m\u001b[0;34m)\u001b[0m\u001b[0;34m\u001b[0m\u001b[0m\n",
      "\u001b[0;32m~/anaconda3/envs/python3/lib/python3.6/site-packages/botocore/client.py\u001b[0m in \u001b[0;36m_convert_to_request_dict\u001b[0;34m(self, api_params, operation_model, context)\u001b[0m\n\u001b[1;32m    645\u001b[0m             api_params, operation_model, context)\n\u001b[1;32m    646\u001b[0m         request_dict = self._serializer.serialize_to_request(\n\u001b[0;32m--> 647\u001b[0;31m             api_params, operation_model)\n\u001b[0m\u001b[1;32m    648\u001b[0m         \u001b[0;32mif\u001b[0m \u001b[0;32mnot\u001b[0m \u001b[0mself\u001b[0m\u001b[0;34m.\u001b[0m\u001b[0m_client_config\u001b[0m\u001b[0;34m.\u001b[0m\u001b[0minject_host_prefix\u001b[0m\u001b[0;34m:\u001b[0m\u001b[0;34m\u001b[0m\u001b[0m\n\u001b[1;32m    649\u001b[0m             \u001b[0mrequest_dict\u001b[0m\u001b[0;34m.\u001b[0m\u001b[0mpop\u001b[0m\u001b[0;34m(\u001b[0m\u001b[0;34m'host_prefix'\u001b[0m\u001b[0;34m,\u001b[0m \u001b[0;32mNone\u001b[0m\u001b[0;34m)\u001b[0m\u001b[0;34m\u001b[0m\u001b[0m\n",
      "\u001b[0;32m~/anaconda3/envs/python3/lib/python3.6/site-packages/botocore/validate.py\u001b[0m in \u001b[0;36mserialize_to_request\u001b[0;34m(self, parameters, operation_model)\u001b[0m\n\u001b[1;32m    295\u001b[0m                                                     operation_model.input_shape)\n\u001b[1;32m    296\u001b[0m             \u001b[0;32mif\u001b[0m \u001b[0mreport\u001b[0m\u001b[0;34m.\u001b[0m\u001b[0mhas_errors\u001b[0m\u001b[0;34m(\u001b[0m\u001b[0;34m)\u001b[0m\u001b[0;34m:\u001b[0m\u001b[0;34m\u001b[0m\u001b[0m\n\u001b[0;32m--> 297\u001b[0;31m                 \u001b[0;32mraise\u001b[0m \u001b[0mParamValidationError\u001b[0m\u001b[0;34m(\u001b[0m\u001b[0mreport\u001b[0m\u001b[0;34m=\u001b[0m\u001b[0mreport\u001b[0m\u001b[0;34m.\u001b[0m\u001b[0mgenerate_report\u001b[0m\u001b[0;34m(\u001b[0m\u001b[0;34m)\u001b[0m\u001b[0;34m)\u001b[0m\u001b[0;34m\u001b[0m\u001b[0m\n\u001b[0m\u001b[1;32m    298\u001b[0m         return self._serializer.serialize_to_request(parameters,\n\u001b[1;32m    299\u001b[0m                                                      operation_model)\n",
      "\u001b[0;31mParamValidationError\u001b[0m: Parameter validation failed:\nInvalid type for parameter Body, value: [0, 0, 0, 0, 0, 0, 0, 0, 0, 0, 0, 0, 0, 0, 0, 0, 0, 0, 0, 0, 0, 0, 0, 0, 0, 0, 0, 0, 0, 0, 0, 0, 0, 0, 0, 0, 0, 0, 0, 0, 0, 0, 0, 0, 0, 0, 0, 0, 0, 0, 0, 0, 0, 0, 0, 0, 0, 0, 0, 0, 0, 0, 0, 0, 0, 0, 0, 0, 0, 0, 0, 0, 0, 0, 0, 0, 0, 0, 0, 0, 0, 0, 0, 0, 0, 0, 0, 0, 0, 0, 0, 0, 0, 0, 0, 0, 0, 0, 0, 0, 0, 0, 0, 0, 0, 0, 0, 0, 0, 0, 0, 0, 0, 0, 0, 0, 0, 0, 0, 0, 0, 0, 0, 0, 0, 0, 0, 0, 0, 0, 0, 0, 0, 0, 0, 0, 0, 0, 0, 0, 0, 0, 0, 0, 0, 0, 0, 0, 0, 0, 0, 0, 0, 0, 0, 0, 0, 0, 0, 0, 0, 0, 0, 0, 0, 0, 0, 0, 0, 0, 0, 0, 0, 0, 0, 0, 0, 0, 0, 0, 0, 0, 0, 0, 0, 0, 0, 0, 0, 0, 0, 0, 0, 0, 0, 0, 0, 0, 0, 0, 0, 0, 0, 0, 0, 0, 0, 0, 0, 0, 0, 0, 0, 0, 0, 0, 0, 0, 0, 0, 0, 0, 0, 0, 0, 0, 1, 0, 0, 0, 0, 0, 0, 0, 0, 0, 0, 0, 0, 0, 0, 0, 0, 0, 0, 0, 0, 0, 0, 0, 0, 0, 0, 0, 0, 0, 1, 0, 0, 0, 0, 0, 0, 0, 0, 0, 0, 0, 0, 0, 0, 0, 0, 0, 0, 0, 0, 0, 0, 0, 0, 0, 0, 0, 0, 0, 0, 0, 0, 0, 0, 0, 0, 0, 0, 0, 0, 0, 0, 0, 0, 0, 0, 0, 0, 0, 0, 0, 0, 0, 0, 0, 0, 0, 0, 0, 0, 0, 0, 0, 0, 0, 0, 0, 0, 0, 0, 0, 0, 0, 0, 0, 0, 0, 0, 0, 0, 0, 0, 0, 0, 0, 0, 0, 0, 0, 0, 0, 0, 0, 0, 0, 0, 0, 0, 0, 0, 0, 0, 0, 0, 0, 0, 0, 0, 0, 0, 0, 0, 0, 0, 0, 0, 0, 0, 0, 0, 0, 0, 0, 0, 0, 0, 0, 0, 0, 0, 0, 0, 0, 0, 0, 0, 0, 0, 0, 0, 0, 0, 0, 0, 0, 0, 0, 0, 0, 0, 0, 0, 0, 0, 0, 0, 0, 0, 0, 0, 0, 0, 0, 0, 0, 0, 0, 0, 0, 0, 0, 0, 0, 0, 0, 0, 0, 0, 0, 0, 0, 0, 0, 0, 0, 0, 0, 0, 0, 0, 0, 0, 0, 0, 0, 0, 0, 0, 0, 0, 0, 0, 0, 0, 0, 0, 0, 0, 0, 0, 0, 0, 0, 0, 0, 0, 0, 0, 0, 0, 0, 0, 0, 0, 0, 0, 0, 0, 0, 0, 0, 0, 0, 0, 0, 0, 0, 0, 0, 0, 0, 0, 0, 0, 0, 0, 0, 0, 0, 0, 0, 0, 0, 0, 0, 0, 0, 0, 0, 0, 0, 0, 0, 0, 0, 0, 0, 0, 0, 0, 0, 0, 0, 0, 0, 0, 0, 0, 0, 0, 0, 0, 0, 0, 0, 0, 0, 0, 0, 0, 0, 0, 0, 0, 0, 0, 0, 0, 0, 0, 0, 0, 0, 0, 0, 0, 0, 0, 0, 0, 0, 0, 0, 0, 0, 0, 0, 0, 0, 0, 0, 0, 0, 0, 0, 0, 0, 0, 0, 0, 0, 0, 0, 0, 0, 0, 0, 0, 0, 0, 0, 0, 0, 0, 0, 0, 0, 0, 0, 0, 0, 0, 0, 0, 0, 0, 0, 0, 0, 0, 0, 0, 0, 0, 0, 0, 0, 0, 0, 0, 0, 0, 0, 0, 0, 0, 0, 0, 0, 1, 0, 0, 0, 0, 0, 0, 0, 0, 0, 0, 0, 0, 0, 0, 0, 0, 0, 0, 0, 0, 0, 0, 0, 0, 0, 0, 0, 0, 0, 0, 0, 0, 0, 0, 0, 0, 0, 0, 0, 0, 0, 0, 0, 0, 0, 0, 0, 0, 0, 0, 0, 0, 0, 0, 0, 0, 0, 0, 0, 0, 0, 0, 0, 0, 0, 0, 0, 0, 0, 0, 0, 0, 0, 0, 0, 0, 0, 0, 0, 0, 0, 0, 0, 0, 0, 0, 0, 0, 0, 0, 0, 0, 0, 0, 0, 0, 0, 0, 0, 0, 0, 0, 0, 0, 0, 0, 0, 0, 0, 0, 0, 0, 0, 0, 0, 0, 0, 0, 0, 0, 0, 0, 0, 0, 0, 0, 0, 0, 0, 0, 0, 0, 0, 0, 0, 0, 0, 0, 0, 0, 0, 0, 0, 0, 0, 0, 0, 0, 0, 0, 0, 0, 0, 0, 0, 0, 0, 0, 0, 0, 0, 0, 0, 0, 0, 0, 0, 0, 0, 0, 0, 0, 0, 0, 0, 0, 0, 0, 0, 0, 0, 0, 0, 0, 0, 0, 0, 0, 0, 0, 0, 0, 0, 0, 0, 0, 0, 0, 0, 0, 0, 0, 0, 0, 0, 0, 0, 0, 0, 0, 0, 0, 0, 0, 0, 0, 0, 0, 0, 0, 0, 0, 0, 0, 0, 0, 0, 0, 0, 0, 0, 0, 0, 0, 0, 0, 0, 0, 0, 0, 0, 0, 0, 0, 0, 0, 0, 0, 0, 0, 0, 0, 0, 1, 0, 0, 0, 0, 0, 0, 0, 0, 0, 0, 0, 0, 0, 0, 0, 0, 0, 0, 0, 0, 0, 0, 0, 0, 0, 0, 0, 0, 0, 0, 0, 0, 0, 0, 0, 0, 0, 0, 0, 0, 0, 0, 0, 0, 0, 0, 0, 0, 0, 0, 0, 0, 0, 0, 0, 0, 0, 0, 0, 0, 0, 0, 0, 0, 0, 0, 0, 0, 0, 0, 0, 0, 0, 0, 0, 0, 0, 0, 0, 0, 0, 0, 0, 0, 0, 0, 1, 0, 0, 0, 0, 0, 0, 0, 0, 0, 0, 0, 0, 0, 0, 0, 0, 0, 0, 0, 0, 0, 0, 0, 0, 0, 0, 0, 0, 0, 0, 0, 0, 0, 0, 0, 0, 0, 0, 0, 0, 0, 0, 0, 0, 0, 0, 0, 0, 0, 0, 0, 0, 0, 0, 0, 0, 0, 0, 0, 0, 0, 0, 0, 0, 0, 0, 0, 0, 0, 0, 0, 0, 0, 0, 0, 0, 0, 0, 0, 0, 0, 0, 0, 0, 0, 0, 0, 0, 0, 0, 0, 0, 0, 0, 0, 0, 0, 0, 0, 0, 0, 0, 0, 0, 0, 0, 0, 0, 0, 0, 0, 0, 0, 0, 0, 0, 0, 0, 0, 0, 0, 0, 0, 0, 0, 0, 0, 0, 0, 0, 0, 0, 0, 0, 0, 0, 0, 0, 0, 0, 0, 0, 0, 0, 0, 0, 0, 0, 0, 0, 0, 0, 0, 0, 0, 0, 0, 0, 0, 0, 0, 0, 0, 0, 0, 0, 0, 0, 0, 0, 0, 0, 0, 0, 0, 0, 0, 0, 0, 0, 0, 0, 0, 0, 0, 0, 0, 0, 0, 0, 0, 0, 0, 0, 0, 0, 0, 0, 0, 0, 0, 0, 0, 0, 0, 0, 0, 0, 0, 0, 0, 0, 0, 0, 0, 0, 0, 0, 0, 0, 0, 0, 0, 0, 0, 0, 0, 0, 0, 0, 0, 0, 0, 0, 0, 0, 0, 0, 0, 0, 0, 0, 0, 0, 0, 0, 0, 0, 0, 0, 0, 0, 1, 0, 0, 0, 0, 0, 0, 0, 0, 0, 0, 0, 0, 0, 0, 0, 0, 0, 0, 0, 0, 0, 0, 0, 0, 0, 0, 0, 0, 0, 0, 0, 0, 0, 0, 0, 0, 0, 0, 0, 0, 0, 0, 0, 0, 0, 0, 0, 0, 0, 0, 0, 0, 0, 0, 0, 1, 0, 0, 0, 0, 0, 0, 0, 0, 0, 0, 0, 0, 0, 0, 0, 0, 0, 0, 0, 0, 0, 0, 0, 0, 0, 0, 0, 0, 0, 0, 0, 0, 0, 0, 0, 0, 0, 0, 0, 0, 0, 0, 0, 0, 0, 0, 0, 0, 0, 0, 0, 0, 0, 0, 0, 0, 0, 0, 0, 0, 0, 0, 0, 0, 0, 0, 0, 0, 0, 0, 0, 0, 0, 0, 0, 0, 0, 0, 0, 0, 0, 0, 0, 0, 0, 0, 0, 0, 0, 0, 0, 0, 0, 0, 0, 0, 0, 0, 0, 0, 0, 0, 0, 0, 0, 0, 0, 0, 0, 0, 0, 0, 0, 0, 0, 0, 0, 0, 0, 0, 0, 0, 0, 0, 0, 0, 0, 0, 0, 0, 0, 0, 0, 0, 0, 0, 0, 0, 0, 0, 0, 0, 0, 0, 0, 0, 0, 0, 0, 0, 0, 0, 0, 0, 0, 0, 0, 0, 0, 0, 0, 0, 0, 0, 0, 0, 0, 0, 0, 0, 0, 0, 0, 0, 0, 0, 0, 0, 0, 0, 0, 0, 0, 0, 0, 0, 0, 0, 0, 0, 0, 0, 0, 0, 0, 0, 0, 0, 0, 0, 0, 0, 0, 0, 0, 0, 0, 0, 0, 0, 0, 0, 0, 0, 0, 0, 0, 0, 0, 0, 0, 0, 0, 0, 0, 0, 0, 0, 0, 0, 0, 0, 0, 0, 0, 0, 0, 0, 0, 0, 0, 0, 0, 0, 0, 0, 0, 0, 0, 0, 0, 0, 0, 0, 0, 0, 0, 0, 0, 0, 0, 0, 0, 0, 0, 0, 0, 0, 0, 0, 0, 0, 0, 0, 0, 0, 0, 0, 0, 0, 0, 0, 0, 0, 0, 0, 0, 0, 0, 0, 0, 0, 0, 0, 0, 0, 0, 0, 0, 0, 0, 0, 0, 0, 0, 0, 0, 0, 0, 0, 0, 0, 0, 0, 0, 0, 0, 0, 0, 0, 0, 0, 0, 0, 0, 0, 0, 0, 0, 0, 0, 0, 0, 0, 0, 0, 0, 0, 0, 0, 0, 0, 0, 0, 0, 0, 0, 0, 0, 0, 0, 0, 0, 0, 0, 0, 0, 0, 0, 0, 0, 0, 0, 0, 0, 0, 0, 0, 0, 0, 0, 0, 0, 0, 0, 0, 0, 0, 0, 0, 0, 0, 0, 0, 0, 0, 0, 0, 0, 0, 0, 0, 0, 0, 0, 0, 0, 0, 0, 0, 0, 0, 0, 0, 0, 0, 0, 0, 0, 0, 0, 0, 0, 0, 0, 0, 0, 0, 0, 0, 0, 0, 0, 0, 0, 0, 0, 0, 0, 0, 0, 0, 0, 0, 0, 0, 0, 0, 0, 0, 0, 0, 0, 0, 0, 0, 0, 0, 0, 0, 0, 0, 0, 0, 0, 0, 0, 0, 0, 0, 0, 0, 0, 0, 0, 0, 0, 0, 0, 0, 0, 0, 0, 0, 0, 0, 0, 0, 0, 0, 0, 0, 0, 0, 0, 0, 0, 0, 0, 0, 0, 0, 0, 0, 0, 0, 0, 0, 0, 0, 0, 0, 0, 0, 0, 0, 0, 0, 0, 0, 0, 0, 0, 0, 0, 0, 0, 0, 0, 0, 0, 0, 0, 0, 0, 0, 0, 0, 0, 0, 0, 0, 0, 0, 0, 0, 0, 0, 0, 0, 0, 0, 0, 0, 0, 0, 0, 0, 0, 0, 0, 0, 0, 0, 0, 0, 0, 0, 0, 0, 0, 0, 0, 0, 0, 0, 0, 0, 0, 0, 0, 0, 0, 0, 0, 0, 0, 0, 0, 0, 0, 0, 0, 0, 0, 0, 0, 0, 0, 0, 0, 0, 0, 0, 0, 0, 0, 0, 0, 0, 0, 0, 0, 0, 0, 0, 0, 0, 0, 0, 0, 0, 0, 0, 0, 0, 0, 0, 0, 0, 0, 0, 0, 0, 0, 0, 0, 0, 0, 0, 0, 0, 0, 0, 0, 0, 0, 0, 0, 0, 0, 0, 0, 0, 0, 0, 0, 0, 0, 0, 0, 0, 0, 0, 0, 0, 0, 0, 0, 0, 0, 0, 0, 0, 0, 0, 0, 0, 0, 0, 0, 0, 0, 0, 0, 0, 0, 0, 0, 0, 0, 1, 0, 0, 0, 0, 0, 0, 0, 0, 0, 0, 0, 0, 0, 0, 0, 0, 0, 0, 0, 0, 0, 0, 0, 0, 0, 0, 0, 0, 0, 0, 0, 0, 0, 0, 0, 0, 0, 0, 0, 0, 0, 0, 0, 0, 0, 0, 0, 0, 0, 0, 0, 0, 0, 0, 0, 0, 0, 0, 0, 0, 0, 0, 0, 0, 0, 0, 0, 0, 0, 0, 0, 0, 0, 0, 1, 0, 0, 0, 0, 0, 0, 0, 0, 0, 0, 0, 0, 0, 0, 0, 0, 0, 0, 0, 0, 1, 0, 0, 1, 0, 0, 0, 0, 0, 0, 0, 0, 0, 0, 0, 0, 0, 0, 0, 0, 0, 0, 0, 0, 0, 0, 0, 0, 0, 0, 0, 0, 0, 0, 0, 0, 0, 0, 0, 0, 0, 0, 0, 0, 0, 0, 0, 0, 0, 0, 0, 0, 0, 0, 0, 0, 0, 0, 0, 0, 0, 0, 0, 0, 0, 0, 0, 0, 0, 0, 0, 0, 0, 0, 0, 0, 0, 0, 0, 0, 0, 0, 0, 0, 0, 0, 0, 0, 0, 0, 0, 0, 0, 0, 0, 0, 0, 0, 0, 0, 0, 0, 0, 0, 0, 0, 0, 0, 0, 0, 0, 0, 0, 0, 0, 0, 0, 0, 0, 0, 0, 0, 0, 0, 0, 0, 0, 0, 0, 0, 0, 0, 0, 0, 0, 0, 0, 0, 0, 0, 0, 0, 0, 0, 0, 0, 0, 0, 0, 0, 0, 0, 0, 0, 0, 0, 0, 0, 0, 0, 0, 0, 0, 0, 0, 0, 0, 0, 0, 0, 0, 0, 0, 0, 0, 0, 0, 0, 0, 0, 0, 0, 0, 0, 0, 0, 0, 0, 0, 0, 0, 0, 0, 0, 0, 0, 0, 0, 0, 0, 0, 0, 0, 0, 0, 0, 0, 0, 0, 0, 0, 0, 0, 0, 0, 0, 0, 0, 0, 0, 0, 0, 0, 0, 0, 0, 0, 0, 0, 0, 0, 0, 0, 0, 0, 0, 0, 0, 0, 0, 0, 0, 0, 0, 0, 0, 0, 0, 0, 0, 0, 0, 0, 0, 0, 0, 0, 0, 0, 0, 0, 0, 0, 0, 0, 0, 0, 0, 0, 0, 0, 0, 0, 0, 0, 0, 0, 0, 0, 0, 0, 0, 0, 0, 0, 0, 0, 0, 0, 0, 0, 0, 0, 0, 0, 0, 0, 0, 0, 0, 0, 0, 0, 0, 0, 0, 0, 0, 0, 0, 0, 0, 0, 0, 0, 0, 0, 0, 0, 0, 0, 0, 0, 0, 0, 0, 0, 0, 0, 0, 0, 0, 0, 0, 0, 0, 0, 0, 0, 0, 0, 0, 0, 0, 0, 0, 0, 0, 0, 0, 0, 0, 0, 0, 0, 0, 0, 0, 0, 0, 0, 0, 0, 0, 0, 0, 0, 0, 0, 0, 0, 0, 0, 0, 0, 0, 0, 0, 0, 0, 0, 0, 0, 0, 0, 0, 0, 0, 0, 0, 0, 0, 0, 0, 0, 0, 0, 0, 0, 0, 0, 0, 0, 0, 0, 0, 0, 0, 0, 0, 0, 0, 0, 0, 0, 0, 0, 0, 0, 0, 0, 0, 0, 0, 0, 0, 0, 0, 0, 0, 0, 0, 0, 0, 0, 0, 0, 0, 0, 0, 0, 0, 0, 0, 0, 0, 0, 0, 0, 0, 0, 0, 0, 0, 0, 0, 0, 0, 0, 0, 0, 0, 0, 0, 0, 0, 0, 0, 0, 0, 1, 0, 0, 0, 0, 0, 0, 0, 0, 0, 0, 0, 0, 0, 0, 0, 0, 0, 0, 0, 0, 0, 0, 0, 0, 0, 0, 0, 0, 0, 0, 0, 0, 0, 0, 0, 0, 0, 0, 0, 0, 0, 0, 0, 0, 0, 0, 0, 0, 0, 0, 0, 0, 0, 0, 0, 0, 0, 0, 0, 0, 0, 0, 0, 0, 0, 0, 0, 0, 0, 0, 0, 0, 0, 0, 0, 0, 0, 0, 0, 0, 0, 0, 0, 0, 0, 0, 0, 0, 0, 0, 0, 0, 0, 0, 0, 0, 0, 0, 0, 0, 0, 0, 0, 0, 0, 0, 0, 0, 0, 0, 0, 0, 0, 0, 0, 0, 0, 0, 0, 0, 0, 0, 0, 0, 0, 0, 0, 0, 0, 0, 0, 0, 0, 0, 0, 0, 0, 0, 0, 0, 0, 0, 0, 0, 0, 0, 0, 0, 0, 0, 0, 0, 0, 0, 0, 0, 0, 0, 0, 0, 0, 0, 0, 0, 0, 0, 0, 0, 0, 0, 0, 0, 0, 0, 0, 0, 0, 0, 0, 0, 0, 0, 0, 0, 0, 0, 0, 0, 0, 0, 0, 0, 0, 0, 0, 0, 0, 0, 0, 0, 0, 0, 0, 0, 0, 0, 0, 0, 0, 0, 0, 0, 0, 0, 0, 0, 0, 0, 0, 0, 0, 0, 0, 0, 0, 0, 0, 0, 0, 0, 0, 0, 0, 0, 0, 0, 0, 0, 0, 0, 0, 0, 0, 0, 0, 0, 0, 0, 0, 0, 0, 0, 0, 0, 0, 0, 0, 0, 0, 0, 0, 0, 0, 0, 0, 0, 0, 0, 0, 0, 0, 0, 0, 0, 0, 0, 0, 0, 0, 0, 0, 0, 0, 0, 0, 0, 0, 0, 0, 0, 0, 0, 0, 0, 0, 0, 0, 0, 0, 0, 0, 0, 0, 0, 0, 0, 0, 0, 0, 0, 0, 0, 0, 0, 0, 0, 0, 0, 0, 0, 0, 0, 0, 0, 0, 0, 0, 0, 0, 0, 0, 0, 0, 0, 0, 0, 0, 0, 0, 0, 0, 0, 0, 0, 0, 0, 0, 0, 0, 0, 0, 0, 0, 0, 0, 0, 0, 0, 0, 0, 0, 0, 0, 0, 0, 0, 0, 0, 0, 0, 0, 0, 0, 0, 0, 0, 0, 0, 0, 0, 0, 0, 0, 0, 0, 0, 0, 0, 0, 0, 0, 0, 0, 0, 0, 0, 0, 0, 0, 0, 0, 0, 0, 0, 0, 0, 0, 0, 0, 0, 0, 0, 0, 0, 0, 0, 0, 0, 0, 0, 0, 0, 0, 0, 0, 0, 0, 0, 0, 0, 0, 0, 0, 0, 0, 0, 0, 0, 0, 0, 0, 0, 0, 0, 0, 0, 0, 0, 0, 0, 0, 0, 0, 0, 0, 0, 0, 0, 0, 0, 0, 0, 0, 0, 0, 0, 0, 0, 0, 0, 0, 0, 0, 0, 0, 0, 0, 0, 0, 0, 0, 0, 0, 0, 0, 0, 0, 0, 0, 0, 0, 0, 0, 0, 0, 0, 0, 0, 0, 0, 0, 0, 0, 0, 0, 0, 0, 0, 0, 0, 0, 0, 1, 0, 0, 0, 0, 0, 0, 0, 0, 0, 0, 0, 0, 0, 0, 0, 0, 0, 0, 0, 0, 0, 0, 0, 0, 0, 0, 0, 0, 0, 0, 0, 0, 0, 0, 0, 2, 0, 0, 0, 0, 0, 0, 0, 0, 0, 0, 0, 0, 0, 0, 0, 0, 0, 0, 0, 0, 0, 0, 0, 0, 0, 0, 0, 0, 0, 0, 0, 0, 0, 0, 0, 0, 0, 0, 0, 0, 1, 0, 0, 0, 0, 0, 0, 0, 0, 0, 0, 0, 0, 0, 0, 0, 0, 0, 0, 0, 0, 0, 0, 0, 0, 0, 0, 0, 0, 0, 0, 0, 0, 0, 0, 0, 0, 0, 0, 0, 0, 0, 0, 0, 0, 0, 0, 0, 0, 0, 0, 0, 0, 0, 0, 0, 0, 0, 0, 0, 0, 0, 0, 0, 0, 0, 0, 0, 0, 0, 0, 0, 0, 0, 0, 0, 0, 0, 0, 0, 0, 0, 0, 0, 0, 0, 0, 0, 0, 0, 0, 0, 0, 0, 0, 0, 0, 0, 0, 0, 0, 0, 0, 0, 0, 0, 0, 0, 0, 0, 0, 0, 0, 0, 0, 0, 0, 0, 0, 0, 0, 0, 0, 0, 0, 0, 0, 0, 0, 0, 0, 0, 0, 0, 0, 0, 0, 0, 0, 0, 0, 0, 0, 0, 0, 0, 0, 0, 0, 0, 0, 0, 0, 0, 0, 0, 0, 0, 0, 0, 0, 0, 0, 0, 0, 0, 0, 0, 0, 0, 0, 0, 0, 0, 0, 0, 0, 0, 0, 0, 0, 0, 0, 0, 0, 0, 0, 0, 0, 0, 0, 0, 0, 0, 0, 0, 0, 0, 0, 0, 0, 0, 0, 0, 0, 0, 0, 0, 0, 0, 0, 0, 0, 0, 0, 0, 0, 0, 0, 0, 0, 0, 0, 0, 0, 0, 0, 0, 0, 0, 0, 0, 0, 0, 0, 0, 0, 0, 0, 0, 0, 0, 0, 0, 0, 0, 0, 0, 0, 0, 0, 0, 0, 0, 0, 0, 0, 0, 0, 0, 0, 0, 0, 0, 0, 0, 0, 0, 0, 0, 0, 0, 0, 0, 0, 0, 0, 0, 0, 0, 0, 0, 0, 0, 0, 0, 0, 0, 0, 0, 0, 0, 0, 0, 0, 0, 0, 0, 0, 0, 0, 0, 0, 0, 0, 0, 0, 0, 0, 0, 0, 0, 0, 0, 0, 0, 0, 0, 0, 0, 0, 0, 0, 0, 0, 0, 0, 0, 0, 0, 0, 0, 0, 0, 0, 0, 0, 0, 0, 0, 0, 0, 0, 0, 0, 0, 0, 0, 0, 0, 0, 0, 0, 0, 0, 0, 0, 0, 0, 0, 0, 0, 0, 0, 0, 0, 0, 0, 0, 0, 0, 0, 0, 0, 0, 0, 0, 0, 0, 0, 0, 0, 0, 0, 0, 0, 0, 0, 0, 0, 0, 0, 0, 0, 0, 0, 0, 0, 0, 0, 0, 0, 0, 0, 0, 0, 0, 0, 0, 0, 0, 0, 0, 0, 0, 0, 0, 0, 0, 0, 0, 0, 0, 0, 0, 0, 0, 0, 0, 0, 0, 0, 0, 0, 0, 0, 0, 0, 0, 0, 0, 0, 0, 0, 0, 0, 0, 0, 0, 0, 0, 0, 0, 0, 0, 0, 0, 0, 0, 0, 0, 0, 0, 0, 0, 0, 0, 0, 0, 0, 0, 0, 0, 0, 0, 0, 0, 0, 0, 0, 0, 0, 0, 0, 0, 0, 0, 0, 0, 0, 0, 0, 0, 0, 0, 0, 0, 0, 1, 0, 0, 0, 0, 0, 0, 0, 0, 0, 0, 0, 0, 0, 0, 0, 0, 0, 0, 0, 0, 0, 0, 0, 0, 0, 0, 0, 0, 0, 0, 0, 0, 0, 0, 0, 0, 0, 0, 0, 0, 0, 0, 0, 0, 0, 0, 0, 0, 0, 0, 0, 0, 0, 0, 0, 0, 0, 0, 0, 0, 0, 0, 0, 0, 0, 0, 0, 0, 0, 0, 0, 0, 0, 0, 0, 0, 0, 0, 0, 0, 0, 0, 0, 0, 0, 0, 0, 0, 0, 0, 0, 0, 0, 0, 0, 0, 0, 0, 0, 0, 0, 0, 0, 0, 0, 0, 0, 0, 0, 0, 2, 0, 0, 0, 0, 0, 0, 0, 0, 0, 0, 0, 0, 0, 0, 0, 0, 0, 0, 0, 0, 0, 0, 0, 0, 0, 0, 0, 0, 0, 0, 0, 0, 0, 0, 0, 0, 0, 0, 0, 0, 0, 0, 0, 0, 0, 0, 0, 0, 0, 0, 0, 0, 0, 0, 0, 0, 0, 0, 0, 0, 0, 0, 0, 0, 0, 0, 0, 0, 0, 0, 0, 0, 0, 0, 0, 0, 0, 0, 0, 0, 0, 0, 0, 0, 0, 0, 0, 0, 0, 0, 0, 0, 0, 0, 0, 0, 0, 0, 0, 0, 0, 0, 0, 0, 0, 0, 0, 0, 0, 0, 0, 0, 0, 0, 0, 0, 0, 0, 0, 0, 0, 0, 0, 0, 0, 0, 0, 0, 0, 0, 0, 0, 0, 0, 0, 0, 0, 0, 0, 0, 0, 0, 0, 0, 0, 0, 0, 0, 0, 0, 0, 0, 0, 0, 0, 0, 0, 0, 0, 0, 0, 0, 0, 0, 0, 0, 0, 0, 0, 0, 0, 0, 0, 0, 0, 0, 0, 0, 0, 0, 0, 0, 0, 0, 0, 0, 0, 0, 0, 0, 0, 0, 0, 0, 0, 0, 0, 0, 0, 0, 0, 0, 0, 0, 0, 0, 0, 0, 0, 0, 0, 0, 0, 0, 0, 0, 0, 0, 0, 0, 0, 0, 0, 0, 0, 0, 0, 0, 0, 0, 0, 0, 0, 0, 0, 0, 0, 0, 0, 0, 0, 0, 0, 0, 0, 0, 0, 0, 0, 0, 0, 0, 0, 0, 0, 0, 0, 0, 0, 0, 0, 0, 0, 0, 0, 0, 0, 0, 0, 0, 0, 0, 0, 0, 0, 0, 0, 0, 0, 0, 0, 0, 0, 0, 0, 0, 0, 0, 0, 0, 0, 0, 0, 0, 0, 0, 0, 0, 0, 0, 0, 0, 0, 0, 0, 0, 0, 0, 0, 0, 0, 0, 0, 0, 0, 0, 0, 0, 0, 0, 0, 0, 0, 0, 0, 0, 0, 0, 0, 0, 0, 0, 0, 0, 0, 0, 0, 0, 0, 0, 0, 0, 0, 0, 0, 0, 0, 0, 0, 0, 0, 0, 0, 0, 0, 0, 0, 0, 0, 0, 0, 0, 0, 0, 0, 0, 0, 0, 0, 0, 0, 0, 0, 0, 0, 0, 0, 0, 0, 0, 0, 0, 0, 0, 0, 0, 0, 0, 0, 0, 0, 0, 0, 0, 0, 0, 0, 0, 0, 0, 0, 0, 0, 0, 0, 0, 0, 0, 0, 0, 0, 0, 0, 0, 0, 0, 0, 0, 0, 0, 0, 0, 0, 0, 0, 0, 0, 0, 0, 0, 0, 0, 0, 0, 0, 0, 0, 0, 0, 0, 0, 0, 0, 0, 0, 0, 0, 0, 0, 0, 0, 0, 0, 0, 0, 0, 0, 0, 0, 0, 0, 0, 0, 0, 0, 0, 0, 0, 0, 0, 0, 0, 0, 0, 0, 0, 0, 0, 0, 0, 0, 0, 0, 0, 0, 0, 0, 0, 0, 0, 0, 0, 0, 0, 0, 0, 0, 0, 0, 0, 0, 0, 0, 0, 0, 0, 0, 0, 0, 0, 0, 0, 0, 0, 0, 0, 0, 0, 0, 0, 0, 0, 0, 0, 0, 0, 0, 0, 0, 0, 0, 0, 0, 0, 0, 0, 0, 0, 0, 0, 0, 0, 0, 0, 0, 0, 0, 0, 0, 0, 0, 0, 0, 0, 0, 0, 0, 0, 0, 0, 0, 0, 0, 0, 0, 0, 0, 0, 0, 0, 0, 0, 0, 0, 0, 0, 0, 0, 0, 0, 0, 0, 0, 0, 0, 0, 0, 0, 0, 0, 0, 0, 0, 0, 0, 0, 0, 0, 0, 0, 0, 0, 0, 0, 0, 0, 0, 0, 0, 0, 0, 0, 0, 0, 0, 0, 0, 0, 0, 0, 0, 0, 0, 0, 0, 0, 0, 0, 0, 0, 0, 0, 0, 0, 0, 0, 0, 0, 0, 0, 0, 0, 0, 0, 0, 0, 0, 0, 0, 0, 0, 0, 0, 0, 0, 0, 0, 0, 0, 0, 0, 0, 0, 0, 0, 0, 0, 0, 0, 0, 0, 0, 0, 0, 0, 0, 0, 0, 0, 0, 0, 0, 0, 0, 0, 0, 0, 0, 0, 0, 1, 0, 0, 0, 0, 0, 0, 0, 0, 0, 0, 0, 0, 0, 0, 0, 0, 0, 0, 0, 0, 0, 0, 0, 0, 0, 0, 0, 0, 0, 0, 0, 0, 0, 0, 0, 0, 0, 0, 0, 0, 0, 0, 0, 0, 0, 0, 0, 0, 0, 0, 0, 0, 0, 0, 0, 0, 0, 0, 0, 0, 0, 0, 0, 0, 0, 0, 0, 0, 0, 0, 0, 0, 0, 0, 0, 0, 0, 0, 0, 0, 0, 0, 0, 0, 0, 0, 0, 0, 0, 0, 0, 0, 0, 0, 0, 0, 0, 0, 0, 0, 0, 0, 0, 0, 0, 0, 0, 1, 0, 0, 0, 0, 0, 0, 0, 0, 0, 0, 0, 0, 0, 0, 0, 0, 0, 0, 0, 0, 0, 0, 0, 0, 0, 0, 0, 0, 0, 0, 0, 0, 0, 0, 0, 0, 0, 0, 0, 0, 0, 0, 0, 0, 0, 0, 0, 0, 0, 0, 0, 0, 0, 0, 0, 0, 0, 0, 0, 0, 0, 0, 0, 0, 0, 0, 0, 0, 0, 0, 0, 0, 0, 0, 0, 0, 0, 0, 0, 0, 0, 0, 0, 0, 0, 0, 0, 0, 0, 0, 0, 0, 0, 0, 0, 0, 0, 0, 0, 0, 0, 0, 0, 0, 0, 0, 0, 0, 0, 0, 0, 0, 0, 0, 0, 0, 0, 0, 0, 0, 0, 0, 0, 0, 0, 0, 0, 0, 0, 0, 0, 0, 0, 0, 0, 0, 0, 0, 0, 0, 0, 0, 0, 0, 0, 0, 0, 0, 0, 0, 0, 0, 0, 0, 0, 0, 0, 0, 0, 0, 0, 0, 0, 0, 0, 0, 0, 0, 0, 0, 0, 0, 0, 0, 0, 0, 0, 0, 0, 0, 0, 0, 0, 0, 0, 0, 0, 0, 0, 0, 0, 0, 0, 0, 0, 0, 0, 0, 0, 0, 0, 0, 0, 0, 0, 0, 0, 0, 0, 0, 0, 0, 0, 0, 0, 0, 0, 0, 0, 0, 0, 0, 0, 0, 0, 0, 0, 0, 0, 0, 0, 0, 0, 0, 0, 0, 0, 0, 0, 0, 0, 0, 0, 0, 0, 0, 0, 0, 0, 0, 0, 0, 0, 0, 0, 0, 0, 0, 0, 0, 0, 0, 0, 0, 0, 0, 0, 0, 0, 0, 0, 0, 0, 0, 0, 0, 0, 0, 0, 0, 0, 0, 0, 0, 0, 0, 0, 0, 0, 0, 0, 0, 0, 0, 0, 0, 0, 0, 0, 0, 0, 0, 0, 0, 0, 0, 0, 0, 0, 0, 0, 0, 0, 0, 0, 0, 0, 0, 0, 0, 0, 0, 0, 0, 0, 0, 0, 0, 0, 0, 0, 0, 0, 0, 0, 0, 0, 0, 0, 0, 0, 0, 0, 0, 0, 0, 0, 0, 0, 0, 0, 0, 0, 0, 0, 0, 0, 0, 0, 0, 0, 0, 0, 0, 0, 0, 0, 0, 0, 0, 0, 0, 0, 0, 0, 0, 0, 0, 0, 0, 0, 0, 0, 0, 0, 0, 0, 0, 0, 0, 0, 0, 0, 0, 0, 0, 0, 0, 0, 0, 0, 0, 0, 0, 0, 0, 0, 0, 0, 0, 0, 0, 0, 0, 0, 0, 0, 0, 0, 0, 0, 0, 0, 0, 0, 0, 0, 0, 0, 0, 0, 0, 0, 0, 0, 0, 0, 0, 0, 0, 0, 0, 0, 0, 0, 0, 0, 0, 0, 0, 0, 0, 0, 0, 0, 0, 0, 0, 0, 0, 0, 0, 0, 2, 0, 1, 0], type: <class 'list'>, valid types: <class 'bytes'>, <class 'bytearray'>, file-like object"
     ]
    }
   ],
   "source": [
    "response = runtime.invoke_endpoint(EndpointName = xgb_predictor.endpoint, # The name of the endpoint we created\n",
    "                                       ContentType = 'text/csv',                     # The data format that is expected\n",
    "                                       Body = test_bow)"
   ]
  },
  {
   "cell_type": "markdown",
   "metadata": {},
   "source": [
    "So why did we get an error?\n",
    "\n",
    "Because we tried to send the endpoint a list of integers but it expected us to send data of type `text/csv`. So, we need to convert it."
   ]
  },
  {
   "cell_type": "code",
   "execution_count": 51,
   "metadata": {},
   "outputs": [],
   "source": [
    "response = runtime.invoke_endpoint(EndpointName = xgb_predictor.endpoint, # The name of the endpoint we created\n",
    "                                       ContentType = 'text/csv',                     # The data format that is expected\n",
    "                                       Body = ','.join([str(val) for val in test_bow]).encode('utf-8'))"
   ]
  },
  {
   "cell_type": "code",
   "execution_count": 52,
   "metadata": {},
   "outputs": [
    {
     "name": "stdout",
     "output_type": "stream",
     "text": [
      "{'ResponseMetadata': {'RequestId': '37902b96-3cde-4b58-8ae9-b7bf9ce3cbee', 'HTTPStatusCode': 200, 'HTTPHeaders': {'x-amzn-requestid': '37902b96-3cde-4b58-8ae9-b7bf9ce3cbee', 'x-amzn-invoked-production-variant': 'AllTraffic', 'date': 'Fri, 1 May 2020 14:20:06 GMT', 'content-type': 'text/csv; charset=utf-8', 'content-length': '13'}, 'RetryAttempts': 0}, 'ContentType': 'text/csv; charset=utf-8', 'InvokedProductionVariant': 'AllTraffic', 'Body': <botocore.response.StreamingBody object at 0x7f36a46c3cc0>}\n"
     ]
    }
   ],
   "source": [
    "print(response)"
   ]
  },
  {
   "cell_type": "markdown",
   "metadata": {},
   "source": [
    "As we can see, the response from our model is a somewhat complicated looking dict that contains a bunch of information. The bit that we are most interested in is `'Body'` object which is a streaming object that we need to `read` in order to make use of."
   ]
  },
  {
   "cell_type": "code",
   "execution_count": 53,
   "metadata": {},
   "outputs": [
    {
     "name": "stdout",
     "output_type": "stream",
     "text": [
      "0.50860285759\n"
     ]
    }
   ],
   "source": [
    "response = response['Body'].read().decode('utf-8')\n",
    "print(response)"
   ]
  },
  {
   "cell_type": "markdown",
   "metadata": {},
   "source": [
    "Now that we know how to process the incoming user data we can start setting up the infrastructure to make our simple web app work. To do this we will make use of two different services. Amazon's Lambda and API Gateway services.\n",
    "\n",
    "Lambda is a service which allows someone to write some relatively simple code and have it executed whenever a chosen trigger occurs. For example, you may want to update a database whenever new data is uploaded to a folder stored on S3.\n",
    "\n",
    "API Gateway is a service that allows you to create HTTP endpoints (url addresses) which are connected to other AWS services. One of the benefits to this is that you get to decide what credentials, if any, are required to access these endpoints.\n",
    "\n",
    "In our case we are going to set up an HTTP endpoint through API Gateway which is open to the public. Then, whenever anyone sends data to our public endpoint we will trigger a Lambda function which will send the input (in our case a review) to our model's endpoint and then return the result."
   ]
  },
  {
   "cell_type": "markdown",
   "metadata": {},
   "source": [
    "### Setting up a Lambda function\n",
    "\n",
    "The first thing we are going to do is set up a Lambda function. This Lambda function will be executed whenever our public API has data sent to it. When it is executed it will receive the data, perform any sort of processing that is required, send the data (the review) to the SageMaker endpoint we've created and then return the result.\n",
    "\n",
    "#### Part A: Create an IAM Role for the Lambda function\n",
    "\n",
    "Since we want the Lambda function to call a SageMaker endpoint, we need to make sure that it has permission to do so. To do this, we will construct a role that we can later give the Lambda function.\n",
    "\n",
    "Using the AWS Console, navigate to the **IAM** page and click on **Roles**. Then, click on **Create role**. Make sure that the **AWS service** is the type of trusted entity selected and choose **Lambda** as the service that will use this role, then click **Next: Permissions**.\n",
    "\n",
    "In the search box type `sagemaker` and select the check box next to the **AmazonSageMakerFullAccess** policy. Then, click on **Next: Review**.\n",
    "\n",
    "Lastly, give this role a name. Make sure you use a name that you will remember later on, for example `LambdaSageMakerRole`. Then, click on **Create role**."
   ]
  },
  {
   "cell_type": "markdown",
   "metadata": {},
   "source": [
    "#### Part B: Create a Lambda function\n",
    "\n",
    "Now it is time to actually create the Lambda function. Remember from earlier that in order to process the user provided input and send it to our endpoint we need to gather two pieces of information:\n",
    "\n",
    " - The name of the endpoint, and\n",
    " - the vocabulary object.\n",
    "\n",
    "We will copy these pieces of information to our Lambda function after we create it.\n",
    "\n",
    "To start, using the AWS Console, navigate to the AWS Lambda page and click on **Create a function**. When you get to the next page, make sure that **Author from scratch** is selected. Now, name your Lambda function, using a name that you will remember later on, for example `sentiment_analysis_xgboost_func`. Make sure that the **Python 3.6** runtime is selected and then choose the role that you created in the previous part. Then, click on **Create Function**.\n",
    "\n",
    "On the next page you will see some information about the Lambda function you've just created. If you scroll down you should see an editor in which you can write the code that will be executed when your Lambda function is triggered. Collecting the code we wrote above to process a single review and adding it to the provided example `lambda_handler` we arrive at the following.\n",
    "\n",
    "```python\n",
    "# We need to use the low-level library to interact with SageMaker since the SageMaker API\n",
    "# is not available natively through Lambda.\n",
    "import boto3\n",
    "\n",
    "# And we need the regular expression library to do some of the data processing\n",
    "import re\n",
    "\n",
    "REPLACE_NO_SPACE = re.compile(\"(\\.)|(\\;)|(\\:)|(\\!)|(\\')|(\\?)|(\\,)|(\\\")|(\\()|(\\))|(\\[)|(\\])\")\n",
    "REPLACE_WITH_SPACE = re.compile(\"(<br\\s*/><br\\s*/>)|(\\-)|(\\/)\")\n",
    "\n",
    "def review_to_words(review):\n",
    "    words = REPLACE_NO_SPACE.sub(\"\", review.lower())\n",
    "    words = REPLACE_WITH_SPACE.sub(\" \", words)\n",
    "    return words\n",
    "    \n",
    "def bow_encoding(words, vocabulary):\n",
    "    bow = [0] * len(vocabulary) # Start by setting the count for each word in the vocabulary to zero.\n",
    "    for word in words.split():  # For each word in the string\n",
    "        if word in vocabulary:  # If the word is one that occurs in the vocabulary, increase its count.\n",
    "            bow[vocabulary[word]] += 1\n",
    "    return bow\n",
    "\n",
    "\n",
    "def lambda_handler(event, context):\n",
    "    \n",
    "    vocab = \"*** ACTUAL VOCABULARY GOES HERE ***\"\n",
    "    \n",
    "    words = review_to_words(event['body'])\n",
    "    bow = bow_encoding(words, vocab)\n",
    "\n",
    "    # The SageMaker runtime is what allows us to invoke the endpoint that we've created.\n",
    "    runtime = boto3.Session().client('sagemaker-runtime')\n",
    "\n",
    "    # Now we use the SageMaker runtime to invoke our endpoint, sending the review we were given\n",
    "    response = runtime.invoke_endpoint(EndpointName = '***ENDPOINT NAME HERE***',# The name of the endpoint we created\n",
    "                                       ContentType = 'text/csv',                 # The data format that is expected\n",
    "                                       Body = ','.join([str(val) for val in bow]).encode('utf-8')) # The actual review\n",
    "\n",
    "    # The response is an HTTP response whose body contains the result of our inference\n",
    "    result = response['Body'].read().decode('utf-8')\n",
    "    \n",
    "    # Round the result so that our web app only gets '1' or '0' as a response.\n",
    "    result = round(float(result))\n",
    "\n",
    "    return {\n",
    "        'statusCode' : 200,\n",
    "        'headers' : { 'Content-Type' : 'text/plain', 'Access-Control-Allow-Origin' : '*' },\n",
    "        'body' : str(result)\n",
    "    }\n",
    "```"
   ]
  },
  {
   "cell_type": "markdown",
   "metadata": {},
   "source": [
    "Once you have copy and pasted the code above into the Lambda code editor, replace the `**ENDPOINT NAME HERE**` portion with the name of the endpoint that we deployed earlier. You can determine the name of the endpoint using the code cell below."
   ]
  },
  {
   "cell_type": "code",
   "execution_count": 54,
   "metadata": {},
   "outputs": [
    {
     "data": {
      "text/plain": [
       "'xgboost-2020-05-01-13-53-21-793'"
      ]
     },
     "execution_count": 54,
     "metadata": {},
     "output_type": "execute_result"
    }
   ],
   "source": [
    "xgb_predictor.endpoint"
   ]
  },
  {
   "cell_type": "markdown",
   "metadata": {},
   "source": [
    "In addition, you will need to copy the vocabulary dict to the appropriate place in the code at the beginning of the `lambda_handler` method. The cell below prints out the vocabulary dict in a way that is easy to copy and paste."
   ]
  },
  {
   "cell_type": "code",
   "execution_count": 55,
   "metadata": {
    "scrolled": false
   },
   "outputs": [
    {
     "name": "stdout",
     "output_type": "stream",
     "text": [
      "{'if': 2222, 'you': 4986, 'know': 2489, 'the': 4426, 'story': 4207, 'of': 3083, 'grey': 1973, 'youll': 4988, 'love': 2669, 'movie': 2926, 'annie': 247, 'is': 2360, 'great': 1964, 'actress': 105, 'and': 226, 'better': 472, 'than': 4420, 'never': 3001, 'in': 2257, 'but': 636, 'this': 4457, 'theres': 4440, 'no': 3020, 'real': 3547, 'scene': 3809, 'action': 100, 'think': 4452, 'should': 3951, 'be': 418, 'nominated': 3025, 'at': 331, 'oscars': 3134, 'go': 1924, 'see': 3855, 'its': 2370, 'classic': 835, 'just': 2437, 'caught': 722, 'an': 223, 'episode': 1507, 'about': 67, 'brad': 560, 'crack': 1027, 'who': 4871, 'turned': 4606, 'to': 4507, 'drug': 1373, 'life': 2592, 'on': 3105, 'streets': 4217, 'after': 143, 'his': 2118, 'career': 686, 'went': 4847, 'as': 311, 'fast': 1661, 'it': 2366, 'started': 4157, 'have': 2052, 'say': 3799, 'that': 4424, 'was': 4805, 'more': 2904, 'heart': 2064, 'breaking': 570, 'heres': 2087, 'young': 4989, 'guy': 2000, 'winning': 4898, 'left': 2561, 'right': 3696, 'train': 4556, 'with': 4911, 'training': 4558, 'team': 4378, 'for': 1784, 'two': 4620, 'weeks': 4839, 'immediately': 2242, 'upon': 4684, 'he': 2056, 'one': 3107, 'greatest': 1966, 'ever': 1538, 'lived': 2626, 'generally': 1881, 'everyone': 1542, 'general': 1880, 'soon': 4074, 'asked': 317, 'leave': 2555, 'most': 2909, 'show': 3953, 'struggle': 4234, 'how': 2181, 'got': 1944, 'back': 378, 'what': 4858, 'wanted': 4789, 'wrong': 4973, 'him': 2110, 'first': 1736, 'place': 3282, 'make': 2713, 'act': 97, 'like': 2599, 'such': 4268, 'ass': 323, 'any': 256, 'rate': 3526, 'confused': 941, 'put': 3480, 'together': 4511, 'since': 3990, 'shows': 3960, 'we': 4823, 'footage': 1782, 'pan': 3180, 'sleeping': 4025, 'even': 1533, 'smoking': 4040, 'didnt': 1242, 'legal': 2563, 'why': 4878, 'would': 4957, 'camera': 659, 'crew': 1053, 'follow': 1772, 'around': 297, 'film': 1716, 'do': 1302, 'they': 4442, 'hopes': 2159, 'will': 4886, 'turn': 4605, 'give': 1912, 'them': 4432, 'some': 4061, 'material': 2766, 'good': 1937, 'tv': 4610, 'because': 432, 'effects': 1431, 'various': 4715, 'total': 4531, 'control': 977, 'can': 665, 'take': 4349, 'over': 3148, 'peoples': 3222, 'lives': 2628, 'sometimes': 4067, 'hard': 2033, 'watch': 4811, 'really': 3556, 'badly': 383, 'families': 1644, 'friends': 1837, 'suffer': 4275, 'face': 1616, 'although': 201, 'admit': 122, 'end': 1468, 'all': 187, 'seems': 3864, 'little': 2624, 'too': 4522, 'clean': 838, 'cut': 1089, 'there': 4438, 'are': 285, 'times': 4497, 'during': 1387, 'episodes': 1508, 'when': 4862, 'terrible': 4407, 'things': 4451, 'happen': 2026, 'everything': 1544, 'lost': 2660, 'still': 4188, 'maybe': 2776, 'warn': 4797, 'spoilers': 4124, 'here': 2086, 'has': 2043, 'much': 2934, 'happily': 2030, 'feel': 1684, 'feeling': 1685, 'very': 4723, 'people': 3221, 'trying': 4601, 'help': 2079, 'other': 3135, 'complain': 919, 'something': 4066, 'writer': 4968, 'came': 656, 'up': 4683, 'pretty': 3384, 'decent': 1147, 'idea': 2213, 'many': 2732, 'flaws': 1752, 'execution': 1566, 'plot': 3309, 'took': 4523, 'so': 4046, 'away': 369, 'from': 1840, 'nearly': 2981, 'unwatchable': 4682, 'basic': 406, 'elements': 1443, 'character': 758, 'development': 1225, 'were': 4848, 'best': 469, 'also': 199, 'their': 4431, 'ugly': 4625, 'heads': 2059, 'massive': 2756, 'mansion': 2731, 'middle': 2833, 'rural': 3758, 'irish': 2353, 'countryside': 1015, 'characters': 760, 'showing': 3958, 'night': 3013, 'might': 2835, 'add': 115, 'wasnt': 4807, 'bad': 382, 'rated': 3527, 'based': 404, 'mostly': 2910, 'talent': 4354, 'borrowed': 545, 'library': 2589, 'delightful': 1168, 'am': 204, 'write': 4967, 'painful': 3171, 'her': 2085, 'she': 3923, 'girl': 1909, 'not': 3040, 'witness': 4914, 'awkward': 374, 'attempt': 340, 'almost': 193, 'major': 2711, 'ridiculous': 3693, 'dialog': 1232, 'pretentious': 3383, 'lack': 2502, 'humorous': 2193, 'fact': 1621, 'then': 4436, 'acceptable': 81, 'totally': 4532, 'failure': 1629, 'worst': 4952, 'reviews': 3679, 'given': 1913, 'ive': 2372, 'seen': 3865, 'top': 4525, 'acting': 99, 'direction': 1261, 'slasher': 4020, 'flick': 1754, 'im': 2232, 'out': 3141, 'silly': 3976, 'shame': 3918, 'martin': 2748, '17': 9, '2006': 36, 'live': 2625, 'kane': 2442, 'vs': 4767, 'match': 2762, 'fourth': 1813, 'wonder': 4926, 'card': 681, 'only': 3110, 'viewed': 4737, 'ending': 1471, 'parts': 3199, 'where': 4864, 'sets': 3899, 'fire': 1734, 'theyre': 4445, 'running': 3756, 'while': 4868, 'yelling': 4980, 'eventually': 1537, 'funny': 1852, 'visually': 4758, 'quite': 3495, 'entertaining': 1499, '10': 0, 'tag': 4348, 'championship': 745, 'originally': 3131, 'supposed': 4306, 'william': 4887, 'dave': 1123, 'taylor': 4372, 'brian': 576, 'paul': 3214, 'london': 2641, 'regular': 3592, 'however': 2183, 'long': 2644, 'comes': 891, 'ring': 3698, 'going': 1931, 'fatal': 1664, 'way': 4820, 'thrown': 4481, 'chaos': 755, 'word': 4937, 'describe': 1194, 'eye': 1611, 'wow': 4962, 'man': 2721, 'cant': 671, 'remember': 3616, 'sick': 3963, 'spots': 4132, 'words': 4938, 'justice': 2438, 'particularly': 3195, 'notable': 3041, 'spot': 4131, 'set': 3898, 'saw': 3798, 'position': 3345, 'jeff': 2390, 'jumped': 2430, 'off': 3084, 'matt': 2768, 'held': 2074, 'kill': 2468, 'blew': 505, 'apparently': 270, 'hell': 2077, 'had': 2003, 'taken': 4350, 'continued': 970, 'alone': 194, 'another': 250, 'high': 2100, 'flying': 1764, 'breathtaking': 574, 'finally': 1724, 'win': 4892, 'men': 2805, 'get': 1899, 'until': 4680, 'sit': 4003, 'mouth': 2920, 'usual': 4699, 'three': 4469, 'minute': 2858, 'united': 4664, 'states': 4163, 'chris': 806, 'faces': 1618, 'yet': 4984, 'typical': 4623, 'included': 2262, 'by': 642, 'chain': 741, 'german': 1896, 'nail': 2957, 'scares': 3806, 'takes': 4351, 'time': 4495, 'whether': 4866, 'or': 3124, 'allows': 192, 'roll': 3728, 'once': 3106, 'locked': 2637, 'game': 1864, 'nice': 3008, 'battle': 414, 'albeit': 173, 'slow': 4031, 'jimmy': 2403, 'fairly': 1631, 'paced': 3162, 'notably': 3042, 'moves': 2925, 'crowd': 1067, 'seem': 3861, 'into': 2332, 'needs': 2990, 'won': 4925, 'blowing': 515, '75': 57, 'mr': 2929, 'kennedy': 2454, 'last': 2521, 'ride': 3692, 'series': 3890, 'matches': 2764, 'between': 475, 'these': 4441, 'second': 3846, 'kind': 2476, 'winner': 4897, 'indeed': 2271, 'could': 1007, 'offer': 3087, 'deal': 1135, 'broke': 593, 'free': 1827, 'throw': 4479, '15': 7, 'feet': 1688, 'below': 462, 'thank': 4421, 'god': 1926, 'otherwise': 3137, 'wouldve': 4959, 'been': 438, 'brutal': 603, 'inside': 2297, 'liked': 2600, 'view': 4736, 'missed': 2867, 'steel': 4173, 'window': 4894, 'instead': 2307, 'later': 2525, 'open': 3112, 'chair': 742, 'followed': 1773, 'actually': 109, 'found': 1811, 'myself': 2953, 'interested': 2324, 'guys': 2001, 'shots': 3950, 'santa': 3783, 'kids': 2467, 'contest': 967, 'gets': 1900, 'my': 2951, 'ear': 1397, 'break': 569, 'john': 2409, 'king': 2479, 'talk': 4358, 'charisma': 762, 'main': 2707, 'event': 1535, 'suspense': 4330, 'strength': 4219, 'against': 147, 'mainly': 2708, 'succeed': 4262, 'except': 1556, 'point': 3316, 'throat': 4476, 'hits': 2125, 'bomb': 531, 'performed': 3230, 'did': 1241, 'probably': 3407, 'technical': 4381, 'superbly': 4297, 'without': 4913, 'being': 448, 'fan': 1648, 'agree': 155, 'numerous': 3062, 'throughout': 4478, 'ultimately': 4628, 'half': 2007, 'featured': 1679, 'well': 4843, 'category': 718, 'perhaps': 3235, 'useless': 4695, 'overall': 3150, 'highly': 2105, 'enjoyable': 1485, 'pay': 3216, 'per': 3223, 'despite': 1211, 'big': 478, 'earlier': 1399, 'wishes': 4906, 'years': 4979, 'rating': 3529, 'gary': 1873, 'fred': 1825, 'thinking': 4453, 'buddy': 609, 'cops': 993, 'opening': 3114, 'doesnt': 1309, 'again': 146, '40': 48, 'minutes': 2859, 'though': 4461, 'every': 1539, 'hes': 2093, 'awesome': 371, 'especially': 1520, 'himself': 2111, 'blind': 506, 'whats': 4860, 'incredible': 2269, 'find': 1726, 'killing': 2472, 'phone': 3255, 'sex': 3907, 'thats': 4425, 'turns': 4609, 'partly': 3197, 'killer': 2470, 'calling': 653, 'women': 4923, 'dont': 1324, 'connected': 945, 'does': 1308, 'kicks': 2463, 'guess': 1989, 'definitely': 1162, 'thumbs': 4485, 'me': 2778, 'witty': 4917, 'jokes': 2415, 'occasional': 3074, 'stereotypical': 4180, 'views': 4742, 'eastern': 1408, 'european': 1530, 'clever': 841, '100': 1, 'original': 3129, 'guessing': 1991, 'entire': 1502, 'person': 3238, 'impressed': 2251, 'plain': 3286, 'simple': 3983, 'faith': 1633, 'outside': 3146, 'chick': 786, 'genre': 1888, 'shes': 3930, 'used': 4693, 'accent': 78, 'excellent': 1555, 'performance': 3228, 'surprisingly': 4316, 'executed': 1565, 'films': 1721, 'described': 1195, 'europe': 1529, 'song': 4071, 'want': 4788, 'blow': 514, 'sorry': 4076, 'complex': 923, 'joan': 2404, 'cusack': 1088, 'laughing': 2533, 'whole': 4873, 'slapstick': 4019, 'humour': 2194, 'facial': 1619, 'expressions': 1603, 'dialogue': 1234, 'strongly': 4231, 'recommend': 3571, 'tender': 4401, 'beautifully': 429, 'crafted': 1029, 'production': 3419, 'deep': 1154, 'down': 1335, 'bitter': 491, 'sweet': 4336, 'bus': 631, 'driver': 1366, 'teachers': 4376, 'personalities': 3241, 'present': 3374, 'adult': 125, 'familiar': 1643, 'each': 1395, 'opinions': 3119, 'plausible': 3295, 'known': 2492, 'key': 2458, 'incident': 2260, 'happens': 2029, 'sent': 3880, 'teenage': 4389, 'energy': 1478, 'kept': 2456, 'under': 4639, 'trip': 4588, 'harvey': 2042, 'pain': 3170, 'reminds': 3620, 'war': 4792, 'understand': 4643, 'producers': 3416, 'deserve': 1199, 'british': 589, 'scenes': 3811, 'appropriate': 283, 'widely': 4881, 'available': 361, 'opportunity': 3121, 'oh': 3096, 'rubbish': 3748, 'less': 2575, 'star': 4150, 'mildly': 2840, 'amusing': 221, 'line': 2610, 'worry': 4950, 'happy': 2032, 'fell': 1690, 'toilet': 4512, 'legs': 2566, 'apart': 264, 'else': 1448, 'hit': 2122, 'nothing': 3047, 'least': 2554, 'anyway': 261, 'saying': 3800, 'fans': 1650, 'completely': 922, 'enjoy': 1484, 'wallace': 4782, 'loved': 2670, 'animation': 242, 'done': 1322, 'extremely': 1610, 'worth': 4953, 'watching': 4815, 'far': 1653, 'possibly': 3351, 'continuity': 972, 'mistakes': 2873, 'number': 3060, 'pointed': 3317, 'makers': 2715, 'site': 4005, 'others': 3136, 'wont': 4932, 'few': 1700, 'daughter': 1121, 'leaves': 2556, 'start': 4156, 'catch': 714, 'cage': 645, 'door': 1328, 'hook': 2152, 'part': 3193, 'clearly': 840, 'goes': 1930, 'behind': 447, 'round': 3742, 'thus': 4486, 'effectively': 1430, 'making': 2718, 'sure': 4308, 'able': 66, 'simply': 3986, 'kicking': 2462, 'ruby': 3749, 'falls': 1640, 'pushed': 3478, 'straight': 4210, 'air': 164, 'ship': 3934, 'moving': 2928, 'next': 3007, 'impossible': 2249, 'seeing': 3857, 'shirt': 3937, 'water': 4816, 'hand': 2015, 'third': 4455, 'now': 3054, 'forgotten': 1797, 'repeated': 3631, 'enough': 1491, 'sort': 4077, 'connection': 946, 'hollow': 2135, 'shallow': 3917, 'empty': 1465, 'anything': 260, 'paint': 3173, 'growing': 1983, 'superb': 4296, 'singers': 3994, 'underrated': 4642, 'musical': 2947, 'writes': 4970, 'music': 2946, 'lyrics': 2692, 'both': 547, 'work': 4940, 'either': 1438, 'wife': 4884, 'died': 1244, 'fat': 1663, 'shop': 3945, 'sings': 3997, 'band': 391, 'wonderful': 4928, 'rare': 3523, 'starring': 4154, 'role': 3726, 'broadway': 592, 'legend': 2564, 'mary': 2751, 'scott': 3824, 'oscar': 3133, 'charles': 764, 'lane': 2515, 'helen': 2075, 'co': 867, 'knew': 2486, 'name': 2960, 'julia': 2427, 'noir': 3023, 'may': 2775, 'george': 1893, 'short': 3946, 'suffers': 4278, 'stood': 4199, 'fifteen': 1706, 'hour': 2176, 'longer': 2645, 'television': 4394, 'playing': 3300, 'woman': 4921, 'cheating': 776, 'husband': 2204, 'nervous': 2999, 'wreck': 4965, 'became': 431, 'los': 2653, 'angeles': 233, 'title': 4504, 'answers': 252, 'ad': 110, 'secretary': 3850, 'hired': 2117, 'mrs': 2930, 'son': 4070, 'ralph': 3510, 'learn': 2550, 'agent': 150, 'front': 1841, 'family': 1645, 'boyfriend': 558, 'situation': 4008, 'house': 2178, 'told': 4513, 'allowed': 190, 'low': 2676, 'budget': 610, 'quickly': 3491, 'which': 4867, 'said': 3774, 'nevertheless': 3002, 'enjoyed': 1486, 'sisters': 4002, 'opened': 3113, 'eyes': 1613, 'courage': 1018, 'pair': 3176, 'made': 2697, 'own': 3158, 'terms': 4406, 'african': 142, 'americans': 214, 'history': 2121, 'lesson': 2577, 'documentary': 1307, 'rolled': 3729, 'combined': 885, 'superior': 4300, 'glimpse': 1919, 'through': 4477, 'different': 1248, 'loving': 2675, 'standards': 4145, 'perfection': 3225, 'sad': 3767, 'father': 1666, 'allow': 189, 'continue': 969, 'due': 1382, 'possible': 3350, 'thoroughly': 4459, 'glad': 1916, 'day': 1129, 'van': 4713, 'accidentally': 85, 'ancient': 225, 'foot': 1781, 'mummy': 2937, 'underground': 4640, 'desert': 1198, 'determined': 1221, 'keep': 2449, 'secret': 3849, 'call': 651, 'jewish': 2401, 'explained': 1587, 'beginning': 443, 'fallen': 1638, 'angel': 231, 'several': 3905, 'existed': 1570, 'those': 4460, 'days': 1130, 'order': 3126, 'save': 3794, 'planning': 3291, 'our': 3139, 'angels': 234, 'walk': 4775, 'earth': 1403, 'expected': 1577, 'having': 2054, 'lot': 2661, 'crap': 1031, 'couple': 1016, 'lousy': 2667, 'fights': 1710, 'looking': 2648, 'isnt': 2362, 'shown': 3959, 'dragged': 1343, 'bother': 548, 'serial': 3889, 'batman': 413, 'robin': 3715, 'nonetheless': 3029, 'near': 2979, 'bottom': 551, 'list': 2617, 'utterly': 4702, 'lacking': 2504, 'style': 4249, 'imagination': 2236, 'atmosphere': 333, 'producer': 3415, 'sam': 3777, 'director': 1264, 'seemed': 3862, 'concerned': 932, 'speed': 4103, 'excitement': 1562, 'unfortunately': 4654, 'produced': 3414, 'superman': 4301, 'kirk': 2482, 'dull': 1384, 'supporting': 4304, 'players': 3299, 'chapter': 757, 'offers': 3090, 'taste': 4369, 'come': 886, 'inane': 2258, 'titles': 4506, 'wizard': 4919, 'mechanical': 2788, 'heroes': 2089, 'toward': 4539, 'trouble': 4592, 'cheap': 774, 'halloween': 2010, 'devils': 1229, 'fits': 1741, 'poorly': 3329, 'fight': 1707, 'strip': 4228, 'manages': 2725, 'pull': 3461, 'critical': 1062, 'moments': 2887, 'case': 707, 'lead': 2545, 'miscast': 2862, 'robert': 3713, 'displays': 1293, 'charm': 767, 'individual': 2277, 'bruce': 602, 'wayne': 4821, 'dynamic': 1394, 'figure': 1711, 'creates': 1038, 'impression': 2252, 'hed': 2072, 'rather': 3528, 'somewhere': 4069, 'anywhere': 263, 'considerable': 950, 'limited': 2606, 'old': 3100, 'older': 3101, 'costume': 1005, 'exciting': 1563, 'tired': 4501, 'drink': 1361, 'chemistry': 782, 'evident': 1547, 'lewis': 2586, 'wilson': 4891, 'douglas': 1334, 'managed': 2723, 'cast': 710, 'group': 1980, 'filmmakers': 1720, 'provide': 3448, 'support': 4303, 'stands': 4147, 'led': 2558, 'boring': 543, 'villains': 4745, 'someone': 4064, 'head': 2057, 'dubbed': 1379, 'voice': 4761, 'desperately': 1209, 'tries': 4585, 'sound': 4081, 'menacing': 2807, 'prime': 3395, 'suspects': 4328, 'eccentric': 1414, 'professor': 3422, 'radio': 3504, 'annoying': 249, 'established': 1524, 'comic': 893, 'book': 535, 'romance': 3732, 'virtually': 4751, 'emotion': 1458, 'gordon': 1940, 'none': 3028, 'bright': 581, 'unlike': 4670, 'previous': 3387, 'alfred': 181, 'butler': 637, 'mere': 2814, 'whose': 4877, 'important': 2247, 'props': 3439, 'drawn': 1351, 'incoherent': 2265, 'further': 1853, 'uninspired': 4657, 'repetitive': 3633, 'amateurish': 207, 'design': 1202, 'resembles': 3646, 'class': 833, 'home': 2142, 'sitcom': 4004, 'office': 3091, 'need': 2987, 'costumes': 1006, 'pity': 3281, 'couldnt': 1008, 'effort': 1432, 'creating': 1039, 'thrilling': 4474, 'adventure': 130, 'dvd': 1391, 'plus': 3311, 'serious': 3891, 'fooled': 1780, 'box': 555, 'capture': 676, 'authentic': 358, 'mood': 2898, 'news': 3005, 'version': 4720, 'michael': 2829, 'myers': 2952, 'sister': 4001, 'death': 1141, 'age': 148, 'six': 4010, '30': 42, 'escapes': 1519, 'mental': 2808, 'new': 3003, 'terror': 4412, 'psychiatrist': 3455, 'donald': 1321, 'knows': 2493, 'evil': 1548, 'opens': 3115, 'bang': 393, 'genuinely': 1892, 'suspenseful': 4331, 'atmospheric': 334, 'pictures': 3270, 'helped': 2080, 'subtle': 4260, 'compared': 912, 'nasty': 2968, 'subsequent': 4257, 'movies': 2927, 'scary': 3807, 'ability': 65, 'jump': 2429, 'viewings': 4741, 'frightening': 1839, 'before': 440, 'jamie': 2379, 'lee': 2559, 'curtis': 1087, 'motion': 2913, 'picture': 3269, 'debut': 1143, 'scream': 3826, 'queen': 3485, 'intended': 2315, 'victim': 4729, 'carpenter': 694, 'works': 4945, 'use': 4692, 'shadows': 3913, 'dark': 1115, 'notice': 3048, 'former': 1800, 'hill': 2108, 'created': 1037, 'franchise': 1817, 'seven': 3903, 'sequels': 3886, 're': 3535, 'forget': 1793, 'dr': 1340, 'speech': 4102, 'describes': 1196, 'sheriff': 3929, 'player': 3298, 'fantastic': 1651, 'seeking': 3859, 'favorite': 1671, 'script': 3834, 'holes': 2133, 'makes': 2716, 'solid': 4057, 'impact': 2244, 'animated': 241, 'inspector': 2299, 'gadget': 1860, 'watchable': 4812, 'nowhere': 3056, 'bears': 421, 'repeat': 3630, 'including': 2264, 'disappointing': 1274, 'felt': 1692, 'let': 2579, 'count': 1010, 'forward': 1808, 'poor': 3328, 'trust': 4598, 'press': 3379, 'internet': 2327, 'bit': 488, 'stinker': 4191, 'handed': 2016, 'yesterday': 4983, 'afternoon': 144, 'try': 4600, 'explain': 1586, 'havent': 2053, 'clue': 864, 'honestly': 2147, 'close': 853, 'standing': 4146, 'asking': 318, 'trap': 4563, 'taking': 4352, 'plots': 3310, 'laughs': 2534, 'rip': 3700, 'ones': 3108, 'noticed': 3049, 'matrix': 2767, 'club': 863, 'bill': 481, 'sky': 4017, 'thing': 4450, 'performances': 3229, 'actors': 104, 'jason': 2383, 'ray': 3533, 'self': 3869, 'editing': 1421, 'storm': 4206, 'country': 1014, 'vehicle': 4718, 'vhs': 4725, 'copy': 994, 'reasonable': 3558, 'price': 3389, 'gives': 1914, 'sexy': 3911, 'portrayal': 3341, 'side': 3965, 'tracks': 4545, 'wins': 4899, 'rich': 3685, 'higher': 2101, 'false': 1641, 'murder': 2939, 'charge': 761, 'child': 789, 'mistaken': 2872, 'suicide': 4283, 'morality': 2903, 'tale': 4353, 'controversial': 978, 'arent': 288, 'always': 203, 'viewer': 4738, 'attention': 345, 'pick': 3265, 'hints': 2113, 'viewing': 4740, 'negative': 2991, 'concerning': 933, 'jean': 2389, 'dog': 1310, 'ben': 463, 'looks': 2649, 'bigger': 479, 'course': 1019, 'panic': 3181, '60': 53, 'lab': 2501, 'justify': 2439, 'fear': 1676, 'ground': 1979, 'somehow': 4063, 'struggling': 4236, 'same': 3778, 'lovable': 2668, 'lloyd': 2630, 'throws': 4482, 'barely': 399, 'ok': 3098, 'touching': 4536, 'certainly': 738, 'strong': 4229, 'believable': 453, 'among': 217, 'stooges': 4200, 'shorts': 3948, 'larry': 2520, 'joe': 2407, 'hilarious': 2106, 'actresses': 106, 'opinion': 3118, 'funniest': 1851, 'comedy': 890, 'husbands': 2205, 'appearing': 277, 'beautiful': 428, 'green': 1971, 'johnny': 2410, 'nancy': 2964, 'leonard': 2572, 'similar': 3978, 'called': 652, 'abc': 63, 'bring': 585, 'fabulous': 1615, 'onto': 3111, 'official': 3094, 'rest': 3657, 'concept': 930, 'gripping': 1976, 'favourite': 1673, 'heard': 2062, 'friend': 1835, 'hadnt': 2004, 'occurred': 3077, 'watches': 4814, 'silence': 3974, 'continues': 971, 'your': 4991, 'mind': 2849, 'thoughts': 4464, 'garbage': 1870, 'user': 4696, 'comments': 901, 'introduce': 2336, 'children': 792, 'laurel': 2537, 'hardy': 2037, 'insult': 2309, 'everywhere': 1545, 'plan': 3287, 'profound': 3423, 'nature': 2975, 'world': 4946, 'commented': 900, 'stars': 4155, 'beloved': 461, 'rocky': 3723, 'taught': 4370, 'hollywood': 2137, 'video': 4733, 'abraham': 69, 'fine': 1729, 'actor': 103, 'stage': 4139, 'screen': 3829, 'must': 2950, 'run': 3755, 'trash': 4565, 'remarks': 3615, 'mst3k': 2932, 'fair': 1630, 'exposure': 1599, 'final': 1722, 'form': 1798, 'id': 2212, 'share': 3920, 'slightly': 4029, 'coherent': 871, 'broadcast': 591, 'primarily': 3393, 'names': 2963, 'explaining': 1588, 'convincing': 985, 'tried': 4584, 'cover': 1022, 'missing': 2869, 'don': 1320, 'baker': 385, 'seemingly': 3863, 'unpleasant': 4674, 'shower': 3957, 'turning': 4608, 'scenario': 3808, 'worthy': 4956, 'shooting': 3943, 'purely': 3472, 'result': 3660, 'edited': 1420, 'print': 3399, 'worked': 4941, 'wish': 4904, 'bar': 396, 'question': 3487, 'asks': 319, 'stay': 4166, 'wearing': 4831, 'cowboy': 1025, 'outfit': 3144, 'complete': 921, 'imagine': 2238, 'passed': 3202, 'fun': 1848, 'naked': 2959, 'butt': 638, 'fond': 1776, 'cube': 1076, 'liking': 2604, 'sequel': 3885, 'prequel': 3372, 'intrigued': 2334, 'fix': 1744, 'problems': 3409, 'us': 4690, 'memorable': 2802, 'thought': 4462, 'zero': 4996, 'starts': 4159, 'providing': 3451, 'sense': 3877, 'mystery': 2956, 'daily': 1097, 'routine': 3743, 'questions': 3489, 'reason': 3557, 'send': 3875, 'true': 4596, 'operation': 3117, 'entirely': 1503, 'weak': 4824, 'moved': 2922, 'relatively': 3600, 'begins': 444, 'develop': 1222, 'doubts': 1333, 'doing': 1312, 'decides': 1150, 'trapped': 4564, 'cheese': 780, 'program': 3424, 'introduced': 2337, 'along': 195, 'play': 3296, 'talks': 4361, 'villain': 4744, 'directly': 1263, 'james': 2378, 'bond': 532, 'popular': 3333, 'glass': 1917, 'ruins': 3752, 'pace': 3161, 'incredibly': 2270, 'corny': 997, 'lines': 2612, 'screenwriter': 3833, 'bored': 541, 'care': 684, 'itself': 2371, 'meets': 2795, 'interaction': 2322, 'following': 1774, 'failing': 1627, 'impress': 2250, 'waste': 4808, 'searching': 3842, 'horror': 2168, 'ago': 154, 'anyone': 259, 'powerful': 3360, 'particular': 3194, 'horses': 2171, 'gas': 1874, 'recall': 3562, 'web': 4833, 'unable': 4631, 'unusual': 4681, 'experience': 1580, 'market': 2740, 'appreciate': 279, 'thanks': 4423, 'advance': 127, 'detail': 1217, 'wasting': 4810, 'alternate': 200, 'hopefully': 2157, 'avoid': 363, 'pointless': 3318, 'irritating': 2359, 'humor': 2192, 'audience': 352, 'yes': 4982, 'ghost': 1902, 'shell': 3927, 'sci': 3815, 'fi': 1701, 'horrible': 2163, 'kick': 2460, 'fest': 1696, 'considering': 952, 'excited': 1561, 'expecting': 1578, 'achieve': 92, 'rent': 3626, 'journey': 2421, 'surprised': 4313, 'thriller': 4472, 'somewhat': 4068, 'liners': 2611, 'situations': 4009, 'born': 544, 'job': 2405, 'aint': 163, 'timothy': 4499, 'dalton': 1098, 'treat': 4572, 'confusing': 942, 'complicated': 925, 'nobody': 3022, 'tells': 4397, 'truth': 4599, 'louis': 2665, 'perfectly': 3226, 'grew': 1972, 'checking': 778, 'whenever': 4863, 'hear': 2061, 'violence': 4747, 'language': 2516, 'special': 4097, 'usually': 4700, 'sentimental': 3882, 'surprise': 4312, 'craven': 1034, 'folk': 1770, 'david': 1124, 'began': 441, 'getting': 1901, 'kinds': 2478, 'elephant': 1444, 'stunning': 4244, 'images': 2235, 'inspiring': 2302, 'worried': 4949, 'honest': 2146, 'lynch': 2691, 'writers': 4969, 'tell': 4395, 'heavy': 2070, 'message': 2819, 'jerk': 2395, 'emotions': 1461, 'towards': 4540, 'build': 614, 'power': 3359, 'casting': 711, 'richard': 3686, 'adds': 119, 'realism': 3549, 'desire': 1205, 'brother': 598, 'overly': 3155, 'whos': 4876, 'driven': 1365, 'anger': 235, 'wants': 4791, 'peace': 3219, 'city': 825, 'boy': 557, 'landscape': 2513, 'shot': 3949, 'visit': 4755, 'presumably': 3380, 'britain': 588, 'banned': 395, 'whatever': 4859, 'initially': 2291, 'kelly': 2452, 'psychic': 3456, 'note': 3044, 'bathroom': 412, 'student': 4238, 'greatly': 1967, 'novels': 3053, 'commercials': 903, '24': 39, 'hours': 2177, 'murdered': 2940, 'extra': 1606, 'sadly': 3769, '90': 60, 'purpose': 3474, 'telling': 4396, 'die': 1243, 'australian': 357, 'surprising': 4315, 'quality': 3484, 'drama': 1346, 'dare': 1113, 'compare': 911, 'brilliance': 582, 'reminiscent': 3621, 'early': 1400, 'magic': 2703, 'saving': 3797, 'light': 2595, 'season': 3843, 'mini': 2854, 'hal': 2006, 'lets': 2580, 'hope': 2155, 'keeps': 2451, 'corner': 996, 'addition': 118, 'talents': 4356, 'stewart': 4184, 'margaret': 2735, 'filled': 1715, 'terrific': 4409, 'frank': 1821, 'morgan': 2905, 'felix': 1689, 'type': 4621, 'anymore': 258, 'youve': 4995, 'mail': 2706, 'claim': 828, 'remake': 3612, 'praise': 3364, 'romantic': 3733, 'comedies': 889, '1940s': 13, 'fellow': 1691, 'table': 4346, 'dear': 1140, 'realizing': 3555, 'crude': 1069, 'exploitation': 1592, 'mainstream': 2709, 'mistake': 2871, 'red': 3576, 'zone': 4999, 'cuba': 1075, 'ask': 316, 'gore': 1941, 'shouldnt': 3952, 'hire': 2116, 'equipment': 1511, 'doll': 1313, 'difficult': 1249, 'talented': 4355, 'rochester': 3719, 'area': 286, 'frame': 1815, 'cool': 989, 'mean': 2779, 'seconds': 3848, 'kudos': 2497, 'girls': 1911, 'sell': 3871, 'gags': 1862, 'suddenly': 4273, 'stomach': 4196, 'sloppy': 4030, 'jack': 2373, 'acid': 95, 'fighting': 1709, 'neat': 2982, 'imagery': 2234, 'deserves': 1201, 'sorts': 4078, 'involve': 2345, 'francis': 1818, 'ed': 1415, 'wood': 4933, 'likes': 2602, 'awful': 372, 'liberal': 2588, 'matter': 2769, 'predictable': 3367, 'written': 4972, 'stale': 4141, 'look': 2646, 'writing': 4971, 'curious': 1083, 'hip': 2114, 'bet': 470, 'white': 4870, '1960s': 15, 'farce': 1654, 'goodness': 1938, 'lame': 2510, 'rick': 3689, 'paying': 3217, 'mention': 2810, 'excuse': 1564, 'dollars': 1315, 'mine': 2853, 'review': 3676, 'whereas': 4865, 'lust': 2689, 'glory': 1922, 'american': 213, 'date': 1118, 'attracted': 349, 'hundred': 2195, 'reviewer': 3677, 'received': 3564, 'difference': 1246, 'focused': 1767, 'period': 3236, 'covers': 1024, 'subjects': 4254, 'korean': 2495, 'japan': 2381, 'lies': 2591, 'played': 3297, 'opposite': 3123, 'household': 2179, 'portrayed': 3342, 'human': 2188, 'race': 3499, 'enemy': 1477, 'suspect': 4327, 'appears': 278, 'thoughtful': 4463, 'political': 3324, 'occasion': 3073, 'japanese': 2382, 'paid': 3169, 'member': 2800, 'society': 4050, 'semi': 3874, 'gift': 1906, 'tricks': 4583, 'attempted': 341, 'portrait': 3339, 'criticism': 1063, 'attempts': 343, 'attractive': 351, 'qualities': 3483, 'brilliant': 583, 'stand': 4143, 'ignorant': 2223, 'within': 4912, 'grasp': 1960, 'forced': 1787, 'becoming': 435, 'risk': 3704, 'choice': 797, 'accept': 80, 'chinese': 796, 'across': 96, 'matters': 2770, 'politics': 3326, 'pig': 3274, 'sunday': 4293, 'equally': 1510, 'approach': 282, 'international': 2326, 'late': 2523, 'seventies': 3904, 'twin': 4615, 'vietnam': 4735, 'america': 212, 'public': 3460, 'heroic': 2090, 'depiction': 1185, 'military': 2844, 'generation': 1883, 'full': 1846, 'covered': 1023, 'leading': 2547, 'invasion': 2340, 'theme': 4433, 'runs': 3757, 'influence': 2286, 'hero': 2088, 'arthur': 305, 'considered': 951, 'model': 2880, 'interesting': 2325, 'equal': 1509, 'altogether': 202, 'agreed': 156, 'interpretation': 2328, 'normal': 3033, 'example': 1553, 'map': 2733, 'using': 4698, 'existence': 1571, 'pre': 3365, 'parallel': 3185, 'listen': 2619, 'reading': 3544, '20': 29, 'carradine': 695, 'twice': 4613, 'walking': 4779, 'grave': 1962, 'pulling': 3463, 'shut': 3961, 'explanation': 1590, 'odd': 3080, 'assumed': 329, 'killed': 2469, 'rising': 3703, 'corpse': 999, 'zombie': 4997, 'absolutely': 72, 'please': 3304, 'ill': 2228, 'synopsis': 4344, 'investigate': 2342, 'ireland': 2352, 'jerry': 2396, 'filming': 1718, 'discover': 1279, 'dead': 1132, 'body': 527, 'repeatedly': 3632, 'push': 3477, 'succeeds': 4264, 'yeah': 4977, 'witch': 4909, 'changed': 750, 'appearance': 274, 'flesh': 1753, 'zombies': 4998, 'business': 633, 'brings': 587, 'heck': 2071, 'assume': 328, 'victims': 4730, 'credits': 1050, 'nor': 3032, 'sees': 3866, 'transformation': 4560, 'exact': 1550, 'trees': 4577, 'leads': 2548, 'confusion': 943, '1950s': 14, 'fashion': 1659, 'small': 4033, 'cat': 713, 'meanwhile': 2785, 'easily': 1406, 'members': 2801, 'lover': 2672, 'shoot': 3942, 'bedroom': 437, 'wells': 4845, 'mirror': 2861, 'strikes': 4225, 'react': 3540, 'screams': 3828, 'armed': 293, 'ready': 3546, 'shoots': 3944, 'waiting': 4772, 'arms': 294, 'feels': 1687, 'string': 4227, 'neck': 2985, 'hanging': 2023, 'discovers': 1281, 'bloody': 513, 'exposed': 1598, 'ruined': 3751, '2nd': 41, 'floor': 1759, 'treated': 4573, 'montage': 2894, 'deaths': 1142, 'gotten': 1947, 'move': 2921, 'floating': 1758, 'carry': 700, 'crush': 1072, 'everyones': 1543, 'anyways': 262, 'carries': 699, 'carol': 693, 'flash': 1745, 'wondering': 4930, 'gonna': 1936, 'newly': 3004, 'deceased': 1146, 'finale': 1723, 'cause': 723, 'youre': 4992, 'huge': 2185, 'black': 493, 'correct': 1000, 'color': 877, 'returns': 3668, 'blacks': 494, 'mother': 2911, 'gray': 1963, 'jenny': 2393, 'africa': 141, 'appear': 273, 'related': 3594, 'cute': 1090, 'biggest': 480, 'disappointment': 1275, 'year': 4978, 'filmed': 1717, 'convincingly': 986, 'remind': 3618, 'above': 68, 'french': 1830, 'arguably': 289, 'english': 1483, 'splendid': 4119, 'catherine': 719, 'charming': 768, 'weird': 4841, 'perfect': 3224, 'finding': 1727, 'comment': 898, 'chance': 747, 'pop': 3330, 'culture': 1079, 'photography': 3260, 'vivid': 4760, 'colors': 879, 'spin': 4112, 'settings': 3901, 'large': 2517, 'scale': 3802, 'warning': 4800, 'seriously': 3892, 'mass': 2753, 'post': 3352, 'college': 875, 'editor': 1423, '90s': 61, 'prison': 3401, 'often': 3095, 'brought': 600, 'conversations': 981, 'eighties': 1437, 'past': 3207, 'decade': 1144, 'lesser': 2576, 'smaller': 4034, 'directorial': 1265, 'capable': 672, 'blue': 518, 'sea': 3838, 'secondly': 3847, 'lord': 2652, 'rings': 3699, 'exactly': 1551, 'focus': 1766, 'named': 2961, 'naturally': 2974, 'spirit': 4113, 'room': 3735, 'vengeance': 4719, 'redemption': 3578, 'base': 402, 'premise': 3370, 'solely': 4056, 'remembered': 3617, 'released': 3603, 'murders': 2943, 'themselves': 4435, 'imaginative': 2237, 'highlights': 2104, 'drags': 1345, 'climax': 849, '1984': 23, 'prince': 3396, 'acts': 107, 'extended': 1604, 'expect': 1575, 'morris': 2908, 'rendition': 3625, 'baseball': 403, 'single': 3996, 'provided': 3449, 'breasts': 572, 'brief': 579, 'nudity': 3059, 'soundtrack': 4085, 'album': 175, 'recorded': 3574, 'warner': 4799, 'rank': 3518, 'von': 4765, 'piece': 3272, 'cinema': 816, 'gothic': 1945, 'jeremy': 2394, 'holmes': 2139, 'display': 1291, 'literature': 2623, 'argument': 291, 'inferior': 2285, 'notch': 3043, 'productions': 3420, 'forever': 1792, 'truly': 4597, 'become': 433, 'closed': 854, 'subject': 4253, 'unique': 4662, 'rogers': 3725, 'heston': 2094, 'force': 1786, 'promised': 3431, 'christmas': 810, 'sir': 4000, 'edward': 1426, 'duke': 1383, 'law': 2538, 'bore': 540, 'andy': 230, 'jackson': 2375, 'draw': 1349, 'defend': 1158, 'projects': 3428, 'terrifying': 4410, 'presence': 3373, 'awe': 370, 'command': 897, 'colorful': 878, 'relief': 3605, 'blond': 510, 'rage': 3505, 'north': 3036, 'actual': 108, 'stories': 4205, 'dance': 1103, 'begin': 442, 'complaint': 920, 'regarding': 3589, 'knowing': 2490, 'decide': 1148, 'living': 2629, 'rock': 3720, 'blame': 499, 'picking': 3267, 'description': 1197, 'companion': 909, 'stupid': 4247, 'sat': 3786, 'serving': 3897, 'modern': 2882, 'cannibal': 669, 'fool': 1779, 'behavior': 446, 'jungle': 2434, 'forty': 1807, 'five': 1743, 'kissing': 2484, 'worn': 4948, 'directing': 1260, 'putting': 3482, 'personal': 3240, 'fill': 1714, 'dirty': 1268, 'breaks': 571, 'silent': 3975, 'treatment': 4574, 'happened': 2027, 'folks': 1771, 'bull': 619, 'protagonist': 3441, 'sexual': 3908, 'unbelievable': 4634, 'flow': 1762, 'alright': 198, 'read': 3543, 'celluloid': 731, 'recognize': 3569, 'pacing': 3163, 'worse': 4951, 'talking': 4360, 'cruise': 1071, 'ships': 3935, 'drive': 1363, 'jumps': 2432, 'relative': 3599, 'failed': 1626, 'miserable': 2863, 'saga': 3773, 'jesus': 2399, 'stuff': 4243, 'consistent': 953, 'wanting': 4790, 'twenty': 4612, 'absurd': 73, 'random': 3514, 'clips': 852, 'appearances': 275, 'appeared': 276, 'fancy': 1649, 'broken': 594, 'pieces': 3273, 'attempting': 342, 'efforts': 1433, 'pure': 3471, 'holding': 2130, 'relies': 3606, 'already': 197, 'arrogant': 303, 'striking': 4226, 'combination': 883, 'mixed': 2877, 'remarkably': 3614, 'un': 4630, 'riveting': 3708, 'humans': 2190, 'river': 3707, 'gag': 1861, 'seeks': 3860, 'stone': 4197, 'gold': 1932, 'blood': 512, 'plays': 3301, 'de': 1131, 'issue': 2364, 'thinks': 4454, 'basically': 407, 'lady': 2507, 'greed': 1968, 'problem': 3408, 'grown': 1984, 'knock': 2488, 'sticks': 4186, 'afraid': 140, 'unintentional': 4658, 'therefore': 4439, 'release': 3602, 'creatures': 1046, 'social': 4049, 'aside': 315, 'thrills': 4475, 'judging': 2425, 'whatsoever': 4861, 'destroy': 1213, 'party': 3200, 'secrets': 3852, 'building': 615, 'army': 295, '30s': 44, 'eating': 1413, 'variety': 4714, 'today': 4508, 'frankly': 1823, 'melodramatic': 2798, 'entertained': 1498, 'unlikely': 4671, 'couldve': 1009, 'entertainment': 1500, '70': 55, 'advise': 134, 'recently': 3567, 'dream': 1354, 'represent': 3637, 'working': 4944, 'southern': 4088, 'helping': 2081, 'beat': 423, 'st': 4137, 'countries': 1013, 'cook': 988, 'food': 1778, 'anime': 243, 'detective': 1220, 'famous': 1647, 'ages': 152, 'needless': 2989, 'bought': 552, 'renting': 3629, 'store': 4204, 'wouldnt': 4958, 'threw': 4470, 'money': 2888, 'alcoholic': 177, 'bunch': 623, 'junk': 2436, 'horse': 2170, 'device': 1227, 'childhood': 790, 'innocence': 2293, 'hate': 2046, 'religion': 3607, 'doubt': 1332, 'christians': 809, 'pass': 3201, 'buy': 640, 'coffee': 870, 'morning': 2906, 'drew': 1360, 'holly': 2136, 'patrick': 3213, 'dumb': 1385, 'viewers': 4739, 'author': 359, 'believe': 454, 'suppose': 4305, 'credit': 1049, 'standard': 4144, 'fare': 1655, 'explains': 1589, 'hideous': 2098, 'believed': 455, 'hey': 2095, 'kills': 2474, 'likable': 2598, 'sally': 3776, 'veteran': 4724, 'professional': 3421, 'sleazy': 4023, 'level': 2584, 'parody': 3192, 'crime': 1055, 'represents': 3639, 'chicago': 785, 'regret': 3591, 'fully': 1847, 'heaven': 2068, 'kay': 2447, 'wanna': 4786, 'host': 2173, 'hatred': 2049, 'beliefs': 452, 'unfortunate': 4653, 'soul': 4079, 'channel': 753, 'crazy': 1035, 'idiotic': 2219, 'bible': 477, 'pat': 3208, 'says': 3801, 'ideal': 2214, 'teacher': 4375, 'decided': 1149, 'teach': 4374, 'watched': 4813, 'simon': 3982, 'sin': 3988, 'kid': 2464, 'tape': 4365, 'capital': 673, 'depicts': 1186, 'relationship': 3597, 'drugs': 1374, 'hippie': 2115, 'movement': 2923, 'involved': 2346, 'dancing': 1107, 'parents': 3188, 'split': 4120, 'search': 3841, 'finds': 1728, 'company': 910, 'block': 508, 'memory': 2804, 'overcome': 3151, 'levels': 2585, 'stop': 4201, 'multi': 2935, 'score': 3822, 'instant': 2305, 'includes': 2263, 'christopher': 811, 'walken': 4777, 'soldiers': 4054, 'mad': 2696, 'max': 2774, 'massacre': 2754, 'dollar': 1314, 'promising': 3433, 'revolution': 3680, 'successful': 4266, 'gory': 1943, 'gun': 1996, 'thousands': 4466, 'laugh': 2529, 'packed': 3166, 'logic': 2638, 'wide': 4880, 'fighter': 1708, 'pilot': 3276, 'plane': 3288, 'suffering': 4277, 'scores': 3823, 'york': 4985, 'police': 3322, 'plenty': 3307, 'madness': 2698, 'sequence': 3887, 'rebel': 3561, 'leader': 2546, 'brown': 601, 'tear': 4379, 'mysteries': 2954, 'busy': 635, 'suspicious': 4332, 'wealthy': 4827, 'island': 2361, 'types': 4622, 'powell': 3358, 'inspired': 2301, 'suit': 4284, 'lovely': 2671, 'studios': 4241, 'developed': 1223, 'gangster': 1868, 'roles': 3727, 'aged': 149, 'stuck': 4237, 'gone': 1935, 'depression': 1189, 'era': 1513, 'changing': 752, 'mature': 2773, 'endure': 1475, 'directed': 1259, 'thin': 4449, 'success': 4265, 'stiff': 4187, 'presentation': 3375, 'theatrical': 4430, 'tim': 4494, 'burton': 630, 'planet': 3289, 'apes': 267, '1968': 16, 'cry': 1073, 'improved': 2255, 'thankfully': 4422, 'rented': 3628, 'understood': 4647, 'toys': 4543, 'target': 4366, 'bin': 483, 'advice': 133, 'spoiler': 4123, 'feed': 1683, 'responsibility': 3655, 'actions': 101, 'adequate': 120, 'animals': 240, 'letting': 2583, 'pot': 3354, 'heat': 2067, 'la': 2500, 'strangers': 4214, 'fails': 1628, 'degree': 1164, 'succeeded': 4263, 'namely': 2962, 'delivering': 1171, 'obvious': 3071, 'lacks': 2505, 'twist': 4617, 'delivered': 1170, 'besides': 468, 'younger': 4990, 'flashbacks': 1747, 'lie': 2590, 'merely': 2815, 'average': 362, 'leaving': 2557, 'edge': 1418, 'seat': 3845, 'mediocre': 2791, 'lisa': 2616, 'hotel': 2175, 'manager': 2724, 'owner': 3159, 'flight': 1757, 'ends': 1474, 'sitting': 4007, 'switch': 4339, 'dies': 1245, 'ways': 4822, 'escape': 1517, 'storyline': 4208, 'spent': 4108, 'woody': 4936, 'allen': 188, 'hugh': 2186, 'ian': 2209, 'return': 3665, 'reporter': 3636, 'enters': 1496, 'peter': 3247, 'sid': 3964, 'handsome': 2021, 'mark': 2739, 'laughed': 2532, 'italy': 2368, 'davis': 1126, 'campbell': 663, 'jay': 2386, 'recent': 3566, 'intelligent': 2314, 'individuals': 2278, 'mindless': 2851, 'decision': 1151, 'station': 4164, 'sign': 3970, 'online': 3109, 'christian': 808, 'believing': 457, 'wing': 4896, 'dropped': 1370, 'government': 1948, 'kingdom': 2480, 'showed': 3956, 'pleasure': 3306, 'games': 1865, 'gorgeous': 1942, 'satisfying': 3791, 'gradually': 1952, 'prisoners': 3403, 'freedom': 1828, 'ultimate': 4627, 'prize': 3405, 'basis': 408, 'underlying': 4641, 'button': 639, 'sheer': 3925, 'originality': 3130, 'caring': 691, 'horrendous': 2162, 'answer': 251, 'hitchcock': 2123, 'angles': 237, 'caine': 647, 'provoking': 3452, 'starred': 4153, 'whom': 4875, 'dennis': 1179, 'laughably': 2531, 'horrific': 2166, 'spend': 4105, 'youd': 4987, 'turkey': 4604, 'value': 4709, 'redeeming': 3577, 'louise': 2666, 'produce': 3413, 'blend': 504, 'genres': 1889, 'hung': 2197, 'picked': 3266, 'happening': 2028, 'everyday': 1541, 'unconvincing': 4638, 'meant': 2784, 'moral': 2902, 'convey': 982, 'willing': 4889, 'audiences': 353, 'scripts': 3836, 'albert': 174, 'england': 1482, '80': 58, 'scientific': 3817, '20th': 38, 'century': 736, 'wondered': 4927, 'creators': 1044, 'aired': 165, 'revenge': 3675, 'seek': 3858, 'conventional': 979, 'means': 2783, 'plans': 3292, 'weapon': 4828, 'ex': 1549, 'stick': 4185, 'ruin': 3750, 'anthony': 253, 'vulnerable': 4768, 'psychotic': 3459, 'hot': 2174, 'bits': 490, 'aimed': 162, 'wasted': 4809, '35': 45, 'beating': 425, 'hunting': 2201, 'laughable': 2530, 'intensity': 2317, 'warned': 4798, 'prove': 3445, 'artistic': 308, 'maker': 2714, 'overrated': 3156, 'beyond': 476, 'resources': 3651, 'idiot': 2218, 'genius': 1887, 'outstanding': 3147, 'blonde': 511, 'background': 380, 'immensely': 2243, 'frustrated': 1842, 'nonsense': 3030, 'carried': 698, 'saved': 3795, 'giving': 1915, 'pamela': 3179, 'anderson': 227, 'richards': 3687, 'coming': 896, 'deals': 1137, 'experiences': 1582, 'summer': 4291, 'photographed': 3258, 'reality': 3551, 'feelings': 1686, 'changes': 751, 'discussion': 1284, 'issues': 2365, 'parent': 3187, 'etc': 1527, 'moon': 2900, 'nights': 3016, 'awards': 367, 'flawless': 1751, 'ensemble': 1492, 'screenplay': 3831, 'exception': 1557, 'cannot': 670, 'cable': 644, 'mentioning': 2812, 'freddy': 1826, 'iii': 2227, 'bugs': 613, 'castle': 712, 'joy': 2422, 'storytelling': 4209, 'magical': 2704, 'check': 777, 'dub': 1378, 'avoided': 364, 'costs': 1004, 'translation': 4562, 'ten': 4399, 'voices': 4763, 'todays': 4509, 'gem': 1877, 'gotta': 1946, 'directors': 1266, 'create': 1036, 'creepy': 1052, 'lucky': 2683, 'haunting': 2051, 'whoever': 4872, 'anybody': 257, 'weapons': 4829, '80s': 59, 'sucks': 4271, 'central': 735, 'comedian': 887, 'jr': 2423, 'simpson': 3987, 'double': 1331, 'dry': 1377, 'direct': 1258, 'believes': 456, 'rental': 3627, 'consider': 949, 'examples': 1554, 'falling': 1639, 'asleep': 320, 'itll': 2369, 'grow': 1982, 'bound': 553, 'natural': 2973, 'overwhelming': 3157, 'sends': 3876, 'common': 906, 'chosen': 805, 'wise': 4903, 'golden': 1934, 'clumsy': 866, 'follows': 1775, 'soft': 4051, 'shadow': 3912, 'painfully': 3172, 'disney': 1289, 'leo': 2571, 'struggles': 4235, 'essentially': 1523, 'cardboard': 682, 'enthusiasm': 1501, 'tom': 4514, 'dire': 1257, 'innocent': 2294, 'married': 2744, 'belief': 451, 'herself': 2092, 'obviously': 3072, 'ha': 2002, 'demented': 1176, 'guilt': 1994, 'four': 1812, 'mexican': 2826, 'fed': 1682, 'mexico': 2827, 'reflect': 3584, 'becomes': 434, 'non': 3027, 'revealing': 3672, 'easy': 1410, 'dialogs': 1233, 'locations': 2636, 'bland': 500, 'kevin': 2457, 'worthless': 4954, 'okay': 3099, 'cheesy': 781, 'imitation': 2241, 'school': 3813, 'marty': 2749, 'hurt': 2202, 'reunion': 3669, 'letters': 2582, 'disappointed': 1273, 'league': 2549, 'remains': 3611, 'bizarre': 492, 'formulaic': 1803, 'quiet': 3492, 'arrival': 299, 'surface': 4310, 'simplistic': 3985, 'unfolds': 4651, 'sinister': 3998, 'universe': 4666, 'manner': 2729, 'comedic': 888, 'serve': 3893, 'fictional': 1703, 'town': 4541, 'merit': 2816, 'current': 1084, 'importantly': 2248, 'favorites': 1672, 'entertain': 1497, 'introduction': 2339, 'process': 3412, 'intelligence': 2313, 'mentioned': 2811, 'respect': 3652, 'certain': 737, 'bold': 528, 'narrative': 2966, 'darker': 1116, 'brave': 567, 'step': 4175, 'pays': 3218, 'clear': 839, 'refreshing': 3586, 'change': 749, 'deeper': 1155, 'previously': 3388, 'provides': 3450, 'conclusion': 936, 'occasionally': 3075, 'puts': 3481, 'desperate': 1208, 'sold': 4052, 'hanks': 2025, 'gave': 1875, 'students': 4239, 'monsters': 2893, 'realistic': 3550, 'setting': 3900, 'stops': 4203, 'monk': 2889, 'trade': 4547, 'center': 732, 'beings': 449, 'shakespeare': 3915, 'studio': 4240, 'spoil': 4121, 'tragedy': 4551, 'ludicrous': 2685, 'engaging': 1481, 'effective': 1429, 'range': 3516, 'relate': 3593, 'captures': 678, 'welcome': 4842, 'joseph': 2419, 'andrews': 229, 'belongs': 460, 'alan': 171, 'deliver': 1169, 'evidence': 1546, 'lawrence': 2539, 'authority': 360, 'dignity': 1252, 'versions': 4721, 'hopeless': 2158, 'car': 680, 'stopped': 4202, 'constantly': 958, 'heavily': 2069, 'instance': 2304, 'hood': 2151, 'afterwards': 145, 'brain': 562, 'attack': 337, 'spoof': 4127, 'airplane': 166, 'tomatoes': 4515, 'throwing': 4480, 'basketball': 409, 'miller': 2846, 'pops': 3332, 'singing': 3995, 'scientists': 3819, 'samurai': 3779, 'san': 3780, 'yourself': 4993, 'hearing': 2063, 'lou': 2663, 'diamond': 1236, 'differences': 1247, 'remain': 3609, 'troubled': 4593, 'involves': 2348, 'extreme': 1609, 'recommended': 3572, 'concerns': 934, 'identity': 2217, 'erotic': 1515, 'measure': 2786, 'structure': 4233, 'frequent': 1831, 'exist': 1569, 'stranger': 4213, 'agrees': 157, 'cinematography': 820, 'darkness': 1117, 'mess': 2818, 'reviewers': 3678, 'noted': 3045, 'tough': 4537, 'minded': 2850, 'realized': 3553, 'community': 908, 'groups': 1981, 'primary': 3394, 'contrast': 975, 'physically': 3263, 'survival': 4320, 'term': 4405, 'pregnant': 3369, 'raise': 3507, 'neither': 2996, 'happiness': 2031, 'holy': 2140, 'theater': 4427, 'rex': 3683, 'buff': 611, 'unless': 4669, 'theaters': 4428, 'girlfriend': 1910, 'hello': 2078, 'enjoying': 1487, 'pretending': 3382, 'werent': 4849, 'foster': 1809, 'accomplished': 87, 'friendship': 1838, 'meaning': 2780, 'core': 995, 'sexuality': 3909, 'virgin': 4749, 'hold': 2129, 'tales': 4357, 'notorious': 3051, 'females': 1694, 'factor': 1622, 'aspect': 321, 'hang': 2022, 'steps': 4177, 'damn': 1100, 'captured': 677, 'appreciation': 281, 'art': 304, 'spielberg': 4110, 'purple': 3473, 'appreciated': 280, '11': 2, 'via': 4726, 'cliché': 844, 'ridden': 3691, 'industry': 2280, '1970s': 17, 'cliff': 847, 'simmons': 3981, 'artist': 307, 'ward': 4793, 'ron': 3734, 'moody': 2899, 'doctor': 1304, 'partner': 3198, 'judy': 2426, 'cult': 1077, 'sandra': 3782, 'camp': 662, 'georges': 1894, 'delivery': 1173, 'destroying': 1215, 'evening': 1534, 'disturbing': 1300, 'dislike': 1288, 'caliber': 649, 'teaching': 4377, 'goldberg': 1933, 'impressive': 2253, 'features': 1680, '70s': 56, 'figured': 1712, 'pathetic': 3210, 'female': 1693, 'hoping': 2160, 'poster': 3353, 'grant': 1956, 'skip': 4016, 'handled': 2019, 'carter': 703, 'soldier': 4053, 'colour': 880, 'cartoon': 704, 'strange': 4211, 'sucked': 4270, 'unbearable': 4633, 'dozen': 1338, 'local': 2634, 'sides': 3967, 'details': 1219, 'inner': 2292, 'anne': 246, 'specific': 4099, 'kidding': 2465, 'hooked': 2153, 'conflict': 939, 'week': 4837, 'lowest': 2678, 'cameras': 660, 'masterpieces': 2760, 'topless': 4527, 'drunk': 1375, 'specifically': 4100, 'remarkable': 3613, 'poignant': 3315, 'express': 1600, 'robbins': 3712, 'blues': 519, 'content': 966, 'alive': 186, 'according': 88, 'suggest': 4280, 'requires': 3642, 'understanding': 4645, 'fail': 1625, 'realize': 3552, 'hardly': 2036, 'balance': 387, 'woods': 4935, 'traveling': 4568, 'argue': 290, 'surely': 4309, 'pleasant': 3302, 'indian': 2274, 'jumping': 2431, 'enormous': 1490, 'board': 522, 'spends': 4107, 'millions': 2848, 'uses': 4697, 'denzel': 1181, 'mayor': 2777, 'ramones': 3512, 'themes': 4434, 'spring': 4134, '1980': 20, 'nostalgic': 3039, 'teen': 4388, 'speak': 4094, 'disgusting': 1286, 'pg': 3250, '2002': 32, 'dragon': 1344, 'werewolf': 4850, 'devil': 1228, 'latter': 2528, 'loose': 2650, '2004': 34, 'horrid': 2165, 'lazy': 2543, 'dinosaurs': 1256, 'cgi': 740, 'stock': 4193, 'travel': 4567, 'alien': 183, 'aliens': 184, 'outer': 3143, 'space': 4090, 'eaten': 1412, 'weve': 4856, 'dinosaur': 1255, 'attacks': 339, 'giant': 1905, 'steven': 4182, 'masterpiece': 2759, 'starting': 4158, 'apartment': 265, 'valuable': 4708, 'dedicated': 1153, 'vacation': 4704, 'leslie': 2574, 'harry': 2039, 'couples': 1017, 'aware': 368, 'molly': 2884, 'consequences': 947, 'possibility': 3349, 'values': 4710, 'hearts': 2066, 'melting': 2799, '1990s': 25, 'looked': 2647, 'violent': 4748, 'super': 4295, 'childish': 791, 'sleep': 4024, 'walked': 4776, 'dimensional': 1253, 'bumbling': 622, 'idiots': 2220, 'tension': 4404, 'built': 618, 'dvds': 1392, 'reputation': 3640, 'wait': 4770, 'hint': 2112, 'ashamed': 312, 'returning': 3667, 'state': 4160, 'adding': 117, 'encounters': 1467, 'physical': 3262, 'whilst': 4869, 'misery': 2865, 'road': 3709, 'boredom': 542, 'cure': 1081, 'smoke': 4039, 'calm': 655, 'wore': 4939, 'effect': 1428, 'contains': 964, 'shining': 3933, 'reminded': 3619, 'fashioned': 1660, 'scare': 3803, 'wives': 4918, 'timing': 4498, 'multiple': 2936, 'mans': 2730, 'fantasy': 1652, 'stiller': 4189, 'favor': 1670, 'politically': 3325, 'cave': 727, 'shocking': 3940, 'interviews': 2330, 'depth': 1190, 'importance': 2246, 'church': 813, 'reference': 3582, 'pushing': 3479, 'manage': 2722, 'bullet': 620, 'fired': 1735, 'unbelievably': 4635, 'headed': 2058, 'toy': 4542, 'forgive': 1795, 'treats': 4575, 'uwe': 4703, 'boll': 529, 'absolute': 71, 'moment': 2886, 'hilariously': 2107, 'skills': 4014, 'narration': 2965, 'causes': 725, 'narrator': 2967, 'cuts': 1091, 'destroyed': 1214, 'joined': 2413, 'huh': 2187, 'touch': 4533, 'walks': 4780, 'path': 3209, 'technology': 4385, 'advanced': 128, 'academy': 77, 'award': 366, 'rival': 3706, 'earl': 1398, 'wit': 4908, 'walker': 4778, 'washington': 4806, 'grandmother': 1955, 'tears': 4380, 'warmth': 4796, 'tony': 4521, 'thick': 4447, 'knife': 2487, 'duo': 1386, 'arrived': 301, 'page': 3167, 'ah': 158, 'paper': 3183, 'proved': 3446, 'handle': 2018, 'brilliantly': 584, 'senseless': 3878, 'hands': 2020, 'grace': 1950, 'speaks': 4096, 'normally': 3034, 'parties': 3196, 'et': 1526, 'al': 170, 'picks': 3268, 'statement': 4162, 'smiling': 4037, 'billy': 482, 'loves': 2674, 'roberts': 3714, 'talked': 4359, 'enjoys': 1489, 'smart': 4035, 'adaptation': 113, 'novel': 3052, 'merits': 2817, 'extraordinary': 1607, 'satire': 3788, 'alert': 178, 'points': 3319, 'blank': 501, 'steals': 4172, 'ms': 2931, 'critics': 1064, 'amount': 219, 'twists': 4619, 'ps': 3453, 'places': 3284, 'developing': 1224, 'driving': 1368, 'videos': 4734, 'surrounding': 4319, 'beast': 422, 'crying': 1074, 'antics': 255, 'funnier': 1850, 'recognition': 3568, 'makeup': 2717, 'fake': 1635, 'robot': 3717, 'wound': 4960, 'unoriginal': 4673, '2007': 37, 'ripped': 3701, 'buying': 641, 'weight': 4840, 'porn': 3336, 'baby': 376, 'meet': 2793, 'lifetime': 2594, 'persons': 3244, 'occur': 3076, 'reasons': 3560, 'presented': 3376, 'humanity': 2189, 'memories': 2803, 'intention': 2319, 'discuss': 1283, 'separate': 3883, 'everybody': 1540, 'met': 2822, 'field': 1704, 'warrior': 4802, 'spare': 4093, 'broad': 590, 'speaking': 4095, 'necessary': 2984, 'information': 2288, 'marvelous': 2750, 'summary': 4290, 'touches': 4535, 'exists': 1573, 'regard': 3588, 'offended': 3085, 'fox': 1814, 'jessica': 2398, 'powers': 3361, 'needed': 2988, 'tune': 4602, 'added': 116, 'credibility': 1047, 'stated': 4161, 'michelle': 2830, 'diana': 1237, 'brothers': 599, 'boxing': 556, 'lessons': 2578, 'focusing': 1769, 'circle': 821, 'inspiration': 2300, 'project': 3427, 'worlds': 4947, 'football': 1783, 'walls': 4783, 'dying': 1393, 'mars': 2746, 'rights': 3697, 'iran': 2350, 'amazing': 209, 'buildings': 616, 'jake': 2377, 'science': 3816, 'homer': 2144, 'dad': 1095, 'dress': 1357, 'accurate': 90, 'trek': 4578, 'prefer': 3368, 'fascinating': 1658, 'gene': 1879, 'largely': 2518, 'court': 1020, 'abilities': 64, 'captain': 674, 'condition': 937, 'potential': 3355, 'endless': 1473, 'minor': 2857, 'ahead': 159, 'spoiled': 4122, 'develops': 1226, 'neo': 2998, 'daughters': 1122, 'competition': 918, 'misses': 2868, 'murderous': 2942, 'criminal': 1057, 'truck': 4595, 'wear': 4830, 'joke': 2414, 'wears': 4832, 'location': 2635, 'skin': 4015, 'raped': 3522, 'boss': 546, 'greedy': 1969, 'jesse': 2397, 'trailers': 4555, 'ii': 2226, 'mid': 2832, 'anti': 254, 'finished': 1733, 'empire': 1464, 'restored': 3659, 'soviet': 4089, 'cold': 872, 'adventures': 131, 'rambo': 3511, 'instantly': 2306, 'russian': 3762, 'troops': 4591, 'rescue': 3643, 'losing': 2658, 'fetched': 1698, 'technically': 4382, 'slightest': 4028, 'placed': 3283, 'tons': 4520, 'consists': 955, 'clichés': 846, 'wrote': 4974, 'cameron': 661, 'understandable': 4644, 'moronic': 2907, 'brand': 565, 'remotely': 3623, 'survive': 4321, 'shock': 3938, 'torture': 4529, 'climactic': 848, 'seasons': 3844, 'feature': 1678, 'fiction': 1702, 'opposed': 3122, 'visual': 4757, 'tight': 4492, 'ideas': 2215, 'aforementioned': 139, 'terrorist': 4413, 'teenagers': 4391, 'teens': 4392, 'intellectual': 2312, 'religious': 3608, 'passion': 3205, 'futuristic': 1857, 'soap': 4047, 'opera': 3116, 'eric': 1514, 'frankenstein': 1822, 'karloff': 2445, 'maria': 2736, 'choices': 798, 'chooses': 800, 'aka': 168, 'independent': 2272, 'trick': 4582, 'overlook': 3153, 'bourne': 554, 'blair': 497, 'helps': 2082, 'stunt': 4245, 'choreography': 802, 'damon': 1101, 'comfortable': 892, 'installment': 2303, 'cia': 814, 'chases': 771, 'creative': 1041, 'constant': 957, '1983': 22, 'jim': 2402, 'bo': 521, 'susan': 4326, 'shirley': 3936, 'clues': 865, 'friday': 1834, '13th': 5, 'native': 2972, 'upset': 4687, 'events': 1536, 'birthday': 487, 'fit': 1740, 'calls': 654, 'gratuitous': 1961, 'ups': 4686, 'commentary': 899, 'indians': 2275, 'tradition': 4549, 'intense': 2316, 'obscure': 3068, 'security': 3854, 'guard': 1988, 'painted': 3174, 'thugs': 4484, 'graphic': 1958, 'em': 1452, 'luck': 2681, 'dressed': 1358, 'california': 650, 'mouse': 2919, 'sadistic': 3768, 'cartoons': 705, 'designs': 1204, 'cross': 1066, 'eyed': 1612, 'adam': 111, 'jones': 2418, 'consistently': 954, 'smith': 4038, 'lots': 2662, 'gruesome': 1986, 'preview': 3386, 'wake': 4774, 'track': 4544, 'motives': 2916, 'flat': 1748, 'hoped': 2156, 'petty': 3249, 'scared': 3805, 'surrounded': 4318, 'september': 3884, 'sharp': 3922, 'typically': 4624, 'sandler': 3781, 'disagree': 1269, 'carrey': 696, 'charlie': 765, 'unreal': 4676, 'hidden': 2096, 'significant': 3972, 'reveal': 3670, 'explicit': 1591, 'downright': 1337, 'length': 2569, 'deeply': 1156, 'essential': 1522, 'sutherland': 4333, 'trailer': 4554, 'pacino': 3164, 'similarly': 3980, 'medical': 2790, 'paris': 3189, '3d': 46, 'computer': 927, 'ultra': 4629, 'movements': 2924, 'wooden': 4934, 'visuals': 4759, 'worthwhile': 4955, 'awake': 365, 'sarah': 3785, 'associated': 327, 'hearted': 2065, 'ladies': 2506, 'elegant': 1441, 'emma': 1457, 'jane': 2380, 'paltrow': 3178, 'delight': 1167, 'notion': 3050, 'suited': 4286, 'ended': 1470, 'marriage': 2743, 'mate': 2765, 'outcome': 3142, 'initial': 2290, 'proves': 3447, 'proceedings': 3410, 'miss': 2866, 'boat': 523, 'luckily': 2682, 'breath': 573, 'fresh': 1833, 'honesty': 2148, 'successfully': 4267, 'granted': 1957, 'overlooked': 3154, 'charismatic': 763, 'endearing': 1469, 'eight': 1436, 'shines': 3932, 'personality': 3242, 'regardless': 3590, 'italian': 2367, 'pride': 3391, 'silver': 3977, 'theatre': 4429, 'relevant': 3604, 'gay': 1876, 'removed': 3624, 'influenced': 2287, 'conceived': 929, 'hair': 2005, 'christ': 807, 'unsettling': 4679, 'glorious': 1921, 'emotional': 1459, 'grade': 1951, 'pretend': 3381, 'snow': 4045, 'arrested': 298, '13': 4, 'claims': 830, 'fame': 1642, 'elizabeth': 1445, 'exotic': 1574, 'secretly': 3851, 'aging': 153, 'theyd': 4443, 'rubber': 3747, 'blown': 516, 'attraction': 350, 'classes': 834, 'dick': 1239, 'wished': 4905, 'rush': 3759, 'mentally': 2809, 'retarded': 3663, 'monkey': 2890, 'amazed': 208, '1996': 26, '14': 6, 'lucas': 2680, 'buck': 605, 'annoyed': 248, 'fault': 1668, 'finish': 1732, 'supernatural': 4302, 'offensive': 3086, 'comical': 894, 'beauty': 430, 'exploration': 1593, 'frustration': 1843, 'catholic': 720, 'mentions': 2813, 'supposedly': 4307, 'horrifying': 2167, 'creature': 1045, 'hysterical': 2208, 'loud': 2664, 'exaggerated': 1552, 'encounter': 1466, 'defeat': 1157, 'monster': 2892, 'jaw': 2384, 'dropping': 1371, 'creator': 1043, 'infamous': 2284, 'discovery': 1282, 'guide': 1993, 'ties': 4490, 'experiment': 1583, 'arm': 292, 'splatter': 4118, 'unknown': 4668, 'ghosts': 1903, 'spirits': 4115, 'haunted': 2050, 'experienced': 1581, 'personally': 3243, 'amateur': 206, 'listening': 2620, 'halfway': 2008, 'literally': 2622, 'fears': 1677, 'shoes': 3941, 'million': 2847, 'dinner': 1254, 'texas': 4418, 'chuck': 812, 'accident': 84, 'involving': 2349, 'image': 2233, 'convinced': 984, 'master': 2757, 'ape': 266, 'access': 83, 'saturday': 3792, 'explore': 1594, 'doc': 1303, 'lol': 2640, 'mtv': 2933, 'portraying': 3343, 'acted': 98, 'lacked': 2503, 'punch': 3466, 'fate': 1665, 'engaged': 1480, 'facts': 1624, 'bbc': 417, 'frequently': 1832, 'rolling': 3730, 'belong': 459, 'shelf': 3926, 'rape': 3521, 'illogical': 2231, 'areas': 287, 'germans': 1897, 'forest': 1791, 'choose': 799, 'winter': 4900, 'iraq': 2351, 'engage': 1479, 'conflicts': 940, 'naive': 2958, 'bear': 420, 'minds': 2852, 'machines': 2694, 'likely': 2601, 'lose': 2654, 'propaganda': 3435, 'larger': 2519, 'jackie': 2374, 'chan': 746, 'martial': 2747, 'arts': 310, 'generic': 1885, 'psycho': 3457, 'stretch': 4221, '1930s': 11, 'sequences': 3888, 'segments': 3868, 'performer': 3231, 'stephen': 4176, 'finger': 1731, 'tense': 4403, 'challenge': 743, 'kiss': 2483, 'faithful': 1634, 'faced': 1617, 'keaton': 2448, 'neil': 2995, 'draws': 1352, 'sue': 4274, 'walter': 4784, 'magnificent': 2705, 'burns': 628, 'finest': 1730, 'similarities': 3979, 'titanic': 4503, 'guarantee': 1987, 'miserably': 2864, 'expression': 1602, 'attitude': 346, 'sinatra': 3989, 'sidney': 3968, 'navy': 2976, 'dean': 1139, 'aunt': 355, 'mix': 2876, 'piano': 3264, 'mgm': 2828, 'songs': 4072, 'practically': 3362, 'outrageous': 3145, 'hat': 2045, 'rabbit': 3498, 'ears': 1402, 'wrapped': 4964, 'ballet': 389, 'dreams': 1355, 'currently': 1085, 'drawing': 1350, 'laura': 2536, 'dealt': 1138, 'sophisticated': 4075, 'gritty': 1977, 'solve': 4060, 'investigation': 2343, 'cop': 991, 'accused': 91, 'lighting': 2596, 'amazingly': 210, 'admittedly': 123, 'polished': 3323, 'gentle': 1890, 'wandering': 4785, 'remaining': 3610, 'visits': 4756, 'witches': 4910, 'dolls': 1316, 'drinking': 1362, 'generous': 1886, 'unrealistic': 4677, 'practice': 3363, 'embarrassment': 1455, 'dude': 1381, 'timeless': 4496, 'cultural': 1078, 'references': 3583, 'western': 4853, 'universal': 4665, 'nowadays': 3055, 'youth': 4994, 'population': 3335, 'committed': 905, 'williams': 4888, 'slight': 4027, 'psychological': 3458, 'gabriel': 1859, 'receives': 3565, 'reads': 3545, 'abuse': 74, 'suffered': 4276, 'worker': 4942, 'donna': 1323, 'fascinated': 1657, 'tap': 4364, 'portrays': 3344, 'hide': 2097, 'reaction': 3541, 'slowly': 4032, 'miles': 2843, 'passes': 3203, 'goal': 1925, 'greater': 1965, 'ourselves': 3140, 'fury': 1855, 'expectations': 1576, 'scheme': 3812, 'ryan': 3765, 'method': 2824, 'matthau': 2771, 'comics': 895, 'learned': 2551, 'national': 2970, 'sunshine': 4294, 'boys': 559, 'health': 2060, 'retired': 3664, 'lovers': 2673, 'enter': 1494, 'charlotte': 766, 'wedding': 4836, 'laid': 2508, 'west': 4852, 'civil': 826, 'strangely': 4212, 'battles': 415, 'trail': 4553, 'destruction': 1216, 'resident': 3647, 'trio': 4587, 'context': 968, 'include': 2261, 'represented': 3638, 'curiosity': 1082, 'slave': 4022, 'union': 4661, 'raised': 3508, 'murderer': 2941, 'historical': 2119, 'errors': 1516, 'appealing': 272, 'involvement': 2347, 'filmmaker': 1719, 'terry': 4415, '12': 3, 'monkeys': 2891, 'vision': 4754, 'sake': 3775, 'disbelief': 1277, 'cole': 873, 'disease': 1285, 'future': 1856, 'creativity': 1042, 'majority': 2712, 'nose': 3037, 'shape': 3919, 'thirty': 4456, 'beach': 419, 'portray': 3340, 'carl': 692, 'angry': 238, 'cutting': 1092, 'china': 795, 'indie': 2276, 'sub': 4252, 'par': 3184, 'suitable': 4285, 'flies': 1756, 'artists': 309, 'graphics': 1959, 'rocket': 3721, 'cg': 739, 'kinda': 2477, '60s': 54, 'gross': 1978, 'gender': 1878, 'racial': 3501, 'stereotypes': 4179, 'fly': 1763, 'eat': 1411, 'sneak': 4043, 'educational': 1425, 'landing': 2512, 'burn': 625, 'bothered': 549, 'sounds': 4084, 'vote': 4766, 'terribly': 4408, 'constructed': 959, 'horribly': 2164, 'techniques': 4384, 'obnoxious': 3067, 'flashback': 1746, 'confidence': 938, 'moore': 2901, 'accepted': 82, 'linda': 2609, 'marry': 2745, 'substance': 4258, 'commercial': 902, 'cares': 690, 'proud': 3444, 'street': 4216, 'touched': 4534, 'transfer': 4559, 'boom': 537, 'hardcore': 2034, 'hated': 2047, 'amounts': 220, 'campy': 664, 'judge': 2424, 'howard': 2182, 'ho': 2127, 'dated': 1119, 'global': 1920, 'delivers': 1172, 'benefit': 465, 'discovered': 1280, 'scripted': 3835, 'johnson': 2411, 'keeping': 2450, 'tone': 4517, 'cameos': 658, 'decades': 1145, 'unpredictable': 4675, 'rain': 3506, 'stole': 4194, 'falk': 1636, 'cake': 648, 'wonderfully': 4929, 'flawed': 1750, 'bob': 524, 'hong': 2149, 'kong': 2494, 'unforgettable': 4652, 'disturbed': 1299, 'danny': 1112, 'protect': 3443, 'spirited': 4114, 'cash': 709, 'witnessed': 4915, 'nicely': 3009, 'lees': 2560, 'masses': 2755, 'depicting': 1184, 'beaten': 424, 'kicked': 2461, 'unexpected': 4650, 'insane': 2296, 'sudden': 4272, 'tame': 4363, 'subtitles': 4259, 'chasing': 772, 'rotten': 3740, 'offered': 3088, '50s': 52, 'unit': 4663, 'male': 2719, 'dancers': 1105, 'dancer': 1104, 'greek': 1970, 'elsewhere': 1449, 'joey': 2408, 'pal': 3177, 'highlight': 2103, 'lengthy': 2570, 'styles': 4250, 'numbers': 3061, 'served': 3894, 'account': 89, 'bettie': 473, 'pages': 3168, 'twisted': 4618, '3rd': 47, 'designed': 1203, 'clothes': 860, 'photo': 3257, 'photographer': 3259, 'documentaries': 1306, 'thrill': 4471, 'meaningless': 2782, 'atrocious': 335, 'jeffrey': 2391, 'scientist': 3818, 'shark': 3921, 'desired': 1206, 'eerie': 1427, 'hunter': 2199, 'cost': 1003, 'hunt': 2198, 'land': 2511, 'tortured': 4530, 'racism': 3502, 'obsessed': 3069, 'teenager': 4390, 'exceptionally': 1559, 'grim': 1974, 'notes': 3046, 'guest': 1992, 'unfunny': 4655, 'snl': 4044, 'drivel': 1364, 'extras': 1608, 'audio': 354, 'mill': 2845, 'tribute': 4581, 'fish': 1738, 'robinson': 3716, 'characterization': 759, 'chased': 770, 'tiger': 4491, 'jazz': 2387, 'montana': 2895, 'landscapes': 2514, 'emotionally': 1460, 'detailed': 1218, 'intimate': 2331, 'glenn': 1918, 'pitch': 3279, 'hasnt': 2044, 'guns': 1998, 'uncle': 4636, 'ordinary': 3128, 'depicted': 1183, 'hunters': 2200, 'perspective': 3245, 'laughter': 2535, 'suspend': 4329, 'che': 773, 'forces': 1788, 'latin': 2527, 'ingredients': 2289, 'factory': 1623, 'cars': 702, 'system': 4345, 'careers': 687, 'slaughter': 4021, 'animal': 239, 'definite': 1161, 'improvement': 2256, 'contrived': 976, 'twins': 4616, 'sum': 4289, 'adults': 126, 'kate': 2446, 'ashley': 313, 'scenery': 3810, 'clichéd': 845, 'uneven': 4649, 'rushed': 3760, 'cox': 1026, 'warriors': 4803, '45': 50, 'refuses': 3587, 'reel': 3581, 'apparent': 269, 'dramatic': 1348, 'freeman': 1829, 'research': 3644, 'interview': 2329, 'introduces': 2338, 'shocked': 3939, 'vampire': 4711, 'inept': 2281, 'stupidity': 4248, 'responsible': 3656, 'troubles': 4594, 'someones': 4065, 'ritter': 3705, 'oliver': 3102, 'ken': 2453, 'president': 3378, 'cringe': 1059, 'oddly': 3081, 'chase': 769, 'pseudo': 3454, 'afford': 138, 'manhattan': 2726, 'financial': 1725, 'kenneth': 2455, 'branagh': 564, 'celebrity': 729, 'chaplin': 756, 'dentist': 1180, 'affair': 135, 'pool': 3327, 'sympathy': 4343, 'killings': 2473, 'ambitious': 211, 'fall': 1637, 'mile': 2842, 'godfather': 1927, 'amitabh': 216, 'media': 2789, 'eyre': 1614, 'faults': 1669, 'positive': 3346, 'contrary': 974, 'logical': 2639, 'poverty': 3357, 'reaching': 3539, 'remote': 3622, 'spectacular': 4101, 'root': 3737, 'capturing': 679, 'village': 4743, 'brazil': 568, 'da': 1094, 'kings': 2481, 'arrives': 302, 'ruthless': 3764, 'struck': 4232, 'selling': 3873, 'danger': 1109, 'intrigue': 2333, 'dealing': 1136, 'relationships': 3598, 'julie': 2428, 'letter': 2581, 'wealth': 4826, 'signed': 3971, 'centers': 734, 'stayed': 4167, 'persona': 3239, 'tie': 4488, 'unnecessary': 4672, 'clothing': 861, 'kim': 2475, 'spell': 4104, 'neighbor': 2992, 'lemmon': 2567, 'chief': 788, 'smooth': 4041, 'strictly': 4223, 'dust': 1388, 'bare': 398, 'lesbian': 2573, 'plastic': 3294, 'resist': 3648, 'directs': 1267, 'cats': 721, 'embarrassing': 1454, 'titled': 4505, 'blade': 495, 'quote': 3496, 'kurt': 2499, 'russell': 3761, 'todd': 4510, 'festival': 1697, 'study': 4242, '40s': 49, 'ease': 1404, 'flop': 1760, 'interest': 2323, 'swim': 4337, 'marketing': 2741, 'hype': 2207, 'amy': 222, 'bank': 394, 'jobs': 2406, 'amongst': 218, 'motivation': 2914, 'drunken': 1376, 'abusive': 75, 'learning': 2552, 'private': 3404, 'ned': 2986, 'lily': 2605, 'mysterious': 2955, 'buffs': 612, 'mighty': 2836, 'east': 1407, 'minimum': 2856, 'kung': 2498, 'fu': 1844, 'promises': 3432, 'workers': 4943, 'causing': 726, 'corrupt': 1001, 'gangsters': 1869, 'firstly': 1737, 'dubbing': 1380, 'drag': 1342, 'choreographed': 801, 'offering': 3089, 'theyve': 4446, 'cruel': 1070, 'sympathetic': 4342, 'gang': 1867, 'abandoned': 62, 'flicks': 1755, 'endings': 1472, 'elaborate': 1439, 'beer': 439, 'bath': 411, 'wild': 4885, 'passionate': 3206, 'foul': 1810, 'cameo': 657, 'slick': 4026, 'trashy': 4566, 'bollywood': 530, 'ie': 2221, 'masters': 2761, 'contemporary': 965, 'muslim': 2949, 'india': 2273, 'captivating': 675, 'classical': 836, 'heroine': 2091, 'warm': 4794, 'diane': 1238, 'appeal': 271, 'alas': 172, 'tedious': 4387, 'rule': 3753, '2001': 31, 'brains': 563, 'riding': 3695, 'utter': 4701, 'modesty': 2883, 'wacky': 4769, 'competent': 917, 'hollywoods': 2138, 'settle': 3902, 'strike': 4224, 'trained': 4557, 'builds': 617, 'unintentionally': 4659, 'wave': 4818, 'reflection': 3585, 'required': 3641, 'bone': 533, 'intentionally': 2320, 'segment': 3867, 'lying': 2690, 'comparison': 914, '50': 51, 'ran': 3513, 'sappy': 3784, 'disappeared': 1271, 'officer': 3092, 'machine': 2693, 'fortune': 1806, 'minimal': 2855, 'tend': 4400, 'thief': 4448, 'museum': 2945, 'lucy': 2684, 'tommy': 4516, 'steal': 4170, 'combat': 882, 'spy': 4135, 'loyal': 2679, 'compelling': 916, 'bergman': 466, 'bette': 471, 'careful': 688, 'stilted': 4190, 'extent': 1605, 'trademark': 4548, 'bullets': 621, 'featuring': 1681, 'nick': 3012, 'wall': 4781, 'shelley': 3928, 'eve': 1532, 'wicked': 4879, 'jennifer': 2392, 'cinderella': 815, 'garden': 1872, 'matthew': 2772, 'fairy': 1632, 'steve': 4181, 'royal': 3746, 'tiny': 4500, 'niro': 3019, 'closet': 858, 'claire': 831, 'danes': 1108, 'princess': 3397, 'bride': 577, 'france': 1816, 'creation': 1040, 'task': 4368, 'friendly': 1836, 'traditional': 4550, 'highest': 2102, 'tour': 4538, 'brooks': 596, 'legendary': 2565, 'resort': 3650, 'reactions': 3542, 'staring': 4152, 'abysmal': 76, 'furthermore': 1854, 'necessarily': 2983, 'shed': 3924, 'existent': 1572, 'crimes': 1056, 'desperation': 1210, 'circumstances': 822, 'tongue': 4518, 'embarrassed': 1453, 'crucial': 1068, 'loses': 2657, 'estate': 1525, 'quick': 3490, 'transition': 4561, 'swedish': 4335, 'cinematic': 818, 'daniel': 1111, 'virginia': 4750, 'hall': 2009, 'smile': 4036, 'cynical': 1093, 'priceless': 3390, 'promise': 3430, 'proceeds': 3411, 'possessed': 3347, 'service': 3896, 'threatening': 4468, 'stunts': 4246, 'grand': 1953, 'expert': 1585, 'disaster': 1276, 'cleverly': 842, 'conversation': 980, 'defense': 1159, 'pro': 3406, 'dangerous': 1110, 'travels': 4569, 'blob': 507, 'plight': 3308, 'ellen': 1446, 'ice': 2210, 'yellow': 4981, 'south': 4087, 'musicals': 2948, 'vague': 4705, 'link': 2613, 'showcase': 3954, 'leg': 2562, 'accents': 79, 'scottish': 3825, 'occurs': 3078, 'convince': 983, 'bobby': 525, 'ann': 244, 'restaurant': 3658, 'doomed': 1327, 'somebody': 4062, 'hart': 2041, 'realise': 3548, 'serves': 3895, 'suck': 4269, 'crappy': 1032, 'quit': 3494, 'months': 2897, 'loser': 2655, 'punk': 3468, 'doors': 1329, 'illegal': 2229, 'disneys': 1290, 'disappear': 1270, 'figures': 1713, 'revolutionary': 3681, 'closing': 859, 'advertising': 132, 'generated': 1882, 'tooth': 4524, 'handful': 2017, 'prior': 3400, 'burned': 626, 'sole': 4055, 'wed': 4835, 'books': 536, 'meeting': 2794, 'victor': 4731, 'virus': 4752, 'rachel': 3500, 'symbolism': 4341, 'metal': 2823, 'combine': 884, 'vaguely': 4706, 'network': 3000, 'wrap': 4963, 'imdb': 2240, 'waited': 4771, 'edition': 1422, 'subplots': 4256, 'dogs': 1311, 'till': 4493, 'vampires': 4712, 'dracula': 1341, 'resolution': 3649, 'funeral': 1849, 'stays': 4169, 'relations': 3596, 'buried': 624, 'ya': 4976, 'eg': 1434, 'whale': 4857, 'suggested': 4281, 'henry': 2084, 'lake': 2509, 'barbara': 397, 'nurse': 3063, 'bridge': 578, 'alice': 182, 'brady': 561, 'craig': 1030, 'australia': 356, 'singer': 3993, 'wannabe': 4787, 'forgot': 1796, 'results': 3662, 'ted': 4386, 'surprises': 4314, 'alex': 179, 'inevitable': 2282, 'omen': 3104, 'uncomfortable': 4637, 'tree': 4576, 'stolen': 4195, 'daddy': 1096, 'divorce': 1301, 'epic': 1506, 'severe': 3906, 'odds': 3082, 'brenda': 575, 'bed': 436, 'foreign': 1790, 'wolf': 4920, 'element': 1442, 'safety': 3772, 'mask': 2752, 'source': 4086, 'kubrick': 2496, 'meat': 2787, 'progresses': 3426, 'lively': 2627, 'sixties': 4011, 'accompanied': 86, 'ball': 388, 'doom': 1326, 'hitting': 2126, 'overacting': 3149, 'nicholson': 3011, 'pack': 3165, 'roots': 3738, 'subtlety': 4261, 'channels': 754, 'demon': 1177, 'distance': 1294, 'visible': 4753, 'mall': 2720, 'pulls': 3464, 'closest': 857, 'collection': 874, 'quest': 3486, 'stanley': 4148, 'quirky': 3493, 'backdrop': 379, 'nightmares': 3015, 'wwii': 4975, 'upper': 4685, 'depressing': 1188, 'join': 2412, 'principal': 3398, 'tall': 4362, 'report': 3635, 'clint': 850, 'perform': 3227, 'adorable': 124, 'sports': 4130, 'drops': 1372, 'faster': 1662, 'popcorn': 3331, 'ironically': 2356, 'hole': 2132, 'jealous': 2388, 'executive': 1567, 'sensitive': 3879, 'ford': 1789, 'francisco': 1819, 'classics': 837, 'claimed': 829, 'bay': 416, 'coach': 868, 'theyll': 4444, 'stretched': 4222, 'ruth': 3763, 'staying': 4168, 'distinct': 1296, 'roman': 3731, 'cagney': 646, 'hospital': 2172, 'aspects': 322, 'brando': 566, 'descent': 1193, 'backgrounds': 381, 'fathers': 1667, 'knowledge': 2491, 'selfish': 3870, 'garbo': 1871, 'trilogy': 4586, 'twilight': 4614, 'honor': 2150, 'reached': 3537, 'mothers': 2912, 'nation': 2969, 'relatives': 3601, 'dan': 1102, 'sounded': 4082, 'mom': 2885, 'distant': 1295, 'rarely': 3524, 'domestic': 1318, 'dig': 1250, 'melodrama': 2797, 'meaningful': 2781, 'mel': 2796, 'warren': 4801, 'insight': 2298, 'philosophical': 3253, 'luke': 2687, 'sean': 3840, 'nostalgia': 3038, 'university': 4667, 'awfully': 373, 'cooper': 990, 'brooklyn': 595, 'fay': 1674, 'prostitute': 3440, 'holds': 2131, 'ego': 1435, 'sight': 3969, 'icon': 2211, 'hammer': 2014, 'contact': 961, 'admire': 121, 'uk': 4626, 'bat': 410, 'pet': 3246, 'april': 284, 'messages': 2820, 'mission': 2870, 'homeless': 2143, 'survivor': 4324, 'pink': 3277, 'patients': 3212, 'clown': 862, 'pearl': 3220, 'norman': 3035, 'lawyer': 2541, 'screaming': 3827, 'trial': 4580, 'elderly': 1440, 'gods': 1928, 'chest': 784, 'miracle': 2860, 'survived': 4322, '25': 40, 'assault': 324, 'park': 3190, 'unhappy': 4656, 'lay': 2542, '1980s': 21, 'conspiracy': 956, 'tragic': 4552, 'anna': 245, 'cared': 685, 'bonus': 534, 'activities': 102, 'attorney': 348, 'staff': 4138, 'insulting': 2310, 'depressed': 1187, 'andrew': 228, 'carefully': 689, 'fulci': 1845, 'dawn': 1127, 'relation': 3595, 'replaced': 3634, 'plague': 3285, 'widmark': 4882, 'americas': 215, 'stress': 4220, 'ought': 3138, 'travesty': 4570, 'status': 4165, 'roger': 3724, 'cases': 708, 'iron': 2354, 'earned': 1401, 'alike': 185, 'essence': 1521, 'robots': 3718, 'tunes': 4603, 'rangers': 3517, 'parker': 3191, 'genuine': 1891, 'tea': 4373, 'respected': 3653, 'composed': 926, 'mountain': 2917, 'nonsensical': 3031, 'savage': 3793, 'saves': 3796, 'swear': 4334, 'sounding': 4083, 'cup': 1080, 'florida': 1761, 'neighbors': 2994, 'achieved': 93, 'cried': 1054, 'sing': 3992, 'candy': 668, 'catching': 716, 'suits': 4287, 'edgar': 1417, 'explosions': 1597, 'thru': 4483, 'terrorists': 4414, '1990': 24, 'eastwood': 1409, 'hamlet': 2013, 'painting': 3175, 'deadly': 1133, 'manipulative': 2727, 'advantage': 129, 'motivations': 2915, 'taxi': 4371, 'fever': 1699, 'buddies': 608, 'wishing': 4907, 'attacked': 338, 'mountains': 2918, 'nearby': 2980, 'stan': 4142, 'asian': 314, 'spike': 4111, 'tiresome': 4502, 'record': 3573, 'maintain': 2710, 'signs': 3973, 'waters': 4817, 'magazine': 2701, 'wet': 4855, 'surfing': 4311, 'crocodile': 1065, 'forth': 1804, 'twelve': 4611, 'lit': 2621, 'spending': 4106, 'citizen': 824, 'flynn': 1765, 'closer': 856, 'menace': 2806, 'hiding': 2099, 'lasted': 2522, 'formula': 1802, 'goofy': 1939, 'deaf': 1134, 'dating': 1120, 'drop': 1369, 'babe': 375, 'blows': 517, 'disc': 1278, 'raw': 3532, 'nuclear': 3057, 'slap': 4018, 'showdown': 3955, 'survivors': 4325, 'lower': 2677, 'shine': 3931, 'humble': 2191, 'integrity': 2311, 'rough': 3741, 'rules': 3754, 'flaw': 1749, 'racist': 3503, 'kidnapped': 2466, 'learns': 2553, 'treasure': 4571, 'demands': 1175, 'winters': 4901, 'recognized': 3570, 'wonders': 4931, 'properly': 3437, 'orson': 3132, 'welles': 4844, 'olivier': 3103, 'jonathan': 2417, 'dressing': 1359, 'sacrifice': 3766, 'sentence': 3881, 'mob': 2879, 'quotes': 3497, 'intentions': 2321, 'product': 3418, 'wounded': 4961, 'domino': 1319, 'killers': 2471, 'technique': 4383, 'text': 4419, 'sons': 4073, 'hills': 2109, 'cell': 730, 'proof': 3434, 'elvis': 1451, 'revelation': 3674, 'deserved': 1200, 'spite': 4117, 'raymond': 3534, 'achievement': 94, 'spain': 4091, 'possibilities': 3348, 'nazi': 2977, 'berlin': 467, 'harris': 2038, 'canadian': 667, 'chilling': 794, 'germany': 1898, 'businessman': 634, 'mitchell': 2875, 'oil': 3097, 'swimming': 4338, 'demons': 1178, 'newspaper': 3006, 'inducing': 2279, 'stones': 4198, 'border': 539, 'spanish': 4092, 'wind': 4893, 'mario': 2738, 'stealing': 4171, 'invisible': 2344, 'surreal': 4317, 'pulled': 3462, 'ethan': 1528, 'revolves': 3682, 'stinks': 4192, 'curse': 1086, 'peters': 3248, 'vegas': 4717, 'appalling': 268, 'skill': 4013, 'dreary': 1356, 'cinemas': 817, 'ironic': 2355, 'holiday': 2134, 'mike': 2838, 'roy': 3745, 'march': 2734, 'familys': 1646, 'rose': 3739, 'con': 928, 'size': 4012, 'month': 2896, 'rise': 3702, 'test': 4416, 'jet': 2400, 'colonel': 876, 'loss': 2659, 'seagal': 3839, 'proper': 3436, 'matched': 2763, 'torn': 4528, 'inventive': 2341, 'pie': 3271, 'reasonably': 3559, 'punishment': 3467, 'pleasantly': 3303, 'glover': 1923, 'scrooge': 3837, 'models': 2881, 'cousin': 1021, 'screening': 3830, 'dorothy': 1330, 'behave': 445, 'directions': 1262, 'row': 3744, 'complexity': 924, 'chorus': 803, 'precious': 3366, 'disappoint': 1272, 'briefly': 580, 'philosophy': 3254, 'superficial': 4298, 'chess': 783, 'comparing': 913, 'incomprehensible': 2267, 'spoken': 4126, 'crisis': 1060, 'weekend': 4838, 'simplicity': 3984, 'closely': 855, 'beats': 426, 'artificial': 306, 'eager': 1396, 'priest': 3392, 'vast': 4716, 'vincent': 4746, 'performers': 3232, 'performs': 3234, 'exceptional': 1558, 'birth': 486, 'feminist': 1695, 'convoluted': 987, 'bargain': 400, 'basement': 405, 'format': 1799, 'demand': 1174, 'code': 869, 'lion': 2614, 'philip': 3252, 'farm': 1656, 'reynolds': 3684, 'urban': 4688, 'affect': 136, '2003': 33, 'focuses': 1768, 'turner': 4607, 'attitudes': 347, 'grows': 1985, 'commit': 904, 'betty': 474, 'alcohol': 176, 'vice': 4727, 'satan': 3787, 'hence': 2083, 'wars': 4804, 'hop': 2154, 'dialogues': 1235, 'dreadful': 1353, 'corporate': 998, 'patient': 3211, 'paranoia': 3186, 'lights': 2597, 'guts': 1999, 'hates': 2048, 'tarzan': 4367, 'species': 4098, 'hurts': 2203, 'square': 4136, 'shy': 3962, 'maggie': 2702, 'journalist': 2420, 'thousand': 4465, 'centered': 733, 'paulie': 3215, 'marie': 2737, 'bird': 484, 'birds': 485, 'urge': 4689, 'warming': 4795, 'juvenile': 2441, 'ridiculously': 3694, 'cheek': 779, 'harder': 2035, 'junior': 2435, 'wrestling': 4966, 'shall': 3916, 'blockbuster': 509, 'inappropriate': 2259, 'grinch': 1975, 'nazis': 2978, 'reach': 3536, 'safe': 3771, 'masterful': 2758, 'hyde': 2206, 'sun': 4292, 'easier': 1405, 'pokemon': 3320, 'performing': 3233, 'contract': 973, 'listed': 2618, 'connect': 944, 'hopper': 2161, 'topic': 4526, 'mild': 2839, 'despair': 1207, 'orders': 3127, 'rob': 3710, 'realizes': 3554, 'presents': 3377, 'theory': 4437, 'hundreds': 2196, 'nude': 3058, 'expensive': 1579, 'illness': 2230, 'cards': 683, 'potentially': 3356, 'bela': 450, 'lugosi': 2686, '1933': 12, 'ranks': 3519, 'wholly': 4874, 'environment': 1505, 'weakest': 4825, 'bush': 632, 'prepared': 3371, 'load': 2631, 'pitt': 3280, 'messed': 2821, 'displayed': 1292, 'gandhi': 1866, 'affected': 137, 'triumph': 4590, 'prevent': 3385, 'clark': 832, 'producing': 3417, 'explosion': 1596, 'del': 1165, 'exercise': 1568, 'spooky': 4128, 'forgettable': 1794, 'nightmare': 3014, 'guessed': 1990, 'bite': 489, 'harsh': 2040, 'disjointed': 1287, 'explored': 1595, 'ignored': 2225, 'contain': 962, '2000': 30, 'stellar': 4174, 'astaire': 330, 'civilization': 827, 'polanski': 3321, 'trite': 4589, 'boot': 538, 'passing': 3204, 'ignore': 2224, 'enterprise': 1495, 'cinematographer': 819, 'gerard': 1895, 'popularity': 3334, 'pile': 3275, 'absence': 70, 'fitting': 1742, 'childrens': 793, 'midnight': 2834, 'phantom': 3251, 'drives': 1367, 'vicious': 4728, 'stanwyck': 4149, 'concern': 931, 'attend': 344, 'response': 3654, 'kapoor': 2443, 'lena': 2568, 'concert': 935, 'bleak': 503, 'loaded': 2632, 'nations': 2971, 'womens': 4924, 'solution': 4059, 'hitler': 2124, 'adapted': 114, 'website': 4834, 'caused': 724, '2005': 35, 'mistress': 2874, 'cheated': 775, 'useful': 4694, 'planned': 3290, 'rooms': 3736, 'pants': 3182, 'lifestyle': 2593, 'airport': 167, 'nine': 3017, 'plant': 3293, 'undoubtedly': 4648, 'allowing': 191, 'craft': 1028, 'reduced': 3579, 'bodies': 526, 'wes': 4851, 'helicopter': 2076, 'sits': 4006, 'homage': 2141, 'eddie': 1416, 'willis': 4890, 'tied': 4489, 'purposes': 3475, 'mixture': 2878, 'sexually': 3910, 'stylish': 4251, 'intriguing': 2335, 'versus': 4722, 'elm': 1447, 'loads': 2633, 'assistant': 326, 'spread': 4133, 'raising': 3509, 'distracting': 1297, 'aid': 160, 'bringing': 586, 'guilty': 1995, 'womans': 4922, 'souls': 4080, 'blah': 496, 'spider': 4109, 'isolated': 2363, 'hoffman': 2128, 'sword': 4340, 'dozens': 1339, 'dances': 1106, 'limits': 2607, '16': 8, 'bucks': 606, 'thomas': 4458, 'macy': 2695, 'suffice': 4279, 'mann': 2728, 'likewise': 2603, 'barry': 401, 'lips': 2615, 'sullivan': 4288, 'neighborhood': 2993, 'deliberately': 1166, 'noise': 3024, 'superhero': 4299, 'lincoln': 2608, 'nelson': 2997, 'recording': 3575, 'pulp': 3465, 'fortunately': 1805, 'obsession': 3070, 'homosexual': 2145, 'medium': 2792, 'hbo': 2055, 'daring': 1114, 'jail': 2376, 'assigned': 325, 'education': 1424, 'lone': 2642, 'lately': 2524, '1st': 28, 'latest': 2526, '18': 10, 'chose': 804, 'entry': 1504, 'duty': 1390, 'unseen': 4678, 'definition': 1163, 'scarecrow': 3804, 'lonely': 2643, 'corruption': 1002, 'identify': 2216, 'murphy': 2944, 'scooby': 3820, 'doo': 1325, 'officers': 3093, 'damage': 1099, 'karen': 2444, 'randomly': 3515, 'threat': 4467, 'catches': 715, 'angela': 232, 'perry': 3237, 'balls': 390, 'amanda': 205, 'schools': 3814, 'snake': 4042, 'agents': 151, 'cd': 728, 'purchase': 3469, 'porno': 3337, 'expressed': 1601, 'section': 3853, 'cary': 706, 'temple': 4398, 'arrive': 300, 'surviving': 4323, 'doctors': 1305, 'tad': 4347, 'devoid': 1230, 'mafia': 2700, 'progress': 3425, 'attached': 336, 'countless': 1012, 'crash': 1033, 'burning': 627, 'teeth': 4393, 'freak': 1824, 'department': 1182, 'creep': 1051, 'robbery': 3711, 'beneath': 464, 'receive': 3563, 'stronger': 4230, 'overdone': 3152, 'sport': 4129, 'questionable': 3488, 'hamilton': 2012, 'reveals': 3673, 'grab': 1949, 'irrelevant': 2358, 'witnesses': 4916, 'sincere': 3991, 'akshay': 169, 'critic': 1061, 'irony': 2357, 'reed': 3580, 'bands': 392, 'ticket': 4487, 'thrillers': 4473, 'gifted': 1907, 'dramas': 1347, 'opportunities': 3120, 'spiritual': 4116, 'prom': 3429, 'excessive': 1560, 'cities': 823, 'losers': 2656, 'wisdom': 4902, 'innovative': 2295, 'purchased': 3470, 'bottle': 550, 'valley': 4707, 'increasingly': 2268, 'decisions': 1152, 'chances': 748, 'ocean': 3079, 'analysis': 224, 'digital': 1251, 'escaped': 1518, 'territory': 4411, 'understated': 4646, 'resemblance': 3645, 'equivalent': 1512, '3000': 43, 'adams': 112, 'pursuit': 3476, 'sellers': 3872, 'alongside': 196, 'winds': 4895, 'staged': 4140, 'empathy': 1462, 'satisfy': 3790, 'loosely': 2651, 'miike': 2837, 'satisfied': 3789, 'forbidden': 1785, 'gain': 1863, 'incompetent': 2266, 'ham': 2011, 'resulting': 3661, 'dolph': 1317, 'sidekick': 3966, 'tends': 4402, 'edie': 1419, 'sadness': 3770, 'nomination': 3026, 'forms': 1801, 'instinct': 2308, 'enjoyment': 1488, 'arnold': 296, 'carrie': 697, 'blatant': 502, 'usa': 4691, 'fx': 1858, 'waves': 4819, 'devoted': 1231, 'reaches': 3538, 'rid': 3690, 'jon': 2416, 'communist': 907, 'richardson': 3688, 'uninteresting': 4660, 'object': 3066, 'bacall': 377, 'fbi': 1675, 'ensues': 1493, 'intent': 2318, 'inevitably': 2283, 'voight': 4764, 'criminals': 1058, 'columbo': 881, 'cliche': 843, 'atlantis': 332, 'brosnan': 597, 'protagonists': 3442, 'facing': 1620, 'victoria': 4732, 'emily': 1456, 'blunt': 520, 'noble': 3021, 'screens': 3832, 'voiced': 4762, 'le': 2544, 'eva': 1531, 'photos': 3261, 'fisher': 1739, 'catchy': 717, 'brutally': 604, 'lumet': 2688, 'revealed': 3671, 'solo': 4058, 'der': 1191, 'stereotype': 4178, 'nyc': 3065, 'credible': 1048, 'scope': 3821, 'imagined': 2239, 'improve': 2254, 'canada': 666, 'burt': 629, 'testament': 4417, 'derek': 1192, 'ninja': 3018, 'shortly': 3947, 'enemies': 1476, 'dawson': 1128, 'seed': 3856, 'sink': 3999, 'downhill': 1336, 'mickey': 2831, 'phony': 3256, 'ratings': 3530, 'tonight': 4519, 'clip': 851, 'cabin': 643, 'distribution': 1298, 'bud': 607, 'contained': 963, 'tremendous': 4579, 'giallo': 1904, 'suggests': 4282, 'bag': 384, 'returned': 3666, 'pit': 3278, 'hank': 2024, 'stevens': 4183, 'methods': 2825, 'heights': 2073, 'poetic': 3313, 'orange': 3125, 'jaws': 2385, 'marks': 2742, 'rap': 3520, 'godzilla': 1929, '1999': 27, 'spoke': 4125, 'angle': 236, 'june': 2433, 'bell': 458, 'justin': 2440, 'westerns': 4854, 'nuts': 3064, 'alexander': 180, 'compelled': 915, 'chicks': 787, 'blake': 498, 'oz': 3160, 'rat': 3525, 'rats': 3531, 'franco': 1820, '1973': 19, 'aids': 161, 'portion': 3338, 'emphasis': 1463, '1972': 18, 'hudson': 2184, 'madonna': 2699, 'widow': 4883, 'nicholas': 3010, 'horrors': 2169, 'destiny': 1212, 'kitchen': 2485, 'carrying': 701, 'shake': 3914, 'elvira': 1450, 'rocks': 3722, 'pleased': 3305, 'ginger': 1908, 'li': 2587, 'mildred': 2841, 'waitress': 4773, 'fonda': 1777, 'prisoner': 3402, 'experiments': 1584, 'tracy': 4546, 'wendy': 4846, 'khan': 2459, 'defined': 1160, 'historically': 2120, 'laws': 2540, 'grandfather': 1954, 'copies': 992, 'subplot': 4255, 'stargate': 4151, 'dutch': 1389, 'conservative': 948, 'beatty': 427, 'bakshi': 386, 'challenging': 744, 'mundane': 2938, 'poem': 3312, 'gundam': 1997, 'unaware': 4632, 'implausible': 2245, 'dickens': 1240, 'generations': 1884, 'houses': 2180, 'fields': 1705, 'property': 3438, 'poetry': 3314, 'davies': 1125, 'counter': 1011, 'streep': 4215, 'soccer': 4048, 'construction': 960, 'streisand': 4218}\n"
     ]
    }
   ],
   "source": [
    "print(str(vocabulary))"
   ]
  },
  {
   "cell_type": "markdown",
   "metadata": {},
   "source": [
    "Once you have added the endpoint name to the Lambda function, click on **Save**. Your Lambda function is now up and running. Next we need to create a way for our web app to execute the Lambda function."
   ]
  },
  {
   "cell_type": "markdown",
   "metadata": {},
   "source": [
    "### Setting up API Gateway\n",
    "\n",
    "Now that our Lambda function is set up, it is time to create a new API using API Gateway that will trigger the Lambda function we have just created.\n",
    "\n",
    "Using AWS Console, navigate to **Amazon API Gateway** and then click on **Get started**.\n",
    "\n",
    "On the next page, make sure that **New API** is selected and give the new api a name, for example, `sentiment_analysis_web_app`. Then, click on **Create API**.\n",
    "\n",
    "Now we have created an API, however it doesn't currently do anything. What we want it to do is to trigger the Lambda function that we created earlier.\n",
    "\n",
    "Select the **Actions** dropdown menu and click **Create Method**. A new blank method will be created, select its dropdown menu and select **POST**, then click on the check mark beside it.\n",
    "\n",
    "For the integration point, make sure that **Lambda Function** is selected and click on the **Use Lambda Proxy integration**. This option makes sure that the data that is sent to the API is then sent directly to the Lambda function with no processing. It also means that the return value must be a proper response object as it will also not be processed by API Gateway.\n",
    "\n",
    "Type the name of the Lambda function you created earlier into the **Lambda Function** text entry box and then click on **Save**. Click on **OK** in the pop-up box that then appears, giving permission to API Gateway to invoke the Lambda function you created.\n",
    "\n",
    "The last step in creating the API Gateway is to select the **Actions** dropdown and click on **Deploy API**. You will need to create a new Deployment stage and name it anything you like, for example `prod`.\n",
    "\n",
    "You have now successfully set up a public API to access your SageMaker model. Make sure to copy or write down the URL provided to invoke your newly created public API as this will be needed in the next step. This URL can be found at the top of the page, highlighted in blue next to the text **Invoke URL**."
   ]
  },
  {
   "cell_type": "markdown",
   "metadata": {},
   "source": [
    "## Step 7: Deploying our web app\n",
    "\n",
    "Now that we have a publicly available API, we can start using it in a web app. For our purposes, we have provided a simple static html file which can make use of the public api you created earlier.\n",
    "\n",
    "In the `website` folder there should be a file called `index.html`. Download the file to your computer and open that file up in a text editor of your choice. There should be a line which contains **\\*\\*REPLACE WITH PUBLIC API URL\\*\\***. Replace this string with the url that you wrote down in the last step and then save the file.\n",
    "\n",
    "Now, if you open `index.html` on your local computer, your browser will behave as a local web server and you can use the provided site to interact with your SageMaker model.\n",
    "\n",
    "If you'd like to go further, you can host this html file anywhere you'd like, for example using github or hosting a static site on Amazon's S3. Once you have done this you can share the link with anyone you'd like and have them play with it too!\n",
    "\n",
    "> **Important Note** In order for the web app to communicate with the SageMaker endpoint, the endpoint has to actually be deployed and running. This means that you are paying for it. Make sure that the endpoint is running when you want to use the web app but that you shut it down when you don't need it, otherwise you will end up with a surprisingly large AWS bill."
   ]
  },
  {
   "cell_type": "markdown",
   "metadata": {},
   "source": [
    "### Delete the endpoint\n",
    "\n",
    "Remember to always shut down your endpoint if you are no longer using it. You are charged for the length of time that the endpoint is running so if you forget and leave it on you could end up with an unexpectedly large bill."
   ]
  },
  {
   "cell_type": "code",
   "execution_count": 56,
   "metadata": {},
   "outputs": [],
   "source": [
    "xgb_predictor.delete_endpoint()"
   ]
  },
  {
   "cell_type": "markdown",
   "metadata": {},
   "source": [
    "## Optional: Clean up\n",
    "\n",
    "The default notebook instance on SageMaker doesn't have a lot of excess disk space available. As you continue to complete and execute notebooks you will eventually fill up this disk space, leading to errors which can be difficult to diagnose. Once you are completely finished using a notebook it is a good idea to remove the files that you created along the way. Of course, you can do this from the terminal or from the notebook hub if you would like. The cell below contains some commands to clean up the created files from within the notebook."
   ]
  },
  {
   "cell_type": "code",
   "execution_count": 58,
   "metadata": {},
   "outputs": [
    {
     "ename": "OSError",
     "evalue": "[Errno 12] Cannot allocate memory",
     "output_type": "error",
     "traceback": [
      "\u001b[0;31m---------------------------------------------------------------------------\u001b[0m",
      "\u001b[0;31mOSError\u001b[0m                                   Traceback (most recent call last)",
      "\u001b[0;32m<ipython-input-58-2c87d8eefdf2>\u001b[0m in \u001b[0;36m<module>\u001b[0;34m()\u001b[0m\n\u001b[1;32m      1\u001b[0m \u001b[0;31m# First we will remove all of the files contained in the data_dir directory\u001b[0m\u001b[0;34m\u001b[0m\u001b[0;34m\u001b[0m\u001b[0m\n\u001b[0;32m----> 2\u001b[0;31m \u001b[0mget_ipython\u001b[0m\u001b[0;34m(\u001b[0m\u001b[0;34m)\u001b[0m\u001b[0;34m.\u001b[0m\u001b[0msystem\u001b[0m\u001b[0;34m(\u001b[0m\u001b[0;34m'rm $data_dir/*'\u001b[0m\u001b[0;34m)\u001b[0m\u001b[0;34m\u001b[0m\u001b[0m\n\u001b[0m\u001b[1;32m      3\u001b[0m \u001b[0;34m\u001b[0m\u001b[0m\n\u001b[1;32m      4\u001b[0m \u001b[0;31m# And then we delete the directory itself\u001b[0m\u001b[0;34m\u001b[0m\u001b[0;34m\u001b[0m\u001b[0m\n\u001b[1;32m      5\u001b[0m \u001b[0mget_ipython\u001b[0m\u001b[0;34m(\u001b[0m\u001b[0;34m)\u001b[0m\u001b[0;34m.\u001b[0m\u001b[0msystem\u001b[0m\u001b[0;34m(\u001b[0m\u001b[0;34m'rmdir $data_dir'\u001b[0m\u001b[0;34m)\u001b[0m\u001b[0;34m\u001b[0m\u001b[0m\n",
      "\u001b[0;32m~/anaconda3/envs/python3/lib/python3.6/site-packages/IPython/core/interactiveshell.py\u001b[0m in \u001b[0;36msystem_piped\u001b[0;34m(self, cmd)\u001b[0m\n\u001b[1;32m   2259\u001b[0m         \u001b[0;31m# a non-None value would trigger :func:`sys.displayhook` calls.\u001b[0m\u001b[0;34m\u001b[0m\u001b[0;34m\u001b[0m\u001b[0m\n\u001b[1;32m   2260\u001b[0m         \u001b[0;31m# Instead, we store the exit_code in user_ns.\u001b[0m\u001b[0;34m\u001b[0m\u001b[0;34m\u001b[0m\u001b[0m\n\u001b[0;32m-> 2261\u001b[0;31m         \u001b[0mself\u001b[0m\u001b[0;34m.\u001b[0m\u001b[0muser_ns\u001b[0m\u001b[0;34m[\u001b[0m\u001b[0;34m'_exit_code'\u001b[0m\u001b[0;34m]\u001b[0m \u001b[0;34m=\u001b[0m \u001b[0msystem\u001b[0m\u001b[0;34m(\u001b[0m\u001b[0mself\u001b[0m\u001b[0;34m.\u001b[0m\u001b[0mvar_expand\u001b[0m\u001b[0;34m(\u001b[0m\u001b[0mcmd\u001b[0m\u001b[0;34m,\u001b[0m \u001b[0mdepth\u001b[0m\u001b[0;34m=\u001b[0m\u001b[0;36m1\u001b[0m\u001b[0;34m)\u001b[0m\u001b[0;34m)\u001b[0m\u001b[0;34m\u001b[0m\u001b[0m\n\u001b[0m\u001b[1;32m   2262\u001b[0m \u001b[0;34m\u001b[0m\u001b[0m\n\u001b[1;32m   2263\u001b[0m     \u001b[0;32mdef\u001b[0m \u001b[0msystem_raw\u001b[0m\u001b[0;34m(\u001b[0m\u001b[0mself\u001b[0m\u001b[0;34m,\u001b[0m \u001b[0mcmd\u001b[0m\u001b[0;34m)\u001b[0m\u001b[0;34m:\u001b[0m\u001b[0;34m\u001b[0m\u001b[0m\n",
      "\u001b[0;32m~/anaconda3/envs/python3/lib/python3.6/site-packages/IPython/utils/_process_posix.py\u001b[0m in \u001b[0;36msystem\u001b[0;34m(self, cmd)\u001b[0m\n\u001b[1;32m    154\u001b[0m                 \u001b[0mchild\u001b[0m \u001b[0;34m=\u001b[0m \u001b[0mpexpect\u001b[0m\u001b[0;34m.\u001b[0m\u001b[0mspawnb\u001b[0m\u001b[0;34m(\u001b[0m\u001b[0mself\u001b[0m\u001b[0;34m.\u001b[0m\u001b[0msh\u001b[0m\u001b[0;34m,\u001b[0m \u001b[0margs\u001b[0m\u001b[0;34m=\u001b[0m\u001b[0;34m[\u001b[0m\u001b[0;34m'-c'\u001b[0m\u001b[0;34m,\u001b[0m \u001b[0mcmd\u001b[0m\u001b[0;34m]\u001b[0m\u001b[0;34m)\u001b[0m \u001b[0;31m# Pexpect-U\u001b[0m\u001b[0;34m\u001b[0m\u001b[0m\n\u001b[1;32m    155\u001b[0m             \u001b[0;32melse\u001b[0m\u001b[0;34m:\u001b[0m\u001b[0;34m\u001b[0m\u001b[0m\n\u001b[0;32m--> 156\u001b[0;31m                 \u001b[0mchild\u001b[0m \u001b[0;34m=\u001b[0m \u001b[0mpexpect\u001b[0m\u001b[0;34m.\u001b[0m\u001b[0mspawn\u001b[0m\u001b[0;34m(\u001b[0m\u001b[0mself\u001b[0m\u001b[0;34m.\u001b[0m\u001b[0msh\u001b[0m\u001b[0;34m,\u001b[0m \u001b[0margs\u001b[0m\u001b[0;34m=\u001b[0m\u001b[0;34m[\u001b[0m\u001b[0;34m'-c'\u001b[0m\u001b[0;34m,\u001b[0m \u001b[0mcmd\u001b[0m\u001b[0;34m]\u001b[0m\u001b[0;34m)\u001b[0m  \u001b[0;31m# Vanilla Pexpect\u001b[0m\u001b[0;34m\u001b[0m\u001b[0m\n\u001b[0m\u001b[1;32m    157\u001b[0m             \u001b[0mflush\u001b[0m \u001b[0;34m=\u001b[0m \u001b[0msys\u001b[0m\u001b[0;34m.\u001b[0m\u001b[0mstdout\u001b[0m\u001b[0;34m.\u001b[0m\u001b[0mflush\u001b[0m\u001b[0;34m\u001b[0m\u001b[0m\n\u001b[1;32m    158\u001b[0m             \u001b[0;32mwhile\u001b[0m \u001b[0;32mTrue\u001b[0m\u001b[0;34m:\u001b[0m\u001b[0;34m\u001b[0m\u001b[0m\n",
      "\u001b[0;32m~/anaconda3/envs/python3/lib/python3.6/site-packages/pexpect/pty_spawn.py\u001b[0m in \u001b[0;36m__init__\u001b[0;34m(self, command, args, timeout, maxread, searchwindowsize, logfile, cwd, env, ignore_sighup, echo, preexec_fn, encoding, codec_errors, dimensions, use_poll)\u001b[0m\n\u001b[1;32m    202\u001b[0m             \u001b[0mself\u001b[0m\u001b[0;34m.\u001b[0m\u001b[0mname\u001b[0m \u001b[0;34m=\u001b[0m \u001b[0;34m'<pexpect factory incomplete>'\u001b[0m\u001b[0;34m\u001b[0m\u001b[0m\n\u001b[1;32m    203\u001b[0m         \u001b[0;32melse\u001b[0m\u001b[0;34m:\u001b[0m\u001b[0;34m\u001b[0m\u001b[0m\n\u001b[0;32m--> 204\u001b[0;31m             \u001b[0mself\u001b[0m\u001b[0;34m.\u001b[0m\u001b[0m_spawn\u001b[0m\u001b[0;34m(\u001b[0m\u001b[0mcommand\u001b[0m\u001b[0;34m,\u001b[0m \u001b[0margs\u001b[0m\u001b[0;34m,\u001b[0m \u001b[0mpreexec_fn\u001b[0m\u001b[0;34m,\u001b[0m \u001b[0mdimensions\u001b[0m\u001b[0;34m)\u001b[0m\u001b[0;34m\u001b[0m\u001b[0m\n\u001b[0m\u001b[1;32m    205\u001b[0m         \u001b[0mself\u001b[0m\u001b[0;34m.\u001b[0m\u001b[0muse_poll\u001b[0m \u001b[0;34m=\u001b[0m \u001b[0muse_poll\u001b[0m\u001b[0;34m\u001b[0m\u001b[0m\n\u001b[1;32m    206\u001b[0m \u001b[0;34m\u001b[0m\u001b[0m\n",
      "\u001b[0;32m~/anaconda3/envs/python3/lib/python3.6/site-packages/pexpect/pty_spawn.py\u001b[0m in \u001b[0;36m_spawn\u001b[0;34m(self, command, args, preexec_fn, dimensions)\u001b[0m\n\u001b[1;32m    301\u001b[0m \u001b[0;34m\u001b[0m\u001b[0m\n\u001b[1;32m    302\u001b[0m         self.ptyproc = self._spawnpty(self.args, env=self.env,\n\u001b[0;32m--> 303\u001b[0;31m                                      cwd=self.cwd, **kwargs)\n\u001b[0m\u001b[1;32m    304\u001b[0m \u001b[0;34m\u001b[0m\u001b[0m\n\u001b[1;32m    305\u001b[0m         \u001b[0mself\u001b[0m\u001b[0;34m.\u001b[0m\u001b[0mpid\u001b[0m \u001b[0;34m=\u001b[0m \u001b[0mself\u001b[0m\u001b[0;34m.\u001b[0m\u001b[0mptyproc\u001b[0m\u001b[0;34m.\u001b[0m\u001b[0mpid\u001b[0m\u001b[0;34m\u001b[0m\u001b[0m\n",
      "\u001b[0;32m~/anaconda3/envs/python3/lib/python3.6/site-packages/pexpect/pty_spawn.py\u001b[0m in \u001b[0;36m_spawnpty\u001b[0;34m(self, args, **kwargs)\u001b[0m\n\u001b[1;32m    312\u001b[0m     \u001b[0;32mdef\u001b[0m \u001b[0m_spawnpty\u001b[0m\u001b[0;34m(\u001b[0m\u001b[0mself\u001b[0m\u001b[0;34m,\u001b[0m \u001b[0margs\u001b[0m\u001b[0;34m,\u001b[0m \u001b[0;34m**\u001b[0m\u001b[0mkwargs\u001b[0m\u001b[0;34m)\u001b[0m\u001b[0;34m:\u001b[0m\u001b[0;34m\u001b[0m\u001b[0m\n\u001b[1;32m    313\u001b[0m         \u001b[0;34m'''Spawn a pty and return an instance of PtyProcess.'''\u001b[0m\u001b[0;34m\u001b[0m\u001b[0m\n\u001b[0;32m--> 314\u001b[0;31m         \u001b[0;32mreturn\u001b[0m \u001b[0mptyprocess\u001b[0m\u001b[0;34m.\u001b[0m\u001b[0mPtyProcess\u001b[0m\u001b[0;34m.\u001b[0m\u001b[0mspawn\u001b[0m\u001b[0;34m(\u001b[0m\u001b[0margs\u001b[0m\u001b[0;34m,\u001b[0m \u001b[0;34m**\u001b[0m\u001b[0mkwargs\u001b[0m\u001b[0;34m)\u001b[0m\u001b[0;34m\u001b[0m\u001b[0m\n\u001b[0m\u001b[1;32m    315\u001b[0m \u001b[0;34m\u001b[0m\u001b[0m\n\u001b[1;32m    316\u001b[0m     \u001b[0;32mdef\u001b[0m \u001b[0mclose\u001b[0m\u001b[0;34m(\u001b[0m\u001b[0mself\u001b[0m\u001b[0;34m,\u001b[0m \u001b[0mforce\u001b[0m\u001b[0;34m=\u001b[0m\u001b[0;32mTrue\u001b[0m\u001b[0;34m)\u001b[0m\u001b[0;34m:\u001b[0m\u001b[0;34m\u001b[0m\u001b[0m\n",
      "\u001b[0;32m~/anaconda3/envs/python3/lib/python3.6/site-packages/ptyprocess/ptyprocess.py\u001b[0m in \u001b[0;36mspawn\u001b[0;34m(cls, argv, cwd, env, echo, preexec_fn, dimensions)\u001b[0m\n\u001b[1;32m    220\u001b[0m \u001b[0;34m\u001b[0m\u001b[0m\n\u001b[1;32m    221\u001b[0m         \u001b[0;32mif\u001b[0m \u001b[0muse_native_pty_fork\u001b[0m\u001b[0;34m:\u001b[0m\u001b[0;34m\u001b[0m\u001b[0m\n\u001b[0;32m--> 222\u001b[0;31m             \u001b[0mpid\u001b[0m\u001b[0;34m,\u001b[0m \u001b[0mfd\u001b[0m \u001b[0;34m=\u001b[0m \u001b[0mpty\u001b[0m\u001b[0;34m.\u001b[0m\u001b[0mfork\u001b[0m\u001b[0;34m(\u001b[0m\u001b[0;34m)\u001b[0m\u001b[0;34m\u001b[0m\u001b[0m\n\u001b[0m\u001b[1;32m    223\u001b[0m         \u001b[0;32melse\u001b[0m\u001b[0;34m:\u001b[0m\u001b[0;34m\u001b[0m\u001b[0m\n\u001b[1;32m    224\u001b[0m             \u001b[0;31m# Use internal fork_pty, for Solaris\u001b[0m\u001b[0;34m\u001b[0m\u001b[0;34m\u001b[0m\u001b[0m\n",
      "\u001b[0;32m~/anaconda3/envs/python3/lib/python3.6/pty.py\u001b[0m in \u001b[0;36mfork\u001b[0;34m()\u001b[0m\n\u001b[1;32m     95\u001b[0m \u001b[0;34m\u001b[0m\u001b[0m\n\u001b[1;32m     96\u001b[0m     \u001b[0mmaster_fd\u001b[0m\u001b[0;34m,\u001b[0m \u001b[0mslave_fd\u001b[0m \u001b[0;34m=\u001b[0m \u001b[0mopenpty\u001b[0m\u001b[0;34m(\u001b[0m\u001b[0;34m)\u001b[0m\u001b[0;34m\u001b[0m\u001b[0m\n\u001b[0;32m---> 97\u001b[0;31m     \u001b[0mpid\u001b[0m \u001b[0;34m=\u001b[0m \u001b[0mos\u001b[0m\u001b[0;34m.\u001b[0m\u001b[0mfork\u001b[0m\u001b[0;34m(\u001b[0m\u001b[0;34m)\u001b[0m\u001b[0;34m\u001b[0m\u001b[0m\n\u001b[0m\u001b[1;32m     98\u001b[0m     \u001b[0;32mif\u001b[0m \u001b[0mpid\u001b[0m \u001b[0;34m==\u001b[0m \u001b[0mCHILD\u001b[0m\u001b[0;34m:\u001b[0m\u001b[0;34m\u001b[0m\u001b[0m\n\u001b[1;32m     99\u001b[0m         \u001b[0;31m# Establish a new session.\u001b[0m\u001b[0;34m\u001b[0m\u001b[0;34m\u001b[0m\u001b[0m\n",
      "\u001b[0;31mOSError\u001b[0m: [Errno 12] Cannot allocate memory"
     ]
    }
   ],
   "source": [
    "# First we will remove all of the files contained in the data_dir directory\n",
    "!rm $data_dir/*\n",
    "\n",
    "# And then we delete the directory itself\n",
    "!rmdir $data_dir\n",
    "\n",
    "# Similarly we remove the files in the cache_dir directory and the directory itself\n",
    "!rm $cache_dir/*\n",
    "!rmdir $cache_dir"
   ]
  },
  {
   "cell_type": "code",
   "execution_count": null,
   "metadata": {},
   "outputs": [],
   "source": []
  }
 ],
 "metadata": {
  "kernelspec": {
   "display_name": "conda_python3",
   "language": "python",
   "name": "conda_python3"
  },
  "language_info": {
   "codemirror_mode": {
    "name": "ipython",
    "version": 3
   },
   "file_extension": ".py",
   "mimetype": "text/x-python",
   "name": "python",
   "nbconvert_exporter": "python",
   "pygments_lexer": "ipython3",
   "version": "3.6.5"
  }
 },
 "nbformat": 4,
 "nbformat_minor": 2
}
